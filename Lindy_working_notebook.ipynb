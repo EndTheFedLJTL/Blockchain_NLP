{
 "cells": [
  {
   "cell_type": "code",
   "execution_count": 1,
   "id": "6b6568f7",
   "metadata": {},
   "outputs": [],
   "source": [
    "import os\n",
    "import json\n",
    "from typing import Dict, List, Optional, Union, cast\n",
    "from env import github_token, github_username\n",
    "import acquire\n",
    "import pandas as pd\n",
    "import seaborn as sns\n",
    "import requests\n",
    "from bs4 import BeautifulSoup\n",
    "import regex as re\n",
    "import time\n",
    "import numpy as np\n",
    "import unicodedata\n",
    "import nltk\n",
    "from nltk.tokenize.toktok import ToktokTokenizer\n",
    "from nltk.corpus import stopwords\n",
    "from wordcloud import WordCloud\n",
    "import prepare_repos\n",
    "import collections\n",
    "import matplotlib.pyplot as plt\n",
    "from sklearn.tree import DecisionTreeClassifier, plot_tree\n",
    "from sklearn.metrics import classification_report\n",
    "from sklearn.metrics import confusion_matrix"
   ]
  },
  {
   "cell_type": "code",
   "execution_count": null,
   "id": "d35419dc",
   "metadata": {},
   "outputs": [],
   "source": [
    "def create_urls(num=5000):\n",
    "    ''' this function scrapes the cryptography repositories from github and returns a list of urls\n",
    "    '''\n",
    "    num_of_repos=num\n",
    "\n",
    "    page_numbers = [i for i in range(0,101)]\n",
    "    print(page_numbers)\n",
    "    urls = [f'https://github.com/search?p={i}&q=%23defi&type=Repositories&per_page=100' for i in page_numbers]\n",
    "\n",
    "    print(urls)\n",
    "    return urls"
   ]
  },
  {
   "cell_type": "markdown",
   "id": "43f88754",
   "metadata": {},
   "source": [
    "##### create_urls()"
   ]
  },
  {
   "cell_type": "code",
   "execution_count": null,
   "id": "9a1434d9",
   "metadata": {},
   "outputs": [],
   "source": [
    "def get_endpoints(url):\n",
    "    ''' This function gets the endpoints from the list of above urls\n",
    "    '''\n",
    "\n",
    "    headers = {\"Authorization\": f\"token {github_token}\", \"User-Agent\": github_username}\n",
    "    \n",
    "    while True:\n",
    "        response = requests.get(url, headers=headers)\n",
    "        if response.ok:\n",
    "            break\n",
    "        else:\n",
    "            print('sleeping')\n",
    "            time.sleep(20)\n",
    "            continue\n",
    "    soup = BeautifulSoup(response.text)\n",
    "    \n",
    "    print(response.ok)\n",
    "\n",
    "    endpoints = []\n",
    "    subgroups = soup.find_all('div', {\"class\":\"f4 text-normal\"})\n",
    "\n",
    "    for group in subgroups:\n",
    "        endpoints.append(re.search('href=\".*\"', str(group))[0][6:-1])\n",
    "\n",
    "    return endpoints"
   ]
  },
  {
   "cell_type": "code",
   "execution_count": null,
   "id": "c54e8d0a",
   "metadata": {},
   "outputs": [],
   "source": [
    "get_endpoints('https://github.com/search?p=100&q=%23defi&type=Repositories&per_page=100')"
   ]
  },
  {
   "cell_type": "code",
   "execution_count": null,
   "id": "c77cbdb9",
   "metadata": {},
   "outputs": [],
   "source": [
    "def make_all_endpoints():\n",
    "    ''' This function returns all of the endpoints\n",
    "    '''\n",
    "    urls = create_urls()\n",
    "    for url in urls:\n",
    "        print(url)\n",
    "    all_endpoints = []\n",
    "\n",
    "    for i, page in enumerate(urls):\n",
    "        all_endpoints.append(get_endpoints(page))\n",
    "        print(page)\n",
    "\n",
    "    print(len(all_endpoints))\n",
    "\n",
    "    return all_endpoints"
   ]
  },
  {
   "cell_type": "code",
   "execution_count": null,
   "id": "221bc4f3",
   "metadata": {},
   "outputs": [],
   "source": [
    "make_all_endpoints()"
   ]
  },
  {
   "cell_type": "code",
   "execution_count": null,
   "id": "dac3c61c",
   "metadata": {},
   "outputs": [],
   "source": [
    "def acquire_endpoints():\n",
    "    ''' This function acquires all endpoints and writes them to a csv.\n",
    "    '''\n",
    "    our_endpoints = pd.Series(make_all_endpoints(), name='endpoints')\n",
    "    our_endpoints.to_csv('endpoints.csv', index=False)\n",
    "\n",
    "    return our_endpoints"
   ]
  },
  {
   "cell_type": "code",
   "execution_count": null,
   "id": "4e1a7b87",
   "metadata": {},
   "outputs": [],
   "source": [
    "x=acquire_endpoints()"
   ]
  },
  {
   "cell_type": "code",
   "execution_count": null,
   "id": "0aec36cb",
   "metadata": {},
   "outputs": [],
   "source": [
    "def flatten_endpoints():\n",
    "    ''' This function flattens a 2d array into a 1d array\n",
    "    '''\n",
    "    end_points = pd.read_csv('endpoints.csv')\n",
    "    all_values = []\n",
    "    for value in end_points.values:\n",
    "        for ep in value:\n",
    "            all_values.append(ep)\n",
    "\n",
    "    final_values = []\n",
    "    #print(all_values)\n",
    "    for value in all_values:\n",
    "        for val in value.split(\"'\"):\n",
    "            if len(val) > 3:\n",
    "                final_values.append(val)\n",
    "                print(val)\n",
    "\n",
    "    return pd.Series(final_values, name='endpoints')"
   ]
  },
  {
   "cell_type": "code",
   "execution_count": null,
   "id": "eda6faf3",
   "metadata": {},
   "outputs": [],
   "source": [
    "endpoints = flatten_endpoints()"
   ]
  },
  {
   "cell_type": "code",
   "execution_count": null,
   "id": "d8fc18e4",
   "metadata": {},
   "outputs": [],
   "source": [
    "REPOS = list(endpoints)"
   ]
  },
  {
   "cell_type": "code",
   "execution_count": null,
   "id": "fd1a9de7",
   "metadata": {},
   "outputs": [],
   "source": [
    "REPOS[5:]"
   ]
  },
  {
   "cell_type": "code",
   "execution_count": null,
   "id": "6f898e07",
   "metadata": {},
   "outputs": [],
   "source": [
    "\n",
    "headers = {\"Authorization\": f\"token {github_token}\", \"User-Agent\": github_username}\n",
    "\n",
    "if headers[\"Authorization\"] == \"token \" or headers[\"User-Agent\"] == \"\":\n",
    "    raise Exception(\n",
    "        \"You need to follow the instructions marked TODO in this script before trying to use it\"\n",
    "    )\n",
    "\n",
    "\n",
    "def github_api_request(url: str) -> Union[List, Dict]:\n",
    "    ''' This function makes requests from github and raises an error code if a specific error code is received.\n",
    "    '''\n",
    "    response = requests.get(url, headers=headers)\n",
    "    response_data = response.json()\n",
    "    if response.status_code != 200:\n",
    "        raise Exception(\n",
    "            f\"Error response from github api! status code: {response.status_code}, \"\n",
    "            f\"response: {json.dumps(response_data)}\"\n",
    "        )\n",
    "    return response_data\n",
    "\n",
    "\n",
    "def get_repo_language(repo: str) -> str:\n",
    "    ''' This function fetches the language associated with a repository\n",
    "    '''\n",
    "    url = f\"https://api.github.com/repos{repo}\"\n",
    "    repo_info = github_api_request(url)\n",
    "    if type(repo_info) is dict:\n",
    "        repo_info = cast(Dict, repo_info)\n",
    "        if \"language\" not in repo_info:\n",
    "            raise Exception(\n",
    "                \"'language' key not round in response\\n{}\".format(json.dumps(repo_info))\n",
    "            )\n",
    "        return repo_info[\"language\"]\n",
    "    raise Exception(\n",
    "        f\"Expecting a dictionary response from {url}, instead got {json.dumps(repo_info)}\"\n",
    "    )\n",
    "\n",
    "def get_repo_contents(repo: str) -> List[Dict[str, str]]:\n",
    "    ''' This function fetches the contents associated with a repo\n",
    "    '''\n",
    "    url = f\"https://api.github.com/repos{REPOS}/contents/\"\n",
    "    contents = github_api_request(url)\n",
    "    if type(contents) is list:\n",
    "        contents = cast(List, contents)\n",
    "        return contents\n",
    "    raise Exception(\n",
    "        f\"Expecting a list response from {url}, instead got {json.dumps(contents)}\"\n",
    "    )\n",
    "\n",
    "def get_readme_download_url(files: List[Dict[str, str]]) -> str:\n",
    "    \"\"\"\n",
    "    Takes in a response from the github api that lists the files in a repo and\n",
    "    returns the url that can be used to download the repo's README file.\n",
    "    \"\"\"\n",
    "    for file in files:\n",
    "        if file[\"name\"].lower().startswith(\"readme\"):\n",
    "            return file[\"download_url\"]\n",
    "    return \"\"\n",
    "\n",
    "def process_repo(repo: str) -> Dict[str, str]:\n",
    "    \"\"\"\n",
    "    Takes a repo name like \"gocodeup/codeup-setup-script\" and returns a\n",
    "    dictionary with the language of the repo and the readme contents.\n",
    "    \"\"\"\n",
    "    contents = get_repo_contents(repo)\n",
    "    readme_download_url = get_readme_download_url(contents)\n",
    "    if readme_download_url == \"\":\n",
    "        readme_contents = \"\"\n",
    "    else:\n",
    "        response = requests.get(readme_download_url)\n",
    "        print(readme_download_url)\n",
    "        print(response.status_code)\n",
    "        readme_contents = requests.get(readme_download_url).text\n",
    "        \n",
    "    return {\n",
    "        \"repo\": repo,\n",
    "        \"language\": get_repo_language(repo),\n",
    "        \"readme_contents\": readme_contents,\n",
    "    }\n"
   ]
  },
  {
   "cell_type": "code",
   "execution_count": null,
   "id": "8d056814",
   "metadata": {},
   "outputs": [],
   "source": [
    "def scrape_github_data() -> List[Dict[str, str]]:\n",
    "    \"\"\"\n",
    "    Loop through all of the repos and process them. Returns the processed data.\n",
    "    \"\"\"\n",
    "    \n",
    "    output = []\n",
    "    for repo in REPOS:\n",
    "        \n",
    "        url = f\"https://api.github.com/repos{repo}/contents/\"\n",
    "        print(repo)\n",
    "        response = requests.get(url, headers=headers)\n",
    "        \n",
    "        if response.status_code != 200:\n",
    "            print(f\"Skipping {repo} because its HTTP status code is {response.status_code}\")\n",
    "            continue\n",
    "        \n",
    "        contents = response.json()\n",
    "        readme_download_url = get_readme_download_url(contents)\n",
    "        \n",
    "        if readme_download_url == \"\":\n",
    "            readme_contents = \"\"\n",
    "        else:\n",
    "            response = requests.get(readme_download_url)\n",
    "            if response.status_code != 200:\n",
    "                print(f\"Skipping {repo} because its HTTP status code is {response.status_code}\")\n",
    "                continue\n",
    "            readme_contents = requests.get(readme_download_url).text\n",
    "        print(repo)\n",
    "        result = {\n",
    "            \"repo\": repo,\n",
    "            \"language\": get_repo_language(repo),\n",
    "            \"readme_contents\": readme_contents,\n",
    "        }\n",
    "    \n",
    "        output.append(result)\n",
    "        \n",
    "    return output"
   ]
  },
  {
   "cell_type": "code",
   "execution_count": null,
   "id": "6386f16c",
   "metadata": {},
   "outputs": [],
   "source": [
    "data = scrape_github_data()"
   ]
  },
  {
   "cell_type": "code",
   "execution_count": null,
   "id": "5202725c",
   "metadata": {},
   "outputs": [],
   "source": [
    "data[:5]"
   ]
  },
  {
   "cell_type": "code",
   "execution_count": null,
   "id": "172dc6ae",
   "metadata": {},
   "outputs": [],
   "source": [
    "import csv\n",
    "to_csv = data\n",
    "keys = to_csv[0].keys()\n",
    "\n",
    "with open('data.csv', 'w', newline='') as output_file:\n",
    "    dict_writer = csv.DictWriter(output_file, keys)\n",
    "    dict_writer.writeheader()\n",
    "    dict_writer.writerows(to_csv)"
   ]
  },
  {
   "cell_type": "code",
   "execution_count": 2,
   "id": "2cd37d44",
   "metadata": {},
   "outputs": [
    {
     "data": {
      "text/html": [
       "<div>\n",
       "<style scoped>\n",
       "    .dataframe tbody tr th:only-of-type {\n",
       "        vertical-align: middle;\n",
       "    }\n",
       "\n",
       "    .dataframe tbody tr th {\n",
       "        vertical-align: top;\n",
       "    }\n",
       "\n",
       "    .dataframe thead th {\n",
       "        text-align: right;\n",
       "    }\n",
       "</style>\n",
       "<table border=\"1\" class=\"dataframe\">\n",
       "  <thead>\n",
       "    <tr style=\"text-align: right;\">\n",
       "      <th></th>\n",
       "      <th>repo</th>\n",
       "      <th>language</th>\n",
       "      <th>readme_contents</th>\n",
       "    </tr>\n",
       "  </thead>\n",
       "  <tbody>\n",
       "    <tr>\n",
       "      <th>0</th>\n",
       "      <td>/OffcierCia/DeFi-Developer-Road-Map</td>\n",
       "      <td>NaN</td>\n",
       "      <td># DeFi Developer Road Map\\n\\n**Here we collect...</td>\n",
       "    </tr>\n",
       "    <tr>\n",
       "      <th>1</th>\n",
       "      <td>/smartcontractkit/full-blockchain-solidity-cou...</td>\n",
       "      <td>NaN</td>\n",
       "      <td>&lt;!-- [YouTube Video](https://www.youtube.com/w...</td>\n",
       "    </tr>\n",
       "    <tr>\n",
       "      <th>2</th>\n",
       "      <td>/rainbow-me/rainbow</td>\n",
       "      <td>TypeScript</td>\n",
       "      <td>![](https://pbs.twimg.com/profile_banners/1103...</td>\n",
       "    </tr>\n",
       "    <tr>\n",
       "      <th>3</th>\n",
       "      <td>/Bytom/bytom</td>\n",
       "      <td>Go</td>\n",
       "      <td>Bytom\\n======\\n\\n[![Build Status](https://trav...</td>\n",
       "    </tr>\n",
       "    <tr>\n",
       "      <th>4</th>\n",
       "      <td>/DimensionDev/Maskbook</td>\n",
       "      <td>TypeScript</td>\n",
       "      <td>&lt;!-- cspell:disable --&gt;\\n&lt;!-- markdownlint-dis...</td>\n",
       "    </tr>\n",
       "  </tbody>\n",
       "</table>\n",
       "</div>"
      ],
      "text/plain": [
       "                                                repo    language  \\\n",
       "0                /OffcierCia/DeFi-Developer-Road-Map         NaN   \n",
       "1  /smartcontractkit/full-blockchain-solidity-cou...         NaN   \n",
       "2                                /rainbow-me/rainbow  TypeScript   \n",
       "3                                       /Bytom/bytom          Go   \n",
       "4                             /DimensionDev/Maskbook  TypeScript   \n",
       "\n",
       "                                     readme_contents  \n",
       "0  # DeFi Developer Road Map\\n\\n**Here we collect...  \n",
       "1  <!-- [YouTube Video](https://www.youtube.com/w...  \n",
       "2  ![](https://pbs.twimg.com/profile_banners/1103...  \n",
       "3  Bytom\\n======\\n\\n[![Build Status](https://trav...  \n",
       "4  <!-- cspell:disable -->\\n<!-- markdownlint-dis...  "
      ]
     },
     "execution_count": 2,
     "metadata": {},
     "output_type": "execute_result"
    }
   ],
   "source": [
    "df = pd.read_csv('data.csv') \n",
    "df.head()"
   ]
  },
  {
   "cell_type": "code",
   "execution_count": null,
   "id": "502388dc",
   "metadata": {},
   "outputs": [],
   "source": [
    "df.language.value_counts()"
   ]
  },
  {
   "cell_type": "markdown",
   "id": "6a599a2d",
   "metadata": {},
   "source": [
    "### Prepare"
   ]
  },
  {
   "cell_type": "code",
   "execution_count": null,
   "id": "46f9e008",
   "metadata": {},
   "outputs": [],
   "source": [
    "df.isnull().sum()"
   ]
  },
  {
   "cell_type": "code",
   "execution_count": 4,
   "id": "fadb9531",
   "metadata": {},
   "outputs": [
    {
     "data": {
      "text/plain": [
       "(976, 3)"
      ]
     },
     "execution_count": 4,
     "metadata": {},
     "output_type": "execute_result"
    }
   ],
   "source": [
    "df = df.dropna()\n",
    "df.shape"
   ]
  },
  {
   "cell_type": "code",
   "execution_count": 3,
   "id": "c2033648",
   "metadata": {},
   "outputs": [
    {
     "data": {
      "text/plain": [
       "(1010, 3)"
      ]
     },
     "execution_count": 3,
     "metadata": {},
     "output_type": "execute_result"
    }
   ],
   "source": [
    "df = prepare_repos.fill_nulls(df)\n",
    "df.shape"
   ]
  },
  {
   "cell_type": "code",
   "execution_count": 5,
   "id": "37f32994",
   "metadata": {},
   "outputs": [
    {
     "data": {
      "text/html": [
       "<div>\n",
       "<style scoped>\n",
       "    .dataframe tbody tr th:only-of-type {\n",
       "        vertical-align: middle;\n",
       "    }\n",
       "\n",
       "    .dataframe tbody tr th {\n",
       "        vertical-align: top;\n",
       "    }\n",
       "\n",
       "    .dataframe thead th {\n",
       "        text-align: right;\n",
       "    }\n",
       "</style>\n",
       "<table border=\"1\" class=\"dataframe\">\n",
       "  <thead>\n",
       "    <tr style=\"text-align: right;\">\n",
       "      <th></th>\n",
       "      <th>repo</th>\n",
       "      <th>language</th>\n",
       "      <th>readme_contents</th>\n",
       "    </tr>\n",
       "  </thead>\n",
       "  <tbody>\n",
       "    <tr>\n",
       "      <th>0</th>\n",
       "      <td>/OffcierCia/DeFi-Developer-Road-Map</td>\n",
       "      <td>Not Specified</td>\n",
       "      <td>defi developer road map\\n\\n  here we collect...</td>\n",
       "    </tr>\n",
       "    <tr>\n",
       "      <th>1</th>\n",
       "      <td>/smartcontractkit/full-blockchain-solidity-cou...</td>\n",
       "      <td>Not Specified</td>\n",
       "      <td>youtube video  https   www youtube com w...</td>\n",
       "    </tr>\n",
       "    <tr>\n",
       "      <th>2</th>\n",
       "      <td>/rainbow-me/rainbow</td>\n",
       "      <td>TypeScript</td>\n",
       "      <td>https   pbs twimg com profile banners 1103...</td>\n",
       "    </tr>\n",
       "    <tr>\n",
       "      <th>3</th>\n",
       "      <td>/Bytom/bytom</td>\n",
       "      <td>Go</td>\n",
       "      <td>bytom\\n      \\n\\n   build status  https   trav...</td>\n",
       "    </tr>\n",
       "    <tr>\n",
       "      <th>4</th>\n",
       "      <td>/DimensionDev/Maskbook</td>\n",
       "      <td>TypeScript</td>\n",
       "      <td>cspell disable    \\n     markdownlint dis...</td>\n",
       "    </tr>\n",
       "  </tbody>\n",
       "</table>\n",
       "</div>"
      ],
      "text/plain": [
       "                                                repo       language  \\\n",
       "0                /OffcierCia/DeFi-Developer-Road-Map  Not Specified   \n",
       "1  /smartcontractkit/full-blockchain-solidity-cou...  Not Specified   \n",
       "2                                /rainbow-me/rainbow     TypeScript   \n",
       "3                                       /Bytom/bytom             Go   \n",
       "4                             /DimensionDev/Maskbook     TypeScript   \n",
       "\n",
       "                                     readme_contents  \n",
       "0    defi developer road map\\n\\n  here we collect...  \n",
       "1        youtube video  https   www youtube com w...  \n",
       "2      https   pbs twimg com profile banners 1103...  \n",
       "3  bytom\\n      \\n\\n   build status  https   trav...  \n",
       "4       cspell disable    \\n     markdownlint dis...  "
      ]
     },
     "execution_count": 5,
     "metadata": {},
     "output_type": "execute_result"
    }
   ],
   "source": [
    "df['readme_contents'] = df.readme_contents.apply(prepare_repos.basic_clean)\n",
    "df.head()"
   ]
  },
  {
   "cell_type": "code",
   "execution_count": 6,
   "id": "84d0b5ab",
   "metadata": {},
   "outputs": [
    {
     "data": {
      "text/html": [
       "<div>\n",
       "<style scoped>\n",
       "    .dataframe tbody tr th:only-of-type {\n",
       "        vertical-align: middle;\n",
       "    }\n",
       "\n",
       "    .dataframe tbody tr th {\n",
       "        vertical-align: top;\n",
       "    }\n",
       "\n",
       "    .dataframe thead th {\n",
       "        text-align: right;\n",
       "    }\n",
       "</style>\n",
       "<table border=\"1\" class=\"dataframe\">\n",
       "  <thead>\n",
       "    <tr style=\"text-align: right;\">\n",
       "      <th></th>\n",
       "      <th>repo</th>\n",
       "      <th>language</th>\n",
       "      <th>readme_contents</th>\n",
       "    </tr>\n",
       "  </thead>\n",
       "  <tbody>\n",
       "    <tr>\n",
       "      <th>0</th>\n",
       "      <td>/OffcierCia/DeFi-Developer-Road-Map</td>\n",
       "      <td>Not Specified</td>\n",
       "      <td>defi developer road map collect discus best de...</td>\n",
       "    </tr>\n",
       "    <tr>\n",
       "      <th>1</th>\n",
       "      <td>/smartcontractkit/full-blockchain-solidity-cou...</td>\n",
       "      <td>Not Specified</td>\n",
       "      <td>youtube video http www youtube com watch v m57...</td>\n",
       "    </tr>\n",
       "    <tr>\n",
       "      <th>2</th>\n",
       "      <td>/rainbow-me/rainbow</td>\n",
       "      <td>TypeScript</td>\n",
       "      <td>http pb twimg com profile banner 1103191459409...</td>\n",
       "    </tr>\n",
       "    <tr>\n",
       "      <th>3</th>\n",
       "      <td>/Bytom/bytom</td>\n",
       "      <td>Go</td>\n",
       "      <td>bytom build status http travis ci org bytom by...</td>\n",
       "    </tr>\n",
       "    <tr>\n",
       "      <th>4</th>\n",
       "      <td>/DimensionDev/Maskbook</td>\n",
       "      <td>TypeScript</td>\n",
       "      <td>cspell disable markdownlint disable inline htm...</td>\n",
       "    </tr>\n",
       "  </tbody>\n",
       "</table>\n",
       "</div>"
      ],
      "text/plain": [
       "                                                repo       language  \\\n",
       "0                /OffcierCia/DeFi-Developer-Road-Map  Not Specified   \n",
       "1  /smartcontractkit/full-blockchain-solidity-cou...  Not Specified   \n",
       "2                                /rainbow-me/rainbow     TypeScript   \n",
       "3                                       /Bytom/bytom             Go   \n",
       "4                             /DimensionDev/Maskbook     TypeScript   \n",
       "\n",
       "                                     readme_contents  \n",
       "0  defi developer road map collect discus best de...  \n",
       "1  youtube video http www youtube com watch v m57...  \n",
       "2  http pb twimg com profile banner 1103191459409...  \n",
       "3  bytom build status http travis ci org bytom by...  \n",
       "4  cspell disable markdownlint disable inline htm...  "
      ]
     },
     "execution_count": 6,
     "metadata": {},
     "output_type": "execute_result"
    }
   ],
   "source": [
    "df['readme_contents'] = df.readme_contents.apply(prepare_repos.tokenize).apply(prepare_repos.lemmatize).apply(prepare_repos.remove_stopwords)\n",
    "df.head()"
   ]
  },
  {
   "cell_type": "code",
   "execution_count": null,
   "id": "810a28e6",
   "metadata": {},
   "outputs": [],
   "source": [
    "df['word_count'] = df['readme_contents'].apply(lambda x : len(x.split()))"
   ]
  },
  {
   "cell_type": "code",
   "execution_count": null,
   "id": "79e1be90",
   "metadata": {},
   "outputs": [],
   "source": [
    "df['num_unique_words'] = df['readme_contents'].apply(lambda x: len(set(w for w in x.split())))\n",
    "df['num_repeated_words'] = df['readme_contents'].apply(lambda x: len([w for w in collections.Counter(x.split()).values() if w > 1]))\n",
    "df['character_count'] = df['readme_contents'].apply(lambda x : len(x.replace(\" \",\"\")))\n",
    "df.head()"
   ]
  },
  {
   "cell_type": "code",
   "execution_count": null,
   "id": "36ec64f1",
   "metadata": {},
   "outputs": [],
   "source": [
    "df.isnull().sum()"
   ]
  },
  {
   "cell_type": "code",
   "execution_count": null,
   "id": "61fbc112",
   "metadata": {},
   "outputs": [],
   "source": [
    "df.word_count.plot()"
   ]
  },
  {
   "cell_type": "code",
   "execution_count": null,
   "id": "c6289915",
   "metadata": {},
   "outputs": [],
   "source": [
    "df.to_csv('clean_df.csv', index = False)"
   ]
  },
  {
   "cell_type": "code",
   "execution_count": null,
   "id": "c19f1bc5",
   "metadata": {},
   "outputs": [],
   "source": [
    "fig = px.bar(df, x='language', y='word_count', title='Counts of words', template='plotly_white', labels={'ngram': 'Bigram', 'count': 'Count'})\n",
    "fig.show()"
   ]
  },
  {
   "cell_type": "code",
   "execution_count": null,
   "id": "8cf6aeb7",
   "metadata": {},
   "outputs": [],
   "source": [
    "fig = px.histogram(df, x='language', template='plotly_white', title='Complain counts by length')\n",
    "fig.update_xaxes(categoryorder='total descending', title='Number of words (clipped at 1000 words)').update_yaxes(title='Number of complaints')\n",
    "fig.show()"
   ]
  },
  {
   "cell_type": "code",
   "execution_count": null,
   "id": "aa77702f",
   "metadata": {},
   "outputs": [],
   "source": [
    "df.head()"
   ]
  },
  {
   "cell_type": "code",
   "execution_count": 25,
   "id": "8ae56f0d",
   "metadata": {},
   "outputs": [],
   "source": [
    "# Limit languagues with less than 4 spots in a repo\n",
    "remaining_languages = df.language.value_counts()[df.language.value_counts() > 4].index\n",
    "\n",
    "# Removing languages not kept\n",
    "df = df[df.language.isin(remaining_languages)]"
   ]
  },
  {
   "cell_type": "code",
   "execution_count": null,
   "id": "a9457652",
   "metadata": {},
   "outputs": [],
   "source": [
    "df.shape"
   ]
  },
  {
   "cell_type": "code",
   "execution_count": null,
   "id": "3e90cb40",
   "metadata": {},
   "outputs": [],
   "source": [
    "labels = pd.concat([df.language.value_counts(),\n",
    "                    df.language.value_counts(normalize=True)], axis=1)\n",
    "labels.columns = ['n', 'percent']\n",
    "labels"
   ]
  },
  {
   "cell_type": "code",
   "execution_count": null,
   "id": "7ae7e73c",
   "metadata": {},
   "outputs": [],
   "source": [
    "df.language.value_counts()"
   ]
  },
  {
   "cell_type": "code",
   "execution_count": null,
   "id": "ecdd58b7",
   "metadata": {},
   "outputs": [],
   "source": [
    "java_words = prepare_repos.clean(' '.join(df[df.language == 'JavaScript'].readme_contents))\n",
    "Tscript_words = prepare_repos.clean(' '.join(df[df.language == 'TypeScript'].readme_contents))\n",
    "all_words = prepare_repos.clean(' '.join(df.readme_contents))\n",
    "idk_words = prepare_repos.clean(' '.join(df[df.language == 'Not Specified'].readme_contents))\n",
    "solidity_words = prepare_repos.clean(' '.join(df[df.language == 'Solidity'].readme_contents))\n",
    "python_words = prepare_repos.clean(' '.join(df[df.language == 'Python'].readme_contents))"
   ]
  },
  {
   "cell_type": "code",
   "execution_count": null,
   "id": "29d31f2d",
   "metadata": {},
   "outputs": [],
   "source": [
    "java_words"
   ]
  },
  {
   "cell_type": "code",
   "execution_count": null,
   "id": "9b005caa",
   "metadata": {},
   "outputs": [],
   "source": [
    "java_freq = pd.Series(java_words).value_counts()\n",
    "Tscript_freq = pd.Series(Tscript_words).value_counts()\n",
    "all_freq = pd.Series(all_words).value_counts()\n",
    "idk_freq = pd.Series(idk_words).value_counts()\n",
    "solidity_freq = pd.Series(solidity_words).value_counts()\n",
    "python_freq = pd.Series(python_words).value_counts()\n",
    "java_freq.head()"
   ]
  },
  {
   "cell_type": "code",
   "execution_count": null,
   "id": "bb857062",
   "metadata": {},
   "outputs": [],
   "source": [
    "Tscript_freq.head()"
   ]
  },
  {
   "cell_type": "code",
   "execution_count": null,
   "id": "c5cd4945",
   "metadata": {},
   "outputs": [],
   "source": [
    "word_counts = (pd.concat([all_freq, java_freq, Tscript_freq, idk_freq, solidity_freq, python_freq], axis=1, sort=True)\n",
    "                .set_axis(['all', 'java', 'TypeScript', 'Not_Specified', 'Solidity', 'Python'], axis=1, inplace=False)\n",
    "                .fillna(0)\n",
    "                .apply(lambda s: s.astype(int)))\n",
    "\n",
    "word_counts.head(15)"
   ]
  },
  {
   "cell_type": "code",
   "execution_count": null,
   "id": "ba3a1cb0",
   "metadata": {},
   "outputs": [],
   "source": [
    "word_counts.sort_values(by='TypeScript', ascending=False).head(10)"
   ]
  },
  {
   "cell_type": "code",
   "execution_count": null,
   "id": "619c7562",
   "metadata": {},
   "outputs": [],
   "source": [
    "all_cloud = WordCloud(background_color='white', height=1000, width=400).generate(' '.join(all_words))\n",
    "java_cloud = WordCloud(background_color='white', height=600, width=800).generate(' '.join(java_words))\n",
    "Tscript_cloud = WordCloud(background_color='white', height=600, width=800).generate(' '.join(Tscript_words))\n",
    "idk_cloud = WordCloud(background_color='white', height=1000, width=400).generate(' '.join(idk_words))\n",
    "Solidity_cloud = WordCloud(background_color='white', height=600, width=800).generate(' '.join(solidity_words))\n",
    "python_cloud = WordCloud(background_color='white', height=600, width=800).generate(' '.join(python_words))\n",
    "\n",
    "plt.figure(figsize=(10, 8))\n",
    "axs = [plt.axes([0, 0, .5, 1]), plt.axes([.5, .5, .5, .5]), plt.axes([.5, 0, .5, .5]), plt.axes([.5, .5, .5, .5]), plt.axes([.5, .5, .5, .5]), plt.axes([.5, .5, .5, .5])]\n",
    "\n",
    "axs[0].imshow(all_cloud)\n",
    "axs[1].imshow(java_cloud)\n",
    "axs[2].imshow(Tscript_cloud)\n",
    "axs[3].imshow(idk_cloud)\n",
    "axs[4].imshow(Solidity_cloud)\n",
    "axs[5].imshow(python_cloud)\n",
    "\n",
    "axs[0].set_title('All Words')\n",
    "axs[1].set_title('java')\n",
    "axs[2].set_title('Tscript_words')\n",
    "axs[3].set_title('Not Specified')\n",
    "axs[4].set_title('solidity')\n",
    "axs[5].set_title('python')\n",
    "\n",
    "for ax in axs: ax.axis('off')"
   ]
  },
  {
   "cell_type": "code",
   "execution_count": null,
   "id": "7fd842a7",
   "metadata": {},
   "outputs": [],
   "source": [
    "plt.imshow(java_cloud)"
   ]
  },
  {
   "cell_type": "code",
   "execution_count": null,
   "id": "58edc49d",
   "metadata": {},
   "outputs": [],
   "source": [
    "word_counts.head()"
   ]
  },
  {
   "cell_type": "code",
   "execution_count": null,
   "id": "3636e440",
   "metadata": {},
   "outputs": [],
   "source": [
    "(word_counts\n",
    " .assign(p_java=word_counts.java / word_counts['all'],\n",
    "         p_TypeScript=word_counts.TypeScript / word_counts['all'],\n",
    "         p_idk=word_counts.Not_Specified / word_counts['all'],\n",
    "         p_Solidity=word_counts.Solidity / word_counts['all'],\n",
    "         p_python=word_counts.Python / word_counts['all'])\n",
    " .sort_values(by='all')\n",
    " [['java', 'TypeScript', 'Solidity', 'Not_Specified', 'Python']]\n",
    " .tail(20)\n",
    " .sort_values('java')\n",
    " .plot.barh(stacked=True))\n",
    "\n",
    "plt.title('Proportion of language for the 20 most common words')"
   ]
  },
  {
   "cell_type": "code",
   "execution_count": 23,
   "id": "ad64e070",
   "metadata": {},
   "outputs": [
    {
     "data": {
      "text/html": [
       "<div>\n",
       "<style scoped>\n",
       "    .dataframe tbody tr th:only-of-type {\n",
       "        vertical-align: middle;\n",
       "    }\n",
       "\n",
       "    .dataframe tbody tr th {\n",
       "        vertical-align: top;\n",
       "    }\n",
       "\n",
       "    .dataframe thead th {\n",
       "        text-align: right;\n",
       "    }\n",
       "</style>\n",
       "<table border=\"1\" class=\"dataframe\">\n",
       "  <thead>\n",
       "    <tr style=\"text-align: right;\">\n",
       "      <th></th>\n",
       "      <th>repo</th>\n",
       "      <th>language</th>\n",
       "      <th>readme_contents</th>\n",
       "    </tr>\n",
       "  </thead>\n",
       "  <tbody>\n",
       "    <tr>\n",
       "      <th>0</th>\n",
       "      <td>/OffcierCia/DeFi-Developer-Road-Map</td>\n",
       "      <td>Not Specified</td>\n",
       "      <td>defi developer road map collect discus best de...</td>\n",
       "    </tr>\n",
       "    <tr>\n",
       "      <th>1</th>\n",
       "      <td>/smartcontractkit/full-blockchain-solidity-cou...</td>\n",
       "      <td>Not Specified</td>\n",
       "      <td>youtube video http www youtube com watch v m57...</td>\n",
       "    </tr>\n",
       "    <tr>\n",
       "      <th>2</th>\n",
       "      <td>/rainbow-me/rainbow</td>\n",
       "      <td>TypeScript</td>\n",
       "      <td>http pb twimg com profile banner 1103191459409...</td>\n",
       "    </tr>\n",
       "    <tr>\n",
       "      <th>3</th>\n",
       "      <td>/Bytom/bytom</td>\n",
       "      <td>Go</td>\n",
       "      <td>bytom build status http travis ci org bytom by...</td>\n",
       "    </tr>\n",
       "    <tr>\n",
       "      <th>4</th>\n",
       "      <td>/DimensionDev/Maskbook</td>\n",
       "      <td>TypeScript</td>\n",
       "      <td>cspell disable markdownlint disable inline htm...</td>\n",
       "    </tr>\n",
       "  </tbody>\n",
       "</table>\n",
       "</div>"
      ],
      "text/plain": [
       "                                                repo       language  \\\n",
       "0                /OffcierCia/DeFi-Developer-Road-Map  Not Specified   \n",
       "1  /smartcontractkit/full-blockchain-solidity-cou...  Not Specified   \n",
       "2                                /rainbow-me/rainbow     TypeScript   \n",
       "3                                       /Bytom/bytom             Go   \n",
       "4                             /DimensionDev/Maskbook     TypeScript   \n",
       "\n",
       "                                     readme_contents  \n",
       "0  defi developer road map collect discus best de...  \n",
       "1  youtube video http www youtube com watch v m57...  \n",
       "2  http pb twimg com profile banner 1103191459409...  \n",
       "3  bytom build status http travis ci org bytom by...  \n",
       "4  cspell disable markdownlint disable inline htm...  "
      ]
     },
     "execution_count": 23,
     "metadata": {},
     "output_type": "execute_result"
    }
   ],
   "source": [
    "df.head()"
   ]
  },
  {
   "cell_type": "code",
   "execution_count": 40,
   "id": "d901264e",
   "metadata": {},
   "outputs": [
    {
     "data": {
      "text/html": [
       "<div>\n",
       "<style scoped>\n",
       "    .dataframe tbody tr th:only-of-type {\n",
       "        vertical-align: middle;\n",
       "    }\n",
       "\n",
       "    .dataframe tbody tr th {\n",
       "        vertical-align: top;\n",
       "    }\n",
       "\n",
       "    .dataframe thead th {\n",
       "        text-align: right;\n",
       "    }\n",
       "</style>\n",
       "<table border=\"1\" class=\"dataframe\">\n",
       "  <thead>\n",
       "    <tr style=\"text-align: right;\">\n",
       "      <th></th>\n",
       "      <th>repo</th>\n",
       "      <th>language</th>\n",
       "      <th>readme_contents</th>\n",
       "    </tr>\n",
       "  </thead>\n",
       "  <tbody>\n",
       "    <tr>\n",
       "      <th>0</th>\n",
       "      <td>/OffcierCia/DeFi-Developer-Road-Map</td>\n",
       "      <td>Not Specified</td>\n",
       "      <td>defi developer road map collect discus best de...</td>\n",
       "    </tr>\n",
       "    <tr>\n",
       "      <th>1</th>\n",
       "      <td>/smartcontractkit/full-blockchain-solidity-cou...</td>\n",
       "      <td>Not Specified</td>\n",
       "      <td>youtube video http www youtube com watch v m57...</td>\n",
       "    </tr>\n",
       "    <tr>\n",
       "      <th>2</th>\n",
       "      <td>/rainbow-me/rainbow</td>\n",
       "      <td>TypeScript</td>\n",
       "      <td>http pb twimg com profile banner 1103191459409...</td>\n",
       "    </tr>\n",
       "    <tr>\n",
       "      <th>3</th>\n",
       "      <td>/Bytom/bytom</td>\n",
       "      <td>Go</td>\n",
       "      <td>bytom build status http travis ci org bytom by...</td>\n",
       "    </tr>\n",
       "    <tr>\n",
       "      <th>4</th>\n",
       "      <td>/DimensionDev/Maskbook</td>\n",
       "      <td>TypeScript</td>\n",
       "      <td>cspell disable markdownlint disable inline htm...</td>\n",
       "    </tr>\n",
       "  </tbody>\n",
       "</table>\n",
       "</div>"
      ],
      "text/plain": [
       "                                                repo       language  \\\n",
       "0                /OffcierCia/DeFi-Developer-Road-Map  Not Specified   \n",
       "1  /smartcontractkit/full-blockchain-solidity-cou...  Not Specified   \n",
       "2                                /rainbow-me/rainbow     TypeScript   \n",
       "3                                       /Bytom/bytom             Go   \n",
       "4                             /DimensionDev/Maskbook     TypeScript   \n",
       "\n",
       "                                     readme_contents  \n",
       "0  defi developer road map collect discus best de...  \n",
       "1  youtube video http www youtube com watch v m57...  \n",
       "2  http pb twimg com profile banner 1103191459409...  \n",
       "3  bytom build status http travis ci org bytom by...  \n",
       "4  cspell disable markdownlint disable inline htm...  "
      ]
     },
     "execution_count": 40,
     "metadata": {},
     "output_type": "execute_result"
    }
   ],
   "source": [
    "df.head()"
   ]
  },
  {
   "cell_type": "code",
   "execution_count": 43,
   "id": "e77993b6",
   "metadata": {},
   "outputs": [],
   "source": [
    "tfidf = TfidfVectorizer()\n",
    "X = tfidf.fit_transform(df.readme_contents)\n",
    "y = df.language\n",
    "\n",
    "X_train, X_test_val, y_train, y_test_val = train_test_split(X, y, stratify=y, test_size=.2)\n",
    "X_validate, X_test, y_validate, y_test = train_test_split(X_test_val, y_test_val, stratify=y_test_val, test_size=.5)\n"
   ]
  },
  {
   "cell_type": "code",
   "execution_count": 44,
   "id": "5c9357c7",
   "metadata": {},
   "outputs": [
    {
     "data": {
      "text/plain": [
       "<752x44231 sparse matrix of type '<class 'numpy.float64'>'\n",
       "\twith 153044 stored elements in Compressed Sparse Row format>"
      ]
     },
     "execution_count": 44,
     "metadata": {},
     "output_type": "execute_result"
    }
   ],
   "source": [
    "X_train"
   ]
  },
  {
   "cell_type": "code",
   "execution_count": 50,
   "id": "3fcfafd0",
   "metadata": {},
   "outputs": [
    {
     "name": "stderr",
     "output_type": "stream",
     "text": [
      "/usr/local/anaconda3/lib/python3.9/site-packages/sklearn/utils/deprecation.py:87: FutureWarning: Function get_feature_names is deprecated; get_feature_names is deprecated in 1.0 and will be removed in 1.2. Please use get_feature_names_out instead.\n",
      "  warnings.warn(msg, category=FutureWarning)\n",
      "/usr/local/anaconda3/lib/python3.9/site-packages/sklearn/utils/deprecation.py:87: FutureWarning: Function get_feature_names is deprecated; get_feature_names is deprecated in 1.0 and will be removed in 1.2. Please use get_feature_names_out instead.\n",
      "  warnings.warn(msg, category=FutureWarning)\n",
      "/usr/local/anaconda3/lib/python3.9/site-packages/sklearn/utils/deprecation.py:87: FutureWarning: Function get_feature_names is deprecated; get_feature_names is deprecated in 1.0 and will be removed in 1.2. Please use get_feature_names_out instead.\n",
      "  warnings.warn(msg, category=FutureWarning)\n"
     ]
    }
   ],
   "source": [
    "# turn X_ into df with features \n",
    "X_train_df= pd.DataFrame(X_train.todense(), columns=tfidf.get_feature_names())\n",
    "X_validate_df= pd.DataFrame(X_validate.todense(), columns=tfidf.get_feature_names())\n",
    "X_test_df= pd.DataFrame(X_test.todense(), columns=tfidf.get_feature_names())"
   ]
  },
  {
   "cell_type": "code",
   "execution_count": 38,
   "id": "ed1fef67",
   "metadata": {},
   "outputs": [
    {
     "data": {
      "text/html": [
       "<div>\n",
       "<style scoped>\n",
       "    .dataframe tbody tr th:only-of-type {\n",
       "        vertical-align: middle;\n",
       "    }\n",
       "\n",
       "    .dataframe tbody tr th {\n",
       "        vertical-align: top;\n",
       "    }\n",
       "\n",
       "    .dataframe thead th {\n",
       "        text-align: right;\n",
       "    }\n",
       "</style>\n",
       "<table border=\"1\" class=\"dataframe\">\n",
       "  <thead>\n",
       "    <tr style=\"text-align: right;\">\n",
       "      <th></th>\n",
       "      <th>0</th>\n",
       "    </tr>\n",
       "  </thead>\n",
       "  <tbody>\n",
       "    <tr>\n",
       "      <th>0</th>\n",
       "      <td>(0, 7640)\\t0.04889078177903195\\n  (0, 11076)...</td>\n",
       "    </tr>\n",
       "    <tr>\n",
       "      <th>1</th>\n",
       "      <td>(0, 34963)\\t0.3869044765624999\\n  (0, 30706)...</td>\n",
       "    </tr>\n",
       "    <tr>\n",
       "      <th>2</th>\n",
       "      <td>(0, 12842)\\t0.016310498666331916\\n  (0, 2859...</td>\n",
       "    </tr>\n",
       "    <tr>\n",
       "      <th>3</th>\n",
       "      <td>(0, 28726)\\t0.10162950226737337\\n  (0, 25072...</td>\n",
       "    </tr>\n",
       "    <tr>\n",
       "      <th>4</th>\n",
       "      <td>(0, 36586)\\t0.11528302962298381\\n  (0, 21700...</td>\n",
       "    </tr>\n",
       "  </tbody>\n",
       "</table>\n",
       "</div>"
      ],
      "text/plain": [
       "                                                   0\n",
       "0    (0, 7640)\\t0.04889078177903195\\n  (0, 11076)...\n",
       "1    (0, 34963)\\t0.3869044765624999\\n  (0, 30706)...\n",
       "2    (0, 12842)\\t0.016310498666331916\\n  (0, 2859...\n",
       "3    (0, 28726)\\t0.10162950226737337\\n  (0, 25072...\n",
       "4    (0, 36586)\\t0.11528302962298381\\n  (0, 21700..."
      ]
     },
     "execution_count": 38,
     "metadata": {},
     "output_type": "execute_result"
    }
   ],
   "source": [
    "# turn y_ into df\n",
    "y_train = pd.DataFrame(y_train)\n",
    "y_validate = pd.DataFrame(y_validate)\n",
    "y_test = pd.DataFrame(y_test)"
   ]
  },
  {
   "cell_type": "code",
   "execution_count": 42,
   "id": "0ad4803f",
   "metadata": {},
   "outputs": [
    {
     "data": {
      "text/html": [
       "<div>\n",
       "<style scoped>\n",
       "    .dataframe tbody tr th:only-of-type {\n",
       "        vertical-align: middle;\n",
       "    }\n",
       "\n",
       "    .dataframe tbody tr th {\n",
       "        vertical-align: top;\n",
       "    }\n",
       "\n",
       "    .dataframe thead th {\n",
       "        text-align: right;\n",
       "    }\n",
       "</style>\n",
       "<table border=\"1\" class=\"dataframe\">\n",
       "  <thead>\n",
       "    <tr style=\"text-align: right;\">\n",
       "      <th></th>\n",
       "      <th>0</th>\n",
       "    </tr>\n",
       "  </thead>\n",
       "  <tbody>\n",
       "    <tr>\n",
       "      <th>0</th>\n",
       "      <td>(0, 14140)\\t0.03847961534787852\\n  (0, 10238...</td>\n",
       "    </tr>\n",
       "    <tr>\n",
       "      <th>1</th>\n",
       "      <td>(0, 20975)\\t0.016560160511631575\\n  (0, 2102...</td>\n",
       "    </tr>\n",
       "    <tr>\n",
       "      <th>2</th>\n",
       "      <td>(0, 43376)\\t0.055626547718567204\\n  (0, 2781...</td>\n",
       "    </tr>\n",
       "    <tr>\n",
       "      <th>3</th>\n",
       "      <td>(0, 1168)\\t0.11524216647677045\\n  (0, 839)\\t...</td>\n",
       "    </tr>\n",
       "    <tr>\n",
       "      <th>4</th>\n",
       "      <td>(0, 41774)\\t0.03306895769725968\\n  (0, 41777...</td>\n",
       "    </tr>\n",
       "  </tbody>\n",
       "</table>\n",
       "</div>"
      ],
      "text/plain": [
       "                                                   0\n",
       "0    (0, 14140)\\t0.03847961534787852\\n  (0, 10238...\n",
       "1    (0, 20975)\\t0.016560160511631575\\n  (0, 2102...\n",
       "2    (0, 43376)\\t0.055626547718567204\\n  (0, 2781...\n",
       "3    (0, 1168)\\t0.11524216647677045\\n  (0, 839)\\t...\n",
       "4    (0, 41774)\\t0.03306895769725968\\n  (0, 41777..."
      ]
     },
     "execution_count": 42,
     "metadata": {},
     "output_type": "execute_result"
    }
   ],
   "source": [
    "X_validate.head()"
   ]
  },
  {
   "cell_type": "code",
   "execution_count": null,
   "id": "c19b4158",
   "metadata": {},
   "outputs": [],
   "source": [
    "train = pd.DataFrame(dict(actual=y_train))\n",
    "test = pd.DataFrame(dict(actual=y_test))"
   ]
  },
  {
   "cell_type": "markdown",
   "id": "99c487b3",
   "metadata": {},
   "source": [
    "## baseline "
   ]
  },
  {
   "cell_type": "code",
   "execution_count": null,
   "id": "39bbb2e9",
   "metadata": {},
   "outputs": [],
   "source": [
    "df.language.value_counts()"
   ]
  },
  {
   "cell_type": "code",
   "execution_count": 10,
   "id": "5ea90d65",
   "metadata": {},
   "outputs": [],
   "source": [
    "# new df for predictions\n",
    "predictions = pd.DataFrame({ \n",
    "    'actual': train.language\n",
    "})\n"
   ]
  },
  {
   "cell_type": "code",
   "execution_count": 11,
   "id": "5368d7a3",
   "metadata": {},
   "outputs": [],
   "source": [
    "predictions['baseline'] = train[train['language'] == 'JavaScript'].shape[0] /train.shape[0]"
   ]
  },
  {
   "cell_type": "code",
   "execution_count": 12,
   "id": "e88631ee",
   "metadata": {},
   "outputs": [
    {
     "data": {
      "text/html": [
       "<div>\n",
       "<style scoped>\n",
       "    .dataframe tbody tr th:only-of-type {\n",
       "        vertical-align: middle;\n",
       "    }\n",
       "\n",
       "    .dataframe tbody tr th {\n",
       "        vertical-align: top;\n",
       "    }\n",
       "\n",
       "    .dataframe thead th {\n",
       "        text-align: right;\n",
       "    }\n",
       "</style>\n",
       "<table border=\"1\" class=\"dataframe\">\n",
       "  <thead>\n",
       "    <tr style=\"text-align: right;\">\n",
       "      <th></th>\n",
       "      <th>actual</th>\n",
       "      <th>baseline</th>\n",
       "    </tr>\n",
       "  </thead>\n",
       "  <tbody>\n",
       "    <tr>\n",
       "      <th>217</th>\n",
       "      <td>TypeScript</td>\n",
       "      <td>0.239927</td>\n",
       "    </tr>\n",
       "    <tr>\n",
       "      <th>332</th>\n",
       "      <td>Not Specified</td>\n",
       "      <td>0.239927</td>\n",
       "    </tr>\n",
       "    <tr>\n",
       "      <th>82</th>\n",
       "      <td>JavaScript</td>\n",
       "      <td>0.239927</td>\n",
       "    </tr>\n",
       "    <tr>\n",
       "      <th>914</th>\n",
       "      <td>TypeScript</td>\n",
       "      <td>0.239927</td>\n",
       "    </tr>\n",
       "    <tr>\n",
       "      <th>744</th>\n",
       "      <td>TypeScript</td>\n",
       "      <td>0.239927</td>\n",
       "    </tr>\n",
       "  </tbody>\n",
       "</table>\n",
       "</div>"
      ],
      "text/plain": [
       "            actual  baseline\n",
       "217     TypeScript  0.239927\n",
       "332  Not Specified  0.239927\n",
       "82      JavaScript  0.239927\n",
       "914     TypeScript  0.239927\n",
       "744     TypeScript  0.239927"
      ]
     },
     "execution_count": 12,
     "metadata": {},
     "output_type": "execute_result"
    }
   ],
   "source": [
    "predictions.head()"
   ]
  },
  {
   "cell_type": "code",
   "execution_count": null,
   "id": "d23e4f0c",
   "metadata": {
    "scrolled": true
   },
   "outputs": [],
   "source": [
    "df.info()"
   ]
  },
  {
   "cell_type": "code",
   "execution_count": 13,
   "id": "8af30bdf",
   "metadata": {},
   "outputs": [
    {
     "data": {
      "text/plain": [
       "<976x44953 sparse matrix of type '<class 'numpy.float64'>'\n",
       "\twith 198672 stored elements in Compressed Sparse Row format>"
      ]
     },
     "execution_count": 13,
     "metadata": {},
     "output_type": "execute_result"
    }
   ],
   "source": [
    "from sklearn.feature_extraction.text import TfidfVectorizer\n",
    "\n",
    "tfidf = TfidfVectorizer()\n",
    "tfidfs = tfidf.fit_transform(df['readme_contents'])\n",
    "tfidfs"
   ]
  },
  {
   "cell_type": "code",
   "execution_count": 21,
   "id": "f4edb8e0",
   "metadata": {},
   "outputs": [
    {
     "name": "stderr",
     "output_type": "stream",
     "text": [
      "/usr/local/anaconda3/lib/python3.9/site-packages/sklearn/utils/deprecation.py:87: FutureWarning: Function get_feature_names is deprecated; get_feature_names is deprecated in 1.0 and will be removed in 1.2. Please use get_feature_names_out instead.\n",
      "  warnings.warn(msg, category=FutureWarning)\n"
     ]
    },
    {
     "data": {
      "text/html": [
       "<div>\n",
       "<style scoped>\n",
       "    .dataframe tbody tr th:only-of-type {\n",
       "        vertical-align: middle;\n",
       "    }\n",
       "\n",
       "    .dataframe tbody tr th {\n",
       "        vertical-align: top;\n",
       "    }\n",
       "\n",
       "    .dataframe thead th {\n",
       "        text-align: right;\n",
       "    }\n",
       "</style>\n",
       "<table border=\"1\" class=\"dataframe\">\n",
       "  <thead>\n",
       "    <tr style=\"text-align: right;\">\n",
       "      <th></th>\n",
       "      <th>00</th>\n",
       "      <th>000</th>\n",
       "      <th>0000</th>\n",
       "      <th>000000</th>\n",
       "      <th>00000000</th>\n",
       "      <th>000000000000000000</th>\n",
       "      <th>0000000000000000000000000000000000000000000000000000000000000001</th>\n",
       "      <th>000000000000000002</th>\n",
       "      <th>000000000000000282</th>\n",
       "      <th>00000000000009764515173366604499968328796917891</th>\n",
       "      <th>...</th>\n",
       "      <th>zzutbyhibihwi3qvkmone1dgl03vtm1w8oddusjedkbpbvaa8</th>\n",
       "      <th>zzuy29j4eoph7crhhnsaoqjid15ui3xwkxcxk5v5zxlqpez8rnuspt08meyoyovvfxpgql</th>\n",
       "      <th>zzvgq2npaunvb63owt33x</th>\n",
       "      <th>zzw</th>\n",
       "      <th>zzwmavvvbp3yapsrmfp4nswdwuaqiecbagqiaagrdivtjzx0zt85z9zf8a8rtn</th>\n",
       "      <th>zzxthngejsu8vr</th>\n",
       "      <th>zzxyl</th>\n",
       "      <th>zzy</th>\n",
       "      <th>zzy55b7axooubbgcvqn297r4p</th>\n",
       "      <th>zzzs</th>\n",
       "    </tr>\n",
       "  </thead>\n",
       "  <tbody>\n",
       "    <tr>\n",
       "      <th>0</th>\n",
       "      <td>0.000000</td>\n",
       "      <td>0.000</td>\n",
       "      <td>0.000000</td>\n",
       "      <td>0.000000</td>\n",
       "      <td>0.0</td>\n",
       "      <td>0.0</td>\n",
       "      <td>0.0</td>\n",
       "      <td>0.0</td>\n",
       "      <td>0.0</td>\n",
       "      <td>0.0</td>\n",
       "      <td>...</td>\n",
       "      <td>0.0</td>\n",
       "      <td>0.0</td>\n",
       "      <td>0.0</td>\n",
       "      <td>0.0</td>\n",
       "      <td>0.0</td>\n",
       "      <td>0.0</td>\n",
       "      <td>0.0</td>\n",
       "      <td>0.0</td>\n",
       "      <td>0.0</td>\n",
       "      <td>0.0</td>\n",
       "    </tr>\n",
       "    <tr>\n",
       "      <th>1</th>\n",
       "      <td>0.010906</td>\n",
       "      <td>0.000</td>\n",
       "      <td>0.000000</td>\n",
       "      <td>0.001573</td>\n",
       "      <td>0.0</td>\n",
       "      <td>0.0</td>\n",
       "      <td>0.0</td>\n",
       "      <td>0.0</td>\n",
       "      <td>0.0</td>\n",
       "      <td>0.0</td>\n",
       "      <td>...</td>\n",
       "      <td>0.0</td>\n",
       "      <td>0.0</td>\n",
       "      <td>0.0</td>\n",
       "      <td>0.0</td>\n",
       "      <td>0.0</td>\n",
       "      <td>0.0</td>\n",
       "      <td>0.0</td>\n",
       "      <td>0.0</td>\n",
       "      <td>0.0</td>\n",
       "      <td>0.0</td>\n",
       "    </tr>\n",
       "    <tr>\n",
       "      <th>2</th>\n",
       "      <td>0.000000</td>\n",
       "      <td>0.000</td>\n",
       "      <td>0.000000</td>\n",
       "      <td>0.000000</td>\n",
       "      <td>0.0</td>\n",
       "      <td>0.0</td>\n",
       "      <td>0.0</td>\n",
       "      <td>0.0</td>\n",
       "      <td>0.0</td>\n",
       "      <td>0.0</td>\n",
       "      <td>...</td>\n",
       "      <td>0.0</td>\n",
       "      <td>0.0</td>\n",
       "      <td>0.0</td>\n",
       "      <td>0.0</td>\n",
       "      <td>0.0</td>\n",
       "      <td>0.0</td>\n",
       "      <td>0.0</td>\n",
       "      <td>0.0</td>\n",
       "      <td>0.0</td>\n",
       "      <td>0.0</td>\n",
       "    </tr>\n",
       "    <tr>\n",
       "      <th>3</th>\n",
       "      <td>0.000000</td>\n",
       "      <td>0.000</td>\n",
       "      <td>0.000000</td>\n",
       "      <td>0.000000</td>\n",
       "      <td>0.0</td>\n",
       "      <td>0.0</td>\n",
       "      <td>0.0</td>\n",
       "      <td>0.0</td>\n",
       "      <td>0.0</td>\n",
       "      <td>0.0</td>\n",
       "      <td>...</td>\n",
       "      <td>0.0</td>\n",
       "      <td>0.0</td>\n",
       "      <td>0.0</td>\n",
       "      <td>0.0</td>\n",
       "      <td>0.0</td>\n",
       "      <td>0.0</td>\n",
       "      <td>0.0</td>\n",
       "      <td>0.0</td>\n",
       "      <td>0.0</td>\n",
       "      <td>0.0</td>\n",
       "    </tr>\n",
       "    <tr>\n",
       "      <th>4</th>\n",
       "      <td>0.000000</td>\n",
       "      <td>0.000</td>\n",
       "      <td>0.000000</td>\n",
       "      <td>0.000000</td>\n",
       "      <td>0.0</td>\n",
       "      <td>0.0</td>\n",
       "      <td>0.0</td>\n",
       "      <td>0.0</td>\n",
       "      <td>0.0</td>\n",
       "      <td>0.0</td>\n",
       "      <td>...</td>\n",
       "      <td>0.0</td>\n",
       "      <td>0.0</td>\n",
       "      <td>0.0</td>\n",
       "      <td>0.0</td>\n",
       "      <td>0.0</td>\n",
       "      <td>0.0</td>\n",
       "      <td>0.0</td>\n",
       "      <td>0.0</td>\n",
       "      <td>0.0</td>\n",
       "      <td>0.0</td>\n",
       "    </tr>\n",
       "    <tr>\n",
       "      <th>...</th>\n",
       "      <td>...</td>\n",
       "      <td>...</td>\n",
       "      <td>...</td>\n",
       "      <td>...</td>\n",
       "      <td>...</td>\n",
       "      <td>...</td>\n",
       "      <td>...</td>\n",
       "      <td>...</td>\n",
       "      <td>...</td>\n",
       "      <td>...</td>\n",
       "      <td>...</td>\n",
       "      <td>...</td>\n",
       "      <td>...</td>\n",
       "      <td>...</td>\n",
       "      <td>...</td>\n",
       "      <td>...</td>\n",
       "      <td>...</td>\n",
       "      <td>...</td>\n",
       "      <td>...</td>\n",
       "      <td>...</td>\n",
       "      <td>...</td>\n",
       "    </tr>\n",
       "    <tr>\n",
       "      <th>971</th>\n",
       "      <td>0.183109</td>\n",
       "      <td>0.053</td>\n",
       "      <td>0.007972</td>\n",
       "      <td>0.000000</td>\n",
       "      <td>0.0</td>\n",
       "      <td>0.0</td>\n",
       "      <td>0.0</td>\n",
       "      <td>0.0</td>\n",
       "      <td>0.0</td>\n",
       "      <td>0.0</td>\n",
       "      <td>...</td>\n",
       "      <td>0.0</td>\n",
       "      <td>0.0</td>\n",
       "      <td>0.0</td>\n",
       "      <td>0.0</td>\n",
       "      <td>0.0</td>\n",
       "      <td>0.0</td>\n",
       "      <td>0.0</td>\n",
       "      <td>0.0</td>\n",
       "      <td>0.0</td>\n",
       "      <td>0.0</td>\n",
       "    </tr>\n",
       "    <tr>\n",
       "      <th>972</th>\n",
       "      <td>0.000000</td>\n",
       "      <td>0.000</td>\n",
       "      <td>0.000000</td>\n",
       "      <td>0.000000</td>\n",
       "      <td>0.0</td>\n",
       "      <td>0.0</td>\n",
       "      <td>0.0</td>\n",
       "      <td>0.0</td>\n",
       "      <td>0.0</td>\n",
       "      <td>0.0</td>\n",
       "      <td>...</td>\n",
       "      <td>0.0</td>\n",
       "      <td>0.0</td>\n",
       "      <td>0.0</td>\n",
       "      <td>0.0</td>\n",
       "      <td>0.0</td>\n",
       "      <td>0.0</td>\n",
       "      <td>0.0</td>\n",
       "      <td>0.0</td>\n",
       "      <td>0.0</td>\n",
       "      <td>0.0</td>\n",
       "    </tr>\n",
       "    <tr>\n",
       "      <th>973</th>\n",
       "      <td>0.000000</td>\n",
       "      <td>0.000</td>\n",
       "      <td>0.000000</td>\n",
       "      <td>0.000000</td>\n",
       "      <td>0.0</td>\n",
       "      <td>0.0</td>\n",
       "      <td>0.0</td>\n",
       "      <td>0.0</td>\n",
       "      <td>0.0</td>\n",
       "      <td>0.0</td>\n",
       "      <td>...</td>\n",
       "      <td>0.0</td>\n",
       "      <td>0.0</td>\n",
       "      <td>0.0</td>\n",
       "      <td>0.0</td>\n",
       "      <td>0.0</td>\n",
       "      <td>0.0</td>\n",
       "      <td>0.0</td>\n",
       "      <td>0.0</td>\n",
       "      <td>0.0</td>\n",
       "      <td>0.0</td>\n",
       "    </tr>\n",
       "    <tr>\n",
       "      <th>974</th>\n",
       "      <td>0.000000</td>\n",
       "      <td>0.000</td>\n",
       "      <td>0.000000</td>\n",
       "      <td>0.000000</td>\n",
       "      <td>0.0</td>\n",
       "      <td>0.0</td>\n",
       "      <td>0.0</td>\n",
       "      <td>0.0</td>\n",
       "      <td>0.0</td>\n",
       "      <td>0.0</td>\n",
       "      <td>...</td>\n",
       "      <td>0.0</td>\n",
       "      <td>0.0</td>\n",
       "      <td>0.0</td>\n",
       "      <td>0.0</td>\n",
       "      <td>0.0</td>\n",
       "      <td>0.0</td>\n",
       "      <td>0.0</td>\n",
       "      <td>0.0</td>\n",
       "      <td>0.0</td>\n",
       "      <td>0.0</td>\n",
       "    </tr>\n",
       "    <tr>\n",
       "      <th>975</th>\n",
       "      <td>0.000000</td>\n",
       "      <td>0.000</td>\n",
       "      <td>0.000000</td>\n",
       "      <td>0.000000</td>\n",
       "      <td>0.0</td>\n",
       "      <td>0.0</td>\n",
       "      <td>0.0</td>\n",
       "      <td>0.0</td>\n",
       "      <td>0.0</td>\n",
       "      <td>0.0</td>\n",
       "      <td>...</td>\n",
       "      <td>0.0</td>\n",
       "      <td>0.0</td>\n",
       "      <td>0.0</td>\n",
       "      <td>0.0</td>\n",
       "      <td>0.0</td>\n",
       "      <td>0.0</td>\n",
       "      <td>0.0</td>\n",
       "      <td>0.0</td>\n",
       "      <td>0.0</td>\n",
       "      <td>0.0</td>\n",
       "    </tr>\n",
       "  </tbody>\n",
       "</table>\n",
       "<p>976 rows × 44953 columns</p>\n",
       "</div>"
      ],
      "text/plain": [
       "           00    000      0000    000000  00000000  000000000000000000  \\\n",
       "0    0.000000  0.000  0.000000  0.000000       0.0                 0.0   \n",
       "1    0.010906  0.000  0.000000  0.001573       0.0                 0.0   \n",
       "2    0.000000  0.000  0.000000  0.000000       0.0                 0.0   \n",
       "3    0.000000  0.000  0.000000  0.000000       0.0                 0.0   \n",
       "4    0.000000  0.000  0.000000  0.000000       0.0                 0.0   \n",
       "..        ...    ...       ...       ...       ...                 ...   \n",
       "971  0.183109  0.053  0.007972  0.000000       0.0                 0.0   \n",
       "972  0.000000  0.000  0.000000  0.000000       0.0                 0.0   \n",
       "973  0.000000  0.000  0.000000  0.000000       0.0                 0.0   \n",
       "974  0.000000  0.000  0.000000  0.000000       0.0                 0.0   \n",
       "975  0.000000  0.000  0.000000  0.000000       0.0                 0.0   \n",
       "\n",
       "     0000000000000000000000000000000000000000000000000000000000000001  \\\n",
       "0                                                  0.0                  \n",
       "1                                                  0.0                  \n",
       "2                                                  0.0                  \n",
       "3                                                  0.0                  \n",
       "4                                                  0.0                  \n",
       "..                                                 ...                  \n",
       "971                                                0.0                  \n",
       "972                                                0.0                  \n",
       "973                                                0.0                  \n",
       "974                                                0.0                  \n",
       "975                                                0.0                  \n",
       "\n",
       "     000000000000000002  000000000000000282  \\\n",
       "0                   0.0                 0.0   \n",
       "1                   0.0                 0.0   \n",
       "2                   0.0                 0.0   \n",
       "3                   0.0                 0.0   \n",
       "4                   0.0                 0.0   \n",
       "..                  ...                 ...   \n",
       "971                 0.0                 0.0   \n",
       "972                 0.0                 0.0   \n",
       "973                 0.0                 0.0   \n",
       "974                 0.0                 0.0   \n",
       "975                 0.0                 0.0   \n",
       "\n",
       "     00000000000009764515173366604499968328796917891  ...  \\\n",
       "0                                                0.0  ...   \n",
       "1                                                0.0  ...   \n",
       "2                                                0.0  ...   \n",
       "3                                                0.0  ...   \n",
       "4                                                0.0  ...   \n",
       "..                                               ...  ...   \n",
       "971                                              0.0  ...   \n",
       "972                                              0.0  ...   \n",
       "973                                              0.0  ...   \n",
       "974                                              0.0  ...   \n",
       "975                                              0.0  ...   \n",
       "\n",
       "     zzutbyhibihwi3qvkmone1dgl03vtm1w8oddusjedkbpbvaa8  \\\n",
       "0                                                  0.0   \n",
       "1                                                  0.0   \n",
       "2                                                  0.0   \n",
       "3                                                  0.0   \n",
       "4                                                  0.0   \n",
       "..                                                 ...   \n",
       "971                                                0.0   \n",
       "972                                                0.0   \n",
       "973                                                0.0   \n",
       "974                                                0.0   \n",
       "975                                                0.0   \n",
       "\n",
       "     zzuy29j4eoph7crhhnsaoqjid15ui3xwkxcxk5v5zxlqpez8rnuspt08meyoyovvfxpgql  \\\n",
       "0                                                  0.0                        \n",
       "1                                                  0.0                        \n",
       "2                                                  0.0                        \n",
       "3                                                  0.0                        \n",
       "4                                                  0.0                        \n",
       "..                                                 ...                        \n",
       "971                                                0.0                        \n",
       "972                                                0.0                        \n",
       "973                                                0.0                        \n",
       "974                                                0.0                        \n",
       "975                                                0.0                        \n",
       "\n",
       "     zzvgq2npaunvb63owt33x  zzw  \\\n",
       "0                      0.0  0.0   \n",
       "1                      0.0  0.0   \n",
       "2                      0.0  0.0   \n",
       "3                      0.0  0.0   \n",
       "4                      0.0  0.0   \n",
       "..                     ...  ...   \n",
       "971                    0.0  0.0   \n",
       "972                    0.0  0.0   \n",
       "973                    0.0  0.0   \n",
       "974                    0.0  0.0   \n",
       "975                    0.0  0.0   \n",
       "\n",
       "     zzwmavvvbp3yapsrmfp4nswdwuaqiecbagqiaagrdivtjzx0zt85z9zf8a8rtn  \\\n",
       "0                                                  0.0                \n",
       "1                                                  0.0                \n",
       "2                                                  0.0                \n",
       "3                                                  0.0                \n",
       "4                                                  0.0                \n",
       "..                                                 ...                \n",
       "971                                                0.0                \n",
       "972                                                0.0                \n",
       "973                                                0.0                \n",
       "974                                                0.0                \n",
       "975                                                0.0                \n",
       "\n",
       "     zzxthngejsu8vr  zzxyl  zzy  zzy55b7axooubbgcvqn297r4p  zzzs  \n",
       "0               0.0    0.0  0.0                        0.0   0.0  \n",
       "1               0.0    0.0  0.0                        0.0   0.0  \n",
       "2               0.0    0.0  0.0                        0.0   0.0  \n",
       "3               0.0    0.0  0.0                        0.0   0.0  \n",
       "4               0.0    0.0  0.0                        0.0   0.0  \n",
       "..              ...    ...  ...                        ...   ...  \n",
       "971             0.0    0.0  0.0                        0.0   0.0  \n",
       "972             0.0    0.0  0.0                        0.0   0.0  \n",
       "973             0.0    0.0  0.0                        0.0   0.0  \n",
       "974             0.0    0.0  0.0                        0.0   0.0  \n",
       "975             0.0    0.0  0.0                        0.0   0.0  \n",
       "\n",
       "[976 rows x 44953 columns]"
      ]
     },
     "execution_count": 21,
     "metadata": {},
     "output_type": "execute_result"
    }
   ],
   "source": [
    "features= pd.DataFrame(tfidfs.todense(), columns=tfidf.get_feature_names())\n",
    "features"
   ]
  },
  {
   "cell_type": "code",
   "execution_count": null,
   "id": "8084e1a4",
   "metadata": {},
   "outputs": [],
   "source": [
    "features.info()"
   ]
  },
  {
   "cell_type": "code",
   "execution_count": null,
   "id": "69271d5a",
   "metadata": {},
   "outputs": [],
   "source": [
    "df['readme_contents'].head()"
   ]
  },
  {
   "cell_type": "code",
   "execution_count": null,
   "id": "6d1c087e",
   "metadata": {},
   "outputs": [],
   "source": [
    " #From the Series we can extract the value_counts, which is our raw count\n",
    "# for term frequency. Once we have the raw counts, we can calculate the\n",
    "# other measures.\n",
    "df2 = (pd.DataFrame({'raw_count': word_counts.value_counts()})\n",
    " .assign(frequency=lambda df: df.raw_count / df.raw_count.sum())\n",
    " .assign(augmented_frequency=lambda df: df.frequency / df.frequency.max()))"
   ]
  },
  {
   "cell_type": "code",
   "execution_count": 20,
   "id": "2f679a4a",
   "metadata": {},
   "outputs": [
    {
     "data": {
      "text/html": [
       "<div>\n",
       "<style scoped>\n",
       "    .dataframe tbody tr th:only-of-type {\n",
       "        vertical-align: middle;\n",
       "    }\n",
       "\n",
       "    .dataframe tbody tr th {\n",
       "        vertical-align: top;\n",
       "    }\n",
       "\n",
       "    .dataframe thead th {\n",
       "        text-align: right;\n",
       "    }\n",
       "</style>\n",
       "<table border=\"1\" class=\"dataframe\">\n",
       "  <thead>\n",
       "    <tr style=\"text-align: right;\">\n",
       "      <th></th>\n",
       "      <th>readme_contents</th>\n",
       "    </tr>\n",
       "  </thead>\n",
       "  <tbody>\n",
       "    <tr>\n",
       "      <th>217</th>\n",
       "      <td>update v2 pancakeswap prediction bot pancakesw...</td>\n",
       "    </tr>\n",
       "    <tr>\n",
       "      <th>332</th>\n",
       "      <td>div align center title lint ignore dead url aw...</td>\n",
       "    </tr>\n",
       "    <tr>\n",
       "      <th>82</th>\n",
       "      <td>tp j sdk tokenpocket http tokenpocket gz bcebo...</td>\n",
       "    </tr>\n",
       "    <tr>\n",
       "      <th>914</th>\n",
       "      <td>firedao protocol logo http github com firedao ...</td>\n",
       "    </tr>\n",
       "    <tr>\n",
       "      <th>744</th>\n",
       "      <td>readme ha generated file blueprint md p align ...</td>\n",
       "    </tr>\n",
       "  </tbody>\n",
       "</table>\n",
       "</div>"
      ],
      "text/plain": [
       "                                       readme_contents\n",
       "217  update v2 pancakeswap prediction bot pancakesw...\n",
       "332  div align center title lint ignore dead url aw...\n",
       "82   tp j sdk tokenpocket http tokenpocket gz bcebo...\n",
       "914  firedao protocol logo http github com firedao ...\n",
       "744  readme ha generated file blueprint md p align ..."
      ]
     },
     "execution_count": 20,
     "metadata": {},
     "output_type": "execute_result"
    }
   ],
   "source": [
    "X_train.head()"
   ]
  },
  {
   "cell_type": "code",
   "execution_count": 19,
   "id": "cf46e575",
   "metadata": {},
   "outputs": [
    {
     "name": "stdout",
     "output_type": "stream",
     "text": [
      "<class 'pandas.core.frame.DataFrame'>\n",
      "Int64Index: 546 entries, 217 to 757\n",
      "Data columns (total 1 columns):\n",
      " #   Column           Non-Null Count  Dtype \n",
      "---  ------           --------------  ----- \n",
      " 0   readme_contents  546 non-null    object\n",
      "dtypes: object(1)\n",
      "memory usage: 8.5+ KB\n"
     ]
    }
   ],
   "source": [
    "X_train.info()"
   ]
  },
  {
   "cell_type": "code",
   "execution_count": 15,
   "id": "34acdbe5",
   "metadata": {},
   "outputs": [
    {
     "ename": "ValueError",
     "evalue": "could not convert string to float: \"update v2 pancakeswap prediction bot pancakeswap prediction game bot includes backtesting code try new strategy changing env variable risk free environment work pancakepredictionv2 http pancakeswap finance prediction use 1 provide private key env private key field 2 install dependency npm 4 start app npm run start 5 enjoy winning export private key metamask open account click three point top right corner account detail export private key backtesting pancakeswap data 1 update initialepoch current epoch pancake 5 example current epoch 25890 25885 2 update finalepoch current epoch pancake 500 example current epoch 25890 25390 3 install dependency npm 4 run npm run download data needed code contains history json file 5 run npm run backtest 6 open file chart png alt pancakeswap prediction bot winner image ppw image png alt pancakeswap prediction bot winner screenshot image ppw image 2 png alt candle genie bot winner screenshot image ppw image 3 png strategy bot strategy found src bot http github com xbidi pancakeswapbot blob main src bot l73 bet biggest bull bear payout const bet roundbullamount roundbearamount ' bull ' ' bear ' increase bet amount bot us strategy check env modify multiplier initial bet amount http en wikipedia org wiki martingale probability theory beware fork give guarantee fork may turn scam disclaimer ' coding stuff pure open source every time bot win donates small portion winning developer account continue improving bot 0xc3c531be09102e84d4273984e29e827d71e28ae8 investment strategy investment involve risk loss nothing contained program script code repository construed investment advice reference investment ' past potential performance construed recommendation guarantee specific outcome profit using program accept liability claim made developer others connected program\"",
     "output_type": "error",
     "traceback": [
      "\u001b[0;31m---------------------------------------------------------------------------\u001b[0m",
      "\u001b[0;31mValueError\u001b[0m                                Traceback (most recent call last)",
      "Input \u001b[0;32mIn [15]\u001b[0m, in \u001b[0;36m<cell line: 2>\u001b[0;34m()\u001b[0m\n\u001b[1;32m      1\u001b[0m clf \u001b[38;5;241m=\u001b[39m DecisionTreeClassifier(max_depth\u001b[38;5;241m=\u001b[39m\u001b[38;5;241m3\u001b[39m, random_state\u001b[38;5;241m=\u001b[39m\u001b[38;5;241m123\u001b[39m)\n\u001b[0;32m----> 2\u001b[0m clf \u001b[38;5;241m=\u001b[39m \u001b[43mclf\u001b[49m\u001b[38;5;241;43m.\u001b[39;49m\u001b[43mfit\u001b[49m\u001b[43m(\u001b[49m\u001b[43mX_train\u001b[49m\u001b[43m,\u001b[49m\u001b[43m \u001b[49m\u001b[43my_train\u001b[49m\u001b[43m)\u001b[49m\n\u001b[1;32m      4\u001b[0m plt\u001b[38;5;241m.\u001b[39mfigure(figsize\u001b[38;5;241m=\u001b[39m(\u001b[38;5;241m13\u001b[39m, \u001b[38;5;241m7\u001b[39m))\n\u001b[1;32m      5\u001b[0m plot_tree(clf, feature_names\u001b[38;5;241m=\u001b[39mX_train\u001b[38;5;241m.\u001b[39mcolumns, class_names\u001b[38;5;241m=\u001b[39mclf\u001b[38;5;241m.\u001b[39mclasses_, rounded\u001b[38;5;241m=\u001b[39m\u001b[38;5;28;01mTrue\u001b[39;00m)\n",
      "File \u001b[0;32m/usr/local/anaconda3/lib/python3.9/site-packages/sklearn/tree/_classes.py:937\u001b[0m, in \u001b[0;36mDecisionTreeClassifier.fit\u001b[0;34m(self, X, y, sample_weight, check_input, X_idx_sorted)\u001b[0m\n\u001b[1;32m    899\u001b[0m \u001b[38;5;28;01mdef\u001b[39;00m \u001b[38;5;21mfit\u001b[39m(\n\u001b[1;32m    900\u001b[0m     \u001b[38;5;28mself\u001b[39m, X, y, sample_weight\u001b[38;5;241m=\u001b[39m\u001b[38;5;28;01mNone\u001b[39;00m, check_input\u001b[38;5;241m=\u001b[39m\u001b[38;5;28;01mTrue\u001b[39;00m, X_idx_sorted\u001b[38;5;241m=\u001b[39m\u001b[38;5;124m\"\u001b[39m\u001b[38;5;124mdeprecated\u001b[39m\u001b[38;5;124m\"\u001b[39m\n\u001b[1;32m    901\u001b[0m ):\n\u001b[1;32m    902\u001b[0m     \u001b[38;5;124;03m\"\"\"Build a decision tree classifier from the training set (X, y).\u001b[39;00m\n\u001b[1;32m    903\u001b[0m \n\u001b[1;32m    904\u001b[0m \u001b[38;5;124;03m    Parameters\u001b[39;00m\n\u001b[0;32m   (...)\u001b[0m\n\u001b[1;32m    934\u001b[0m \u001b[38;5;124;03m        Fitted estimator.\u001b[39;00m\n\u001b[1;32m    935\u001b[0m \u001b[38;5;124;03m    \"\"\"\u001b[39;00m\n\u001b[0;32m--> 937\u001b[0m     \u001b[38;5;28;43msuper\u001b[39;49m\u001b[43m(\u001b[49m\u001b[43m)\u001b[49m\u001b[38;5;241;43m.\u001b[39;49m\u001b[43mfit\u001b[49m\u001b[43m(\u001b[49m\n\u001b[1;32m    938\u001b[0m \u001b[43m        \u001b[49m\u001b[43mX\u001b[49m\u001b[43m,\u001b[49m\n\u001b[1;32m    939\u001b[0m \u001b[43m        \u001b[49m\u001b[43my\u001b[49m\u001b[43m,\u001b[49m\n\u001b[1;32m    940\u001b[0m \u001b[43m        \u001b[49m\u001b[43msample_weight\u001b[49m\u001b[38;5;241;43m=\u001b[39;49m\u001b[43msample_weight\u001b[49m\u001b[43m,\u001b[49m\n\u001b[1;32m    941\u001b[0m \u001b[43m        \u001b[49m\u001b[43mcheck_input\u001b[49m\u001b[38;5;241;43m=\u001b[39;49m\u001b[43mcheck_input\u001b[49m\u001b[43m,\u001b[49m\n\u001b[1;32m    942\u001b[0m \u001b[43m        \u001b[49m\u001b[43mX_idx_sorted\u001b[49m\u001b[38;5;241;43m=\u001b[39;49m\u001b[43mX_idx_sorted\u001b[49m\u001b[43m,\u001b[49m\n\u001b[1;32m    943\u001b[0m \u001b[43m    \u001b[49m\u001b[43m)\u001b[49m\n\u001b[1;32m    944\u001b[0m     \u001b[38;5;28;01mreturn\u001b[39;00m \u001b[38;5;28mself\u001b[39m\n",
      "File \u001b[0;32m/usr/local/anaconda3/lib/python3.9/site-packages/sklearn/tree/_classes.py:165\u001b[0m, in \u001b[0;36mBaseDecisionTree.fit\u001b[0;34m(self, X, y, sample_weight, check_input, X_idx_sorted)\u001b[0m\n\u001b[1;32m    163\u001b[0m check_X_params \u001b[38;5;241m=\u001b[39m \u001b[38;5;28mdict\u001b[39m(dtype\u001b[38;5;241m=\u001b[39mDTYPE, accept_sparse\u001b[38;5;241m=\u001b[39m\u001b[38;5;124m\"\u001b[39m\u001b[38;5;124mcsc\u001b[39m\u001b[38;5;124m\"\u001b[39m)\n\u001b[1;32m    164\u001b[0m check_y_params \u001b[38;5;241m=\u001b[39m \u001b[38;5;28mdict\u001b[39m(ensure_2d\u001b[38;5;241m=\u001b[39m\u001b[38;5;28;01mFalse\u001b[39;00m, dtype\u001b[38;5;241m=\u001b[39m\u001b[38;5;28;01mNone\u001b[39;00m)\n\u001b[0;32m--> 165\u001b[0m X, y \u001b[38;5;241m=\u001b[39m \u001b[38;5;28;43mself\u001b[39;49m\u001b[38;5;241;43m.\u001b[39;49m\u001b[43m_validate_data\u001b[49m\u001b[43m(\u001b[49m\n\u001b[1;32m    166\u001b[0m \u001b[43m    \u001b[49m\u001b[43mX\u001b[49m\u001b[43m,\u001b[49m\u001b[43m \u001b[49m\u001b[43my\u001b[49m\u001b[43m,\u001b[49m\u001b[43m \u001b[49m\u001b[43mvalidate_separately\u001b[49m\u001b[38;5;241;43m=\u001b[39;49m\u001b[43m(\u001b[49m\u001b[43mcheck_X_params\u001b[49m\u001b[43m,\u001b[49m\u001b[43m \u001b[49m\u001b[43mcheck_y_params\u001b[49m\u001b[43m)\u001b[49m\n\u001b[1;32m    167\u001b[0m \u001b[43m\u001b[49m\u001b[43m)\u001b[49m\n\u001b[1;32m    168\u001b[0m \u001b[38;5;28;01mif\u001b[39;00m issparse(X):\n\u001b[1;32m    169\u001b[0m     X\u001b[38;5;241m.\u001b[39msort_indices()\n",
      "File \u001b[0;32m/usr/local/anaconda3/lib/python3.9/site-packages/sklearn/base.py:578\u001b[0m, in \u001b[0;36mBaseEstimator._validate_data\u001b[0;34m(self, X, y, reset, validate_separately, **check_params)\u001b[0m\n\u001b[1;32m    572\u001b[0m \u001b[38;5;28;01mif\u001b[39;00m validate_separately:\n\u001b[1;32m    573\u001b[0m     \u001b[38;5;66;03m# We need this because some estimators validate X and y\u001b[39;00m\n\u001b[1;32m    574\u001b[0m     \u001b[38;5;66;03m# separately, and in general, separately calling check_array()\u001b[39;00m\n\u001b[1;32m    575\u001b[0m     \u001b[38;5;66;03m# on X and y isn't equivalent to just calling check_X_y()\u001b[39;00m\n\u001b[1;32m    576\u001b[0m     \u001b[38;5;66;03m# :(\u001b[39;00m\n\u001b[1;32m    577\u001b[0m     check_X_params, check_y_params \u001b[38;5;241m=\u001b[39m validate_separately\n\u001b[0;32m--> 578\u001b[0m     X \u001b[38;5;241m=\u001b[39m \u001b[43mcheck_array\u001b[49m\u001b[43m(\u001b[49m\u001b[43mX\u001b[49m\u001b[43m,\u001b[49m\u001b[43m \u001b[49m\u001b[38;5;241;43m*\u001b[39;49m\u001b[38;5;241;43m*\u001b[39;49m\u001b[43mcheck_X_params\u001b[49m\u001b[43m)\u001b[49m\n\u001b[1;32m    579\u001b[0m     y \u001b[38;5;241m=\u001b[39m check_array(y, \u001b[38;5;241m*\u001b[39m\u001b[38;5;241m*\u001b[39mcheck_y_params)\n\u001b[1;32m    580\u001b[0m \u001b[38;5;28;01melse\u001b[39;00m:\n",
      "File \u001b[0;32m/usr/local/anaconda3/lib/python3.9/site-packages/sklearn/utils/validation.py:746\u001b[0m, in \u001b[0;36mcheck_array\u001b[0;34m(array, accept_sparse, accept_large_sparse, dtype, order, copy, force_all_finite, ensure_2d, allow_nd, ensure_min_samples, ensure_min_features, estimator)\u001b[0m\n\u001b[1;32m    744\u001b[0m         array \u001b[38;5;241m=\u001b[39m array\u001b[38;5;241m.\u001b[39mastype(dtype, casting\u001b[38;5;241m=\u001b[39m\u001b[38;5;124m\"\u001b[39m\u001b[38;5;124munsafe\u001b[39m\u001b[38;5;124m\"\u001b[39m, copy\u001b[38;5;241m=\u001b[39m\u001b[38;5;28;01mFalse\u001b[39;00m)\n\u001b[1;32m    745\u001b[0m     \u001b[38;5;28;01melse\u001b[39;00m:\n\u001b[0;32m--> 746\u001b[0m         array \u001b[38;5;241m=\u001b[39m \u001b[43mnp\u001b[49m\u001b[38;5;241;43m.\u001b[39;49m\u001b[43masarray\u001b[49m\u001b[43m(\u001b[49m\u001b[43marray\u001b[49m\u001b[43m,\u001b[49m\u001b[43m \u001b[49m\u001b[43morder\u001b[49m\u001b[38;5;241;43m=\u001b[39;49m\u001b[43morder\u001b[49m\u001b[43m,\u001b[49m\u001b[43m \u001b[49m\u001b[43mdtype\u001b[49m\u001b[38;5;241;43m=\u001b[39;49m\u001b[43mdtype\u001b[49m\u001b[43m)\u001b[49m\n\u001b[1;32m    747\u001b[0m \u001b[38;5;28;01mexcept\u001b[39;00m ComplexWarning \u001b[38;5;28;01mas\u001b[39;00m complex_warning:\n\u001b[1;32m    748\u001b[0m     \u001b[38;5;28;01mraise\u001b[39;00m \u001b[38;5;167;01mValueError\u001b[39;00m(\n\u001b[1;32m    749\u001b[0m         \u001b[38;5;124m\"\u001b[39m\u001b[38;5;124mComplex data not supported\u001b[39m\u001b[38;5;130;01m\\n\u001b[39;00m\u001b[38;5;132;01m{}\u001b[39;00m\u001b[38;5;130;01m\\n\u001b[39;00m\u001b[38;5;124m\"\u001b[39m\u001b[38;5;241m.\u001b[39mformat(array)\n\u001b[1;32m    750\u001b[0m     ) \u001b[38;5;28;01mfrom\u001b[39;00m \u001b[38;5;21;01mcomplex_warning\u001b[39;00m\n",
      "File \u001b[0;32m/usr/local/anaconda3/lib/python3.9/site-packages/pandas/core/generic.py:2064\u001b[0m, in \u001b[0;36mNDFrame.__array__\u001b[0;34m(self, dtype)\u001b[0m\n\u001b[1;32m   2063\u001b[0m \u001b[38;5;28;01mdef\u001b[39;00m \u001b[38;5;21m__array__\u001b[39m(\u001b[38;5;28mself\u001b[39m, dtype: npt\u001b[38;5;241m.\u001b[39mDTypeLike \u001b[38;5;241m|\u001b[39m \u001b[38;5;28;01mNone\u001b[39;00m \u001b[38;5;241m=\u001b[39m \u001b[38;5;28;01mNone\u001b[39;00m) \u001b[38;5;241m-\u001b[39m\u001b[38;5;241m>\u001b[39m np\u001b[38;5;241m.\u001b[39mndarray:\n\u001b[0;32m-> 2064\u001b[0m     \u001b[38;5;28;01mreturn\u001b[39;00m \u001b[43mnp\u001b[49m\u001b[38;5;241;43m.\u001b[39;49m\u001b[43masarray\u001b[49m\u001b[43m(\u001b[49m\u001b[38;5;28;43mself\u001b[39;49m\u001b[38;5;241;43m.\u001b[39;49m\u001b[43m_values\u001b[49m\u001b[43m,\u001b[49m\u001b[43m \u001b[49m\u001b[43mdtype\u001b[49m\u001b[38;5;241;43m=\u001b[39;49m\u001b[43mdtype\u001b[49m\u001b[43m)\u001b[49m\n",
      "\u001b[0;31mValueError\u001b[0m: could not convert string to float: \"update v2 pancakeswap prediction bot pancakeswap prediction game bot includes backtesting code try new strategy changing env variable risk free environment work pancakepredictionv2 http pancakeswap finance prediction use 1 provide private key env private key field 2 install dependency npm 4 start app npm run start 5 enjoy winning export private key metamask open account click three point top right corner account detail export private key backtesting pancakeswap data 1 update initialepoch current epoch pancake 5 example current epoch 25890 25885 2 update finalepoch current epoch pancake 500 example current epoch 25890 25390 3 install dependency npm 4 run npm run download data needed code contains history json file 5 run npm run backtest 6 open file chart png alt pancakeswap prediction bot winner image ppw image png alt pancakeswap prediction bot winner screenshot image ppw image 2 png alt candle genie bot winner screenshot image ppw image 3 png strategy bot strategy found src bot http github com xbidi pancakeswapbot blob main src bot l73 bet biggest bull bear payout const bet roundbullamount roundbearamount ' bull ' ' bear ' increase bet amount bot us strategy check env modify multiplier initial bet amount http en wikipedia org wiki martingale probability theory beware fork give guarantee fork may turn scam disclaimer ' coding stuff pure open source every time bot win donates small portion winning developer account continue improving bot 0xc3c531be09102e84d4273984e29e827d71e28ae8 investment strategy investment involve risk loss nothing contained program script code repository construed investment advice reference investment ' past potential performance construed recommendation guarantee specific outcome profit using program accept liability claim made developer others connected program\""
     ]
    }
   ],
   "source": [
    "clf = DecisionTreeClassifier(max_depth=3, random_state=123)\n",
    "clf = clf.fit(X_train, y_train)\n",
    "\n",
    "plt.figure(figsize=(13, 7))\n",
    "plot_tree(clf, feature_names=X_train.columns, class_names=clf.classes_, rounded=True)"
   ]
  },
  {
   "cell_type": "code",
   "execution_count": null,
   "id": "680f4e03",
   "metadata": {},
   "outputs": [],
   "source": []
  }
 ],
 "metadata": {
  "kernelspec": {
   "display_name": "Python 3 (ipykernel)",
   "language": "python",
   "name": "python3"
  },
  "language_info": {
   "codemirror_mode": {
    "name": "ipython",
    "version": 3
   },
   "file_extension": ".py",
   "mimetype": "text/x-python",
   "name": "python",
   "nbconvert_exporter": "python",
   "pygments_lexer": "ipython3",
   "version": "3.9.12"
  }
 },
 "nbformat": 4,
 "nbformat_minor": 5
}
