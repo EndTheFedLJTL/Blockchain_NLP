{
 "cells": [
  {
   "cell_type": "code",
   "execution_count": 26,
   "id": "6b6568f7",
   "metadata": {},
   "outputs": [],
   "source": [
    "import os\n",
    "import json\n",
    "from typing import Dict, List, Optional, Union, cast\n",
    "from env import github_token, github_username\n",
    "import acquire\n",
    "import pandas as pd\n",
    "import seaborn as sns\n",
    "import requests\n",
    "from bs4 import BeautifulSoup\n",
    "import regex as re\n",
    "import time\n",
    "import numpy as np\n",
    "import unicodedata\n",
    "import nltk\n",
    "from nltk.tokenize.toktok import ToktokTokenizer\n",
    "from nltk.corpus import stopwords\n",
    "from wordcloud import WordCloud\n",
    "import prepare_repos\n",
    "import collections\n",
    "import matplotlib.pyplot as plt\n",
    "from sklearn.tree import DecisionTreeClassifier, plot_tree\n",
    "from sklearn.metrics import classification_report\n",
    "from sklearn.metrics import confusion_matrix\n",
    "from sklearn.feature_extraction.text import TfidfVectorizer\n",
    "from sklearn.model_selection import train_test_split\n",
    "from sklearn.metrics import mean_squared_error"
   ]
  },
  {
   "cell_type": "code",
   "execution_count": null,
   "id": "d35419dc",
   "metadata": {},
   "outputs": [],
   "source": [
    "def create_urls(num=5000):\n",
    "    ''' this function scrapes the cryptography repositories from github and returns a list of urls\n",
    "    '''\n",
    "    num_of_repos=num\n",
    "\n",
    "    page_numbers = [i for i in range(0,101)]\n",
    "    print(page_numbers)\n",
    "    urls = [f'https://github.com/search?p={i}&q=%23defi&type=Repositories&per_page=100' for i in page_numbers]\n",
    "\n",
    "    print(urls)\n",
    "    return urls"
   ]
  },
  {
   "cell_type": "markdown",
   "id": "dd431a16",
   "metadata": {},
   "source": [
    "##### create_urls()"
   ]
  },
  {
   "cell_type": "code",
   "execution_count": null,
   "id": "d607e6b0",
   "metadata": {},
   "outputs": [],
   "source": [
    "def get_endpoints(url):\n",
    "    ''' This function gets the endpoints from the list of above urls\n",
    "    '''\n",
    "\n",
    "    headers = {\"Authorization\": f\"token {github_token}\", \"User-Agent\": github_username}\n",
    "    \n",
    "    while True:\n",
    "        response = requests.get(url, headers=headers)\n",
    "        if response.ok:\n",
    "            break\n",
    "        else:\n",
    "            print('sleeping')\n",
    "            time.sleep(20)\n",
    "            continue\n",
    "    soup = BeautifulSoup(response.text)\n",
    "    \n",
    "    print(response.ok)\n",
    "\n",
    "    endpoints = []\n",
    "    subgroups = soup.find_all('div', {\"class\":\"f4 text-normal\"})\n",
    "\n",
    "    for group in subgroups:\n",
    "        endpoints.append(re.search('href=\".*\"', str(group))[0][6:-1])\n",
    "\n",
    "    return endpoints"
   ]
  },
  {
   "cell_type": "code",
   "execution_count": null,
   "id": "2d5e36df",
   "metadata": {},
   "outputs": [],
   "source": [
    "get_endpoints('https://github.com/search?p=100&q=%23defi&type=Repositories&per_page=100')"
   ]
  },
  {
   "cell_type": "code",
   "execution_count": null,
   "id": "658b3e0c",
   "metadata": {},
   "outputs": [],
   "source": [
    "def make_all_endpoints():\n",
    "    ''' This function returns all of the endpoints\n",
    "    '''\n",
    "    urls = create_urls()\n",
    "    for url in urls:\n",
    "        print(url)\n",
    "    all_endpoints = []\n",
    "\n",
    "    for i, page in enumerate(urls):\n",
    "        all_endpoints.append(get_endpoints(page))\n",
    "        print(page)\n",
    "\n",
    "    print(len(all_endpoints))\n",
    "\n",
    "    return all_endpoints"
   ]
  },
  {
   "cell_type": "code",
   "execution_count": null,
   "id": "1d0ecb64",
   "metadata": {},
   "outputs": [],
   "source": [
    "make_all_endpoints()"
   ]
  },
  {
   "cell_type": "code",
   "execution_count": null,
   "id": "c4b9f793",
   "metadata": {},
   "outputs": [],
   "source": [
    "def acquire_endpoints():\n",
    "    ''' This function acquires all endpoints and writes them to a csv.\n",
    "    '''\n",
    "    our_endpoints = pd.Series(make_all_endpoints(), name='endpoints')\n",
    "    our_endpoints.to_csv('endpoints.csv', index=False)\n",
    "\n",
    "    return our_endpoints"
   ]
  },
  {
   "cell_type": "code",
   "execution_count": null,
   "id": "4bdc0c8c",
   "metadata": {},
   "outputs": [],
   "source": [
    "x=acquire_endpoints()"
   ]
  },
  {
   "cell_type": "code",
   "execution_count": null,
   "id": "0ad37827",
   "metadata": {},
   "outputs": [],
   "source": [
    "def flatten_endpoints():\n",
    "    ''' This function flattens a 2d array into a 1d array\n",
    "    '''\n",
    "    end_points = pd.read_csv('endpoints.csv')\n",
    "    all_values = []\n",
    "    for value in end_points.values:\n",
    "        for ep in value:\n",
    "            all_values.append(ep)\n",
    "\n",
    "    final_values = []\n",
    "    #print(all_values)\n",
    "    for value in all_values:\n",
    "        for val in value.split(\"'\"):\n",
    "            if len(val) > 3:\n",
    "                final_values.append(val)\n",
    "                print(val)\n",
    "\n",
    "    return pd.Series(final_values, name='endpoints')"
   ]
  },
  {
   "cell_type": "code",
   "execution_count": null,
   "id": "fdc4e708",
   "metadata": {},
   "outputs": [],
   "source": [
    "endpoints = flatten_endpoints()"
   ]
  },
  {
   "cell_type": "code",
   "execution_count": null,
   "id": "7ca02401",
   "metadata": {},
   "outputs": [],
   "source": [
    "REPOS = list(endpoints)"
   ]
  },
  {
   "cell_type": "code",
   "execution_count": null,
   "id": "143c87ca",
   "metadata": {},
   "outputs": [],
   "source": [
    "REPOS[5:]"
   ]
  },
  {
   "cell_type": "code",
   "execution_count": null,
   "id": "efd59e58",
   "metadata": {},
   "outputs": [],
   "source": [
    "\n",
    "headers = {\"Authorization\": f\"token {github_token}\", \"User-Agent\": github_username}\n",
    "\n",
    "if headers[\"Authorization\"] == \"token \" or headers[\"User-Agent\"] == \"\":\n",
    "    raise Exception(\n",
    "        \"You need to follow the instructions marked TODO in this script before trying to use it\"\n",
    "    )\n",
    "\n",
    "\n",
    "def github_api_request(url: str) -> Union[List, Dict]:\n",
    "    ''' This function makes requests from github and raises an error code if a specific error code is received.\n",
    "    '''\n",
    "    response = requests.get(url, headers=headers)\n",
    "    response_data = response.json()\n",
    "    if response.status_code != 200:\n",
    "        raise Exception(\n",
    "            f\"Error response from github api! status code: {response.status_code}, \"\n",
    "            f\"response: {json.dumps(response_data)}\"\n",
    "        )\n",
    "    return response_data\n",
    "\n",
    "\n",
    "def get_repo_language(repo: str) -> str:\n",
    "    ''' This function fetches the language associated with a repository\n",
    "    '''\n",
    "    url = f\"https://api.github.com/repos{repo}\"\n",
    "    repo_info = github_api_request(url)\n",
    "    if type(repo_info) is dict:\n",
    "        repo_info = cast(Dict, repo_info)\n",
    "        if \"language\" not in repo_info:\n",
    "            raise Exception(\n",
    "                \"'language' key not round in response\\n{}\".format(json.dumps(repo_info))\n",
    "            )\n",
    "        return repo_info[\"language\"]\n",
    "    raise Exception(\n",
    "        f\"Expecting a dictionary response from {url}, instead got {json.dumps(repo_info)}\"\n",
    "    )\n",
    "\n",
    "def get_repo_contents(repo: str) -> List[Dict[str, str]]:\n",
    "    ''' This function fetches the contents associated with a repo\n",
    "    '''\n",
    "    url = f\"https://api.github.com/repos{REPOS}/contents/\"\n",
    "    contents = github_api_request(url)\n",
    "    if type(contents) is list:\n",
    "        contents = cast(List, contents)\n",
    "        return contents\n",
    "    raise Exception(\n",
    "        f\"Expecting a list response from {url}, instead got {json.dumps(contents)}\"\n",
    "    )\n",
    "\n",
    "def get_readme_download_url(files: List[Dict[str, str]]) -> str:\n",
    "    \"\"\"\n",
    "    Takes in a response from the github api that lists the files in a repo and\n",
    "    returns the url that can be used to download the repo's README file.\n",
    "    \"\"\"\n",
    "    for file in files:\n",
    "        if file[\"name\"].lower().startswith(\"readme\"):\n",
    "            return file[\"download_url\"]\n",
    "    return \"\"\n",
    "\n",
    "def process_repo(repo: str) -> Dict[str, str]:\n",
    "    \"\"\"\n",
    "    Takes a repo name like \"gocodeup/codeup-setup-script\" and returns a\n",
    "    dictionary with the language of the repo and the readme contents.\n",
    "    \"\"\"\n",
    "    contents = get_repo_contents(repo)\n",
    "    readme_download_url = get_readme_download_url(contents)\n",
    "    if readme_download_url == \"\":\n",
    "        readme_contents = \"\"\n",
    "    else:\n",
    "        response = requests.get(readme_download_url)\n",
    "        print(readme_download_url)\n",
    "        print(response.status_code)\n",
    "        readme_contents = requests.get(readme_download_url).text\n",
    "        \n",
    "    return {\n",
    "        \"repo\": repo,\n",
    "        \"language\": get_repo_language(repo),\n",
    "        \"readme_contents\": readme_contents,\n",
    "    }\n"
   ]
  },
  {
   "cell_type": "code",
   "execution_count": null,
   "id": "233ef0f4",
   "metadata": {},
   "outputs": [],
   "source": [
    "def scrape_github_data() -> List[Dict[str, str]]:\n",
    "    \"\"\"\n",
    "    Loop through all of the repos and process them. Returns the processed data.\n",
    "    \"\"\"\n",
    "    \n",
    "    output = []\n",
    "    for repo in REPOS:\n",
    "        \n",
    "        url = f\"https://api.github.com/repos{repo}/contents/\"\n",
    "        print(repo)\n",
    "        response = requests.get(url, headers=headers)\n",
    "        \n",
    "        if response.status_code != 200:\n",
    "            print(f\"Skipping {repo} because its HTTP status code is {response.status_code}\")\n",
    "            continue\n",
    "        \n",
    "        contents = response.json()\n",
    "        readme_download_url = get_readme_download_url(contents)\n",
    "        \n",
    "        if readme_download_url == \"\":\n",
    "            readme_contents = \"\"\n",
    "        else:\n",
    "            response = requests.get(readme_download_url)\n",
    "            if response.status_code != 200:\n",
    "                print(f\"Skipping {repo} because its HTTP status code is {response.status_code}\")\n",
    "                continue\n",
    "            readme_contents = requests.get(readme_download_url).text\n",
    "        print(repo)\n",
    "        result = {\n",
    "            \"repo\": repo,\n",
    "            \"language\": get_repo_language(repo),\n",
    "            \"readme_contents\": readme_contents,\n",
    "        }\n",
    "    \n",
    "        output.append(result)\n",
    "        \n",
    "    return output"
   ]
  },
  {
   "cell_type": "code",
   "execution_count": null,
   "id": "dc039c52",
   "metadata": {},
   "outputs": [],
   "source": [
    "data = scrape_github_data()"
   ]
  },
  {
   "cell_type": "code",
   "execution_count": null,
   "id": "6ffbd8cf",
   "metadata": {},
   "outputs": [],
   "source": [
    "data[:5]"
   ]
  },
  {
   "cell_type": "code",
   "execution_count": null,
   "id": "b3908456",
   "metadata": {},
   "outputs": [],
   "source": [
    "import csv\n",
    "to_csv = data\n",
    "keys = to_csv[0].keys()\n",
    "#save to csv\n",
    "with open('data.csv', 'w', newline='') as output_file:\n",
    "    dict_writer = csv.DictWriter(output_file, keys)\n",
    "    dict_writer.writeheader()\n",
    "    dict_writer.writerows(to_csv)"
   ]
  },
  {
   "cell_type": "code",
   "execution_count": 2,
   "id": "311454f5",
   "metadata": {},
   "outputs": [
    {
     "data": {
      "text/html": [
       "<div>\n",
       "<style scoped>\n",
       "    .dataframe tbody tr th:only-of-type {\n",
       "        vertical-align: middle;\n",
       "    }\n",
       "\n",
       "    .dataframe tbody tr th {\n",
       "        vertical-align: top;\n",
       "    }\n",
       "\n",
       "    .dataframe thead th {\n",
       "        text-align: right;\n",
       "    }\n",
       "</style>\n",
       "<table border=\"1\" class=\"dataframe\">\n",
       "  <thead>\n",
       "    <tr style=\"text-align: right;\">\n",
       "      <th></th>\n",
       "      <th>repo</th>\n",
       "      <th>language</th>\n",
       "      <th>readme_contents</th>\n",
       "    </tr>\n",
       "  </thead>\n",
       "  <tbody>\n",
       "    <tr>\n",
       "      <th>0</th>\n",
       "      <td>/OffcierCia/DeFi-Developer-Road-Map</td>\n",
       "      <td>NaN</td>\n",
       "      <td># DeFi Developer Road Map\\n\\n**Here we collect...</td>\n",
       "    </tr>\n",
       "    <tr>\n",
       "      <th>1</th>\n",
       "      <td>/smartcontractkit/full-blockchain-solidity-cou...</td>\n",
       "      <td>NaN</td>\n",
       "      <td>&lt;!-- [YouTube Video](https://www.youtube.com/w...</td>\n",
       "    </tr>\n",
       "    <tr>\n",
       "      <th>2</th>\n",
       "      <td>/rainbow-me/rainbow</td>\n",
       "      <td>TypeScript</td>\n",
       "      <td>![](https://pbs.twimg.com/profile_banners/1103...</td>\n",
       "    </tr>\n",
       "    <tr>\n",
       "      <th>3</th>\n",
       "      <td>/Bytom/bytom</td>\n",
       "      <td>Go</td>\n",
       "      <td>Bytom\\n======\\n\\n[![Build Status](https://trav...</td>\n",
       "    </tr>\n",
       "    <tr>\n",
       "      <th>4</th>\n",
       "      <td>/DimensionDev/Maskbook</td>\n",
       "      <td>TypeScript</td>\n",
       "      <td>&lt;!-- cspell:disable --&gt;\\n&lt;!-- markdownlint-dis...</td>\n",
       "    </tr>\n",
       "  </tbody>\n",
       "</table>\n",
       "</div>"
      ],
      "text/plain": [
       "                                                repo    language  \\\n",
       "0                /OffcierCia/DeFi-Developer-Road-Map         NaN   \n",
       "1  /smartcontractkit/full-blockchain-solidity-cou...         NaN   \n",
       "2                                /rainbow-me/rainbow  TypeScript   \n",
       "3                                       /Bytom/bytom          Go   \n",
       "4                             /DimensionDev/Maskbook  TypeScript   \n",
       "\n",
       "                                     readme_contents  \n",
       "0  # DeFi Developer Road Map\\n\\n**Here we collect...  \n",
       "1  <!-- [YouTube Video](https://www.youtube.com/w...  \n",
       "2  ![](https://pbs.twimg.com/profile_banners/1103...  \n",
       "3  Bytom\\n======\\n\\n[![Build Status](https://trav...  \n",
       "4  <!-- cspell:disable -->\\n<!-- markdownlint-dis...  "
      ]
     },
     "execution_count": 2,
     "metadata": {},
     "output_type": "execute_result"
    }
   ],
   "source": [
    "# open csv\n",
    "df = pd.read_csv('data.csv') \n",
    "df.head()"
   ]
  },
  {
   "cell_type": "code",
   "execution_count": null,
   "id": "c33b22c9",
   "metadata": {},
   "outputs": [],
   "source": [
    "df.language.value_counts()"
   ]
  },
  {
   "cell_type": "markdown",
   "id": "bd977bea",
   "metadata": {},
   "source": [
    "### Prepare"
   ]
  },
  {
   "cell_type": "code",
   "execution_count": null,
   "id": "37d0f604",
   "metadata": {},
   "outputs": [],
   "source": [
    "df.isnull().sum()"
   ]
  },
  {
   "cell_type": "code",
   "execution_count": 4,
   "id": "82196207",
   "metadata": {},
   "outputs": [
    {
     "data": {
      "text/plain": [
       "(976, 3)"
      ]
     },
     "execution_count": 4,
     "metadata": {},
     "output_type": "execute_result"
    }
   ],
   "source": [
    "df = df.dropna()\n",
    "df.shape"
   ]
  },
  {
   "cell_type": "code",
   "execution_count": 3,
   "id": "8a1f5741",
   "metadata": {},
   "outputs": [
    {
     "data": {
      "text/plain": [
       "(1010, 3)"
      ]
     },
     "execution_count": 3,
     "metadata": {},
     "output_type": "execute_result"
    }
   ],
   "source": [
    "df = prepare_repos.fill_nulls(df)\n",
    "df.shape"
   ]
  },
  {
   "cell_type": "code",
   "execution_count": 5,
   "id": "5b22bc1e",
   "metadata": {},
   "outputs": [
    {
     "data": {
      "text/html": [
       "<div>\n",
       "<style scoped>\n",
       "    .dataframe tbody tr th:only-of-type {\n",
       "        vertical-align: middle;\n",
       "    }\n",
       "\n",
       "    .dataframe tbody tr th {\n",
       "        vertical-align: top;\n",
       "    }\n",
       "\n",
       "    .dataframe thead th {\n",
       "        text-align: right;\n",
       "    }\n",
       "</style>\n",
       "<table border=\"1\" class=\"dataframe\">\n",
       "  <thead>\n",
       "    <tr style=\"text-align: right;\">\n",
       "      <th></th>\n",
       "      <th>repo</th>\n",
       "      <th>language</th>\n",
       "      <th>readme_contents</th>\n",
       "    </tr>\n",
       "  </thead>\n",
       "  <tbody>\n",
       "    <tr>\n",
       "      <th>0</th>\n",
       "      <td>/OffcierCia/DeFi-Developer-Road-Map</td>\n",
       "      <td>Not Specified</td>\n",
       "      <td>defi developer road map\\n\\n  here we collect...</td>\n",
       "    </tr>\n",
       "    <tr>\n",
       "      <th>1</th>\n",
       "      <td>/smartcontractkit/full-blockchain-solidity-cou...</td>\n",
       "      <td>Not Specified</td>\n",
       "      <td>youtube video  https   www youtube com w...</td>\n",
       "    </tr>\n",
       "    <tr>\n",
       "      <th>2</th>\n",
       "      <td>/rainbow-me/rainbow</td>\n",
       "      <td>TypeScript</td>\n",
       "      <td>https   pbs twimg com profile banners 1103...</td>\n",
       "    </tr>\n",
       "    <tr>\n",
       "      <th>3</th>\n",
       "      <td>/Bytom/bytom</td>\n",
       "      <td>Go</td>\n",
       "      <td>bytom\\n      \\n\\n   build status  https   trav...</td>\n",
       "    </tr>\n",
       "    <tr>\n",
       "      <th>4</th>\n",
       "      <td>/DimensionDev/Maskbook</td>\n",
       "      <td>TypeScript</td>\n",
       "      <td>cspell disable    \\n     markdownlint dis...</td>\n",
       "    </tr>\n",
       "  </tbody>\n",
       "</table>\n",
       "</div>"
      ],
      "text/plain": [
       "                                                repo       language  \\\n",
       "0                /OffcierCia/DeFi-Developer-Road-Map  Not Specified   \n",
       "1  /smartcontractkit/full-blockchain-solidity-cou...  Not Specified   \n",
       "2                                /rainbow-me/rainbow     TypeScript   \n",
       "3                                       /Bytom/bytom             Go   \n",
       "4                             /DimensionDev/Maskbook     TypeScript   \n",
       "\n",
       "                                     readme_contents  \n",
       "0    defi developer road map\\n\\n  here we collect...  \n",
       "1        youtube video  https   www youtube com w...  \n",
       "2      https   pbs twimg com profile banners 1103...  \n",
       "3  bytom\\n      \\n\\n   build status  https   trav...  \n",
       "4       cspell disable    \\n     markdownlint dis...  "
      ]
     },
     "execution_count": 5,
     "metadata": {},
     "output_type": "execute_result"
    }
   ],
   "source": [
    "df['readme_contents'] = df.readme_contents.apply(prepare_repos.basic_clean)\n",
    "df.head()"
   ]
  },
  {
   "cell_type": "code",
   "execution_count": 6,
   "id": "4d4ea26f",
   "metadata": {},
   "outputs": [
    {
     "data": {
      "text/html": [
       "<div>\n",
       "<style scoped>\n",
       "    .dataframe tbody tr th:only-of-type {\n",
       "        vertical-align: middle;\n",
       "    }\n",
       "\n",
       "    .dataframe tbody tr th {\n",
       "        vertical-align: top;\n",
       "    }\n",
       "\n",
       "    .dataframe thead th {\n",
       "        text-align: right;\n",
       "    }\n",
       "</style>\n",
       "<table border=\"1\" class=\"dataframe\">\n",
       "  <thead>\n",
       "    <tr style=\"text-align: right;\">\n",
       "      <th></th>\n",
       "      <th>repo</th>\n",
       "      <th>language</th>\n",
       "      <th>readme_contents</th>\n",
       "    </tr>\n",
       "  </thead>\n",
       "  <tbody>\n",
       "    <tr>\n",
       "      <th>0</th>\n",
       "      <td>/OffcierCia/DeFi-Developer-Road-Map</td>\n",
       "      <td>Not Specified</td>\n",
       "      <td>defi developer road map collect discus best de...</td>\n",
       "    </tr>\n",
       "    <tr>\n",
       "      <th>1</th>\n",
       "      <td>/smartcontractkit/full-blockchain-solidity-cou...</td>\n",
       "      <td>Not Specified</td>\n",
       "      <td>youtube video http www youtube com watch v m57...</td>\n",
       "    </tr>\n",
       "    <tr>\n",
       "      <th>2</th>\n",
       "      <td>/rainbow-me/rainbow</td>\n",
       "      <td>TypeScript</td>\n",
       "      <td>http pb twimg com profile banner 1103191459409...</td>\n",
       "    </tr>\n",
       "    <tr>\n",
       "      <th>3</th>\n",
       "      <td>/Bytom/bytom</td>\n",
       "      <td>Go</td>\n",
       "      <td>bytom build status http travis ci org bytom by...</td>\n",
       "    </tr>\n",
       "    <tr>\n",
       "      <th>4</th>\n",
       "      <td>/DimensionDev/Maskbook</td>\n",
       "      <td>TypeScript</td>\n",
       "      <td>cspell disable markdownlint disable inline htm...</td>\n",
       "    </tr>\n",
       "  </tbody>\n",
       "</table>\n",
       "</div>"
      ],
      "text/plain": [
       "                                                repo       language  \\\n",
       "0                /OffcierCia/DeFi-Developer-Road-Map  Not Specified   \n",
       "1  /smartcontractkit/full-blockchain-solidity-cou...  Not Specified   \n",
       "2                                /rainbow-me/rainbow     TypeScript   \n",
       "3                                       /Bytom/bytom             Go   \n",
       "4                             /DimensionDev/Maskbook     TypeScript   \n",
       "\n",
       "                                     readme_contents  \n",
       "0  defi developer road map collect discus best de...  \n",
       "1  youtube video http www youtube com watch v m57...  \n",
       "2  http pb twimg com profile banner 1103191459409...  \n",
       "3  bytom build status http travis ci org bytom by...  \n",
       "4  cspell disable markdownlint disable inline htm...  "
      ]
     },
     "execution_count": 6,
     "metadata": {},
     "output_type": "execute_result"
    }
   ],
   "source": [
    "df['readme_contents'] = df.readme_contents.apply(prepare_repos.tokenize).apply(prepare_repos.lemmatize).apply(prepare_repos.remove_stopwords)\n",
    "df.head()"
   ]
  },
  {
   "cell_type": "code",
   "execution_count": null,
   "id": "beaf15bb",
   "metadata": {},
   "outputs": [],
   "source": [
    "df['word_count'] = df['readme_contents'].apply(lambda x : len(x.split()))"
   ]
  },
  {
   "cell_type": "code",
   "execution_count": null,
   "id": "2cd29a3a",
   "metadata": {},
   "outputs": [],
   "source": [
    "df['num_unique_words'] = df['readme_contents'].apply(lambda x: len(set(w for w in x.split())))\n",
    "df['num_repeated_words'] = df['readme_contents'].apply(lambda x: len([w for w in collections.Counter(x.split()).values() if w > 1]))\n",
    "df['character_count'] = df['readme_contents'].apply(lambda x : len(x.replace(\" \",\"\")))\n",
    "df.head()"
   ]
  },
  {
   "cell_type": "code",
   "execution_count": null,
   "id": "16bea600",
   "metadata": {},
   "outputs": [],
   "source": [
    "df.isnull().sum()"
   ]
  },
  {
   "cell_type": "code",
   "execution_count": null,
   "id": "cb910575",
   "metadata": {},
   "outputs": [],
   "source": [
    "df.word_count.plot()"
   ]
  },
  {
   "cell_type": "code",
   "execution_count": null,
   "id": "e211d1d4",
   "metadata": {},
   "outputs": [],
   "source": [
    "df.to_csv('clean_df.csv', index = False)"
   ]
  },
  {
   "cell_type": "code",
   "execution_count": null,
   "id": "0d16a079",
   "metadata": {},
   "outputs": [],
   "source": [
    "fig = px.bar(df, x='language', y='word_count', title='Counts of words', template='plotly_white', labels={'ngram': 'Bigram', 'count': 'Count'})\n",
    "fig.show()"
   ]
  },
  {
   "cell_type": "code",
   "execution_count": null,
   "id": "cf96ac6b",
   "metadata": {},
   "outputs": [],
   "source": [
    "fig = px.histogram(df, x='language', template='plotly_white', title='Complain counts by length')\n",
    "fig.update_xaxes(categoryorder='total descending', title='Number of words (clipped at 1000 words)').update_yaxes(title='Number of complaints')\n",
    "fig.show()"
   ]
  },
  {
   "cell_type": "code",
   "execution_count": null,
   "id": "010c6463",
   "metadata": {},
   "outputs": [],
   "source": [
    "df.head()"
   ]
  },
  {
   "cell_type": "code",
   "execution_count": 12,
   "id": "df57f813",
   "metadata": {},
   "outputs": [],
   "source": [
    "# Limit languagues with less than 4 spots in a repo\n",
    "remaining_languages = df.language.value_counts()[df.language.value_counts() > 4].index\n",
    "\n",
    "# Removing languages not kept\n",
    "df = df[df.language.isin(remaining_languages)]"
   ]
  },
  {
   "cell_type": "code",
   "execution_count": null,
   "id": "6d456c74",
   "metadata": {},
   "outputs": [],
   "source": [
    "df.shape"
   ]
  },
  {
   "cell_type": "code",
   "execution_count": null,
   "id": "1912471f",
   "metadata": {},
   "outputs": [],
   "source": [
    "labels = pd.concat([df.language.value_counts(),\n",
    "                    df.language.value_counts(normalize=True)], axis=1)\n",
    "labels.columns = ['n', 'percent']\n",
    "labels"
   ]
  },
  {
   "cell_type": "code",
   "execution_count": null,
   "id": "d59e450a",
   "metadata": {},
   "outputs": [],
   "source": [
    "df.language.value_counts()"
   ]
  },
  {
   "cell_type": "code",
   "execution_count": null,
   "id": "d6b7a55c",
   "metadata": {},
   "outputs": [],
   "source": [
    "java_words = prepare_repos.clean(' '.join(df[df.language == 'JavaScript'].readme_contents))\n",
    "Tscript_words = prepare_repos.clean(' '.join(df[df.language == 'TypeScript'].readme_contents))\n",
    "all_words = prepare_repos.clean(' '.join(df.readme_contents))\n",
    "idk_words = prepare_repos.clean(' '.join(df[df.language == 'Not Specified'].readme_contents))\n",
    "solidity_words = prepare_repos.clean(' '.join(df[df.language == 'Solidity'].readme_contents))\n",
    "python_words = prepare_repos.clean(' '.join(df[df.language == 'Python'].readme_contents))"
   ]
  },
  {
   "cell_type": "code",
   "execution_count": null,
   "id": "af3e1868",
   "metadata": {},
   "outputs": [],
   "source": [
    "java_words"
   ]
  },
  {
   "cell_type": "code",
   "execution_count": null,
   "id": "1ddd3dea",
   "metadata": {},
   "outputs": [],
   "source": [
    "java_freq = pd.Series(java_words).value_counts()\n",
    "Tscript_freq = pd.Series(Tscript_words).value_counts()\n",
    "all_freq = pd.Series(all_words).value_counts()\n",
    "idk_freq = pd.Series(idk_words).value_counts()\n",
    "solidity_freq = pd.Series(solidity_words).value_counts()\n",
    "python_freq = pd.Series(python_words).value_counts()\n",
    "java_freq.head()"
   ]
  },
  {
   "cell_type": "code",
   "execution_count": null,
   "id": "48ec7049",
   "metadata": {},
   "outputs": [],
   "source": [
    "Tscript_freq.head()"
   ]
  },
  {
   "cell_type": "code",
   "execution_count": null,
   "id": "353be0c2",
   "metadata": {},
   "outputs": [],
   "source": [
    "word_counts = (pd.concat([all_freq, java_freq, Tscript_freq, idk_freq, solidity_freq, python_freq], axis=1, sort=True)\n",
    "                .set_axis(['all', 'java', 'TypeScript', 'Not_Specified', 'Solidity', 'Python'], axis=1, inplace=False)\n",
    "                .fillna(0)\n",
    "                .apply(lambda s: s.astype(int)))\n",
    "\n",
    "word_counts.head(15)"
   ]
  },
  {
   "cell_type": "code",
   "execution_count": null,
   "id": "f13881bb",
   "metadata": {},
   "outputs": [],
   "source": [
    "word_counts.sort_values(by='TypeScript', ascending=False).head(10)"
   ]
  },
  {
   "cell_type": "code",
   "execution_count": null,
   "id": "15850c71",
   "metadata": {},
   "outputs": [],
   "source": [
    "all_cloud = WordCloud(background_color='white', height=1000, width=400).generate(' '.join(all_words))\n",
    "java_cloud = WordCloud(background_color='white', height=600, width=800).generate(' '.join(java_words))\n",
    "Tscript_cloud = WordCloud(background_color='white', height=600, width=800).generate(' '.join(Tscript_words))\n",
    "idk_cloud = WordCloud(background_color='white', height=1000, width=400).generate(' '.join(idk_words))\n",
    "Solidity_cloud = WordCloud(background_color='white', height=600, width=800).generate(' '.join(solidity_words))\n",
    "python_cloud = WordCloud(background_color='white', height=600, width=800).generate(' '.join(python_words))\n",
    "\n",
    "plt.figure(figsize=(10, 8))\n",
    "axs = [plt.axes([0, 0, .5, 1]), plt.axes([.5, .5, .5, .5]), plt.axes([.5, 0, .5, .5]), plt.axes([.5, .5, .5, .5]), plt.axes([.5, .5, .5, .5]), plt.axes([.5, .5, .5, .5])]\n",
    "\n",
    "axs[0].imshow(all_cloud)\n",
    "axs[1].imshow(java_cloud)\n",
    "axs[2].imshow(Tscript_cloud)\n",
    "axs[3].imshow(idk_cloud)\n",
    "axs[4].imshow(Solidity_cloud)\n",
    "axs[5].imshow(python_cloud)\n",
    "\n",
    "axs[0].set_title('All Words')\n",
    "axs[1].set_title('java')\n",
    "axs[2].set_title('Tscript_words')\n",
    "axs[3].set_title('Not Specified')\n",
    "axs[4].set_title('solidity')\n",
    "axs[5].set_title('python')\n",
    "\n",
    "for ax in axs: ax.axis('off')"
   ]
  },
  {
   "cell_type": "code",
   "execution_count": null,
   "id": "08bf24f1",
   "metadata": {},
   "outputs": [],
   "source": [
    "Solidity_cloud = WordCloud(background_color='white', height=600, width=800).generate(' '.join(solidity_words))\n",
    "plt.imshow(Solidity_cloud)\n"
   ]
  },
  {
   "cell_type": "code",
   "execution_count": null,
   "id": "4f90dd1c",
   "metadata": {},
   "outputs": [],
   "source": [
    "word_counts.head()"
   ]
  },
  {
   "cell_type": "code",
   "execution_count": null,
   "id": "5c194425",
   "metadata": {},
   "outputs": [],
   "source": [
    "(word_counts\n",
    " .assign(p_java=word_counts.java / word_counts['all'],\n",
    "         p_TypeScript=word_counts.TypeScript / word_counts['all'],\n",
    "         p_idk=word_counts.Not_Specified / word_counts['all'],\n",
    "         p_Solidity=word_counts.Solidity / word_counts['all'],\n",
    "         p_python=word_counts.Python / word_counts['all'])\n",
    " .sort_values(by='all')\n",
    " [['java', 'TypeScript', 'Solidity', 'Not_Specified', 'Python']]\n",
    " .tail(20)\n",
    " .sort_values('java')\n",
    " .plot.barh(stacked=True))\n",
    "\n",
    "plt.title('Proportion of language for the 20 most common words')"
   ]
  },
  {
   "cell_type": "code",
   "execution_count": null,
   "id": "aaef4e5e",
   "metadata": {},
   "outputs": [],
   "source": [
    "df.head()"
   ]
  },
  {
   "cell_type": "code",
   "execution_count": null,
   "id": "b68e0a48",
   "metadata": {},
   "outputs": [],
   "source": [
    "df.head()"
   ]
  },
  {
   "cell_type": "code",
   "execution_count": 13,
   "id": "f7cc6b1a",
   "metadata": {},
   "outputs": [],
   "source": [
    "tfidf = TfidfVectorizer()\n",
    "X = tfidf.fit_transform(df.readme_contents)\n",
    "y = df.language\n",
    "\n",
    "X_train, X_test_val, y_train, y_test_val = train_test_split(X, y, stratify=y, test_size=.2)\n",
    "X_validate, X_test, y_validate, y_test = train_test_split(X_test_val, y_test_val, stratify=y_test_val, test_size=.5)\n"
   ]
  },
  {
   "cell_type": "code",
   "execution_count": 19,
   "id": "b54625d0",
   "metadata": {},
   "outputs": [
    {
     "data": {
      "text/html": [
       "<div>\n",
       "<style scoped>\n",
       "    .dataframe tbody tr th:only-of-type {\n",
       "        vertical-align: middle;\n",
       "    }\n",
       "\n",
       "    .dataframe tbody tr th {\n",
       "        vertical-align: top;\n",
       "    }\n",
       "\n",
       "    .dataframe thead th {\n",
       "        text-align: right;\n",
       "    }\n",
       "</style>\n",
       "<table border=\"1\" class=\"dataframe\">\n",
       "  <thead>\n",
       "    <tr style=\"text-align: right;\">\n",
       "      <th></th>\n",
       "      <th>language</th>\n",
       "    </tr>\n",
       "  </thead>\n",
       "  <tbody>\n",
       "    <tr>\n",
       "      <th>582</th>\n",
       "      <td>Not Specified</td>\n",
       "    </tr>\n",
       "    <tr>\n",
       "      <th>225</th>\n",
       "      <td>TypeScript</td>\n",
       "    </tr>\n",
       "    <tr>\n",
       "      <th>33</th>\n",
       "      <td>Not Specified</td>\n",
       "    </tr>\n",
       "    <tr>\n",
       "      <th>226</th>\n",
       "      <td>JavaScript</td>\n",
       "    </tr>\n",
       "    <tr>\n",
       "      <th>584</th>\n",
       "      <td>TypeScript</td>\n",
       "    </tr>\n",
       "    <tr>\n",
       "      <th>...</th>\n",
       "      <td>...</td>\n",
       "    </tr>\n",
       "    <tr>\n",
       "      <th>366</th>\n",
       "      <td>JavaScript</td>\n",
       "    </tr>\n",
       "    <tr>\n",
       "      <th>742</th>\n",
       "      <td>HTML</td>\n",
       "    </tr>\n",
       "    <tr>\n",
       "      <th>24</th>\n",
       "      <td>Python</td>\n",
       "    </tr>\n",
       "    <tr>\n",
       "      <th>70</th>\n",
       "      <td>TypeScript</td>\n",
       "    </tr>\n",
       "    <tr>\n",
       "      <th>948</th>\n",
       "      <td>Not Specified</td>\n",
       "    </tr>\n",
       "  </tbody>\n",
       "</table>\n",
       "<p>752 rows × 1 columns</p>\n",
       "</div>"
      ],
      "text/plain": [
       "          language\n",
       "582  Not Specified\n",
       "225     TypeScript\n",
       "33   Not Specified\n",
       "226     JavaScript\n",
       "584     TypeScript\n",
       "..             ...\n",
       "366     JavaScript\n",
       "742           HTML\n",
       "24          Python\n",
       "70      TypeScript\n",
       "948  Not Specified\n",
       "\n",
       "[752 rows x 1 columns]"
      ]
     },
     "execution_count": 19,
     "metadata": {},
     "output_type": "execute_result"
    }
   ],
   "source": [
    "y_train"
   ]
  },
  {
   "cell_type": "code",
   "execution_count": 15,
   "id": "0a4801c8",
   "metadata": {},
   "outputs": [
    {
     "name": "stderr",
     "output_type": "stream",
     "text": [
      "/usr/local/anaconda3/lib/python3.9/site-packages/sklearn/utils/deprecation.py:87: FutureWarning: Function get_feature_names is deprecated; get_feature_names is deprecated in 1.0 and will be removed in 1.2. Please use get_feature_names_out instead.\n",
      "  warnings.warn(msg, category=FutureWarning)\n",
      "/usr/local/anaconda3/lib/python3.9/site-packages/sklearn/utils/deprecation.py:87: FutureWarning: Function get_feature_names is deprecated; get_feature_names is deprecated in 1.0 and will be removed in 1.2. Please use get_feature_names_out instead.\n",
      "  warnings.warn(msg, category=FutureWarning)\n",
      "/usr/local/anaconda3/lib/python3.9/site-packages/sklearn/utils/deprecation.py:87: FutureWarning: Function get_feature_names is deprecated; get_feature_names is deprecated in 1.0 and will be removed in 1.2. Please use get_feature_names_out instead.\n",
      "  warnings.warn(msg, category=FutureWarning)\n"
     ]
    }
   ],
   "source": [
    "# turn X_ into df with features \n",
    "X_train_df= pd.DataFrame(X_train.todense(), columns=tfidf.get_feature_names())\n",
    "X_validate_df= pd.DataFrame(X_validate.todense(), columns=tfidf.get_feature_names())\n",
    "X_test_df= pd.DataFrame(X_test.todense(), columns=tfidf.get_feature_names())"
   ]
  },
  {
   "cell_type": "code",
   "execution_count": 16,
   "id": "d91aad7e",
   "metadata": {},
   "outputs": [],
   "source": [
    "# turn y_ into df\n",
    "y_train = pd.DataFrame(y_train)\n",
    "y_validate = pd.DataFrame(y_validate)\n",
    "y_test = pd.DataFrame(y_test)"
   ]
  },
  {
   "cell_type": "markdown",
   "id": "2c0ea387",
   "metadata": {},
   "source": [
    "## baseline "
   ]
  },
  {
   "cell_type": "code",
   "execution_count": null,
   "id": "7ac19602",
   "metadata": {},
   "outputs": [],
   "source": [
    "df.language.value_counts()"
   ]
  },
  {
   "cell_type": "code",
   "execution_count": 20,
   "id": "901d977f",
   "metadata": {},
   "outputs": [],
   "source": [
    "# new df for predictions\n",
    "predictions = pd.DataFrame({ \n",
    "    'actual': y_train.language\n",
    "})\n"
   ]
  },
  {
   "cell_type": "code",
   "execution_count": 22,
   "id": "599e60b8",
   "metadata": {},
   "outputs": [],
   "source": [
    "predictions['baseline'] = y_train[y_train['language'] == 'JavaScript'].shape[0] /y_train.shape[0]"
   ]
  },
  {
   "cell_type": "code",
   "execution_count": 23,
   "id": "249dda86",
   "metadata": {},
   "outputs": [
    {
     "data": {
      "text/html": [
       "<div>\n",
       "<style scoped>\n",
       "    .dataframe tbody tr th:only-of-type {\n",
       "        vertical-align: middle;\n",
       "    }\n",
       "\n",
       "    .dataframe tbody tr th {\n",
       "        vertical-align: top;\n",
       "    }\n",
       "\n",
       "    .dataframe thead th {\n",
       "        text-align: right;\n",
       "    }\n",
       "</style>\n",
       "<table border=\"1\" class=\"dataframe\">\n",
       "  <thead>\n",
       "    <tr style=\"text-align: right;\">\n",
       "      <th></th>\n",
       "      <th>actual</th>\n",
       "      <th>baseline</th>\n",
       "    </tr>\n",
       "  </thead>\n",
       "  <tbody>\n",
       "    <tr>\n",
       "      <th>582</th>\n",
       "      <td>Not Specified</td>\n",
       "      <td>0.243351</td>\n",
       "    </tr>\n",
       "    <tr>\n",
       "      <th>225</th>\n",
       "      <td>TypeScript</td>\n",
       "      <td>0.243351</td>\n",
       "    </tr>\n",
       "    <tr>\n",
       "      <th>33</th>\n",
       "      <td>Not Specified</td>\n",
       "      <td>0.243351</td>\n",
       "    </tr>\n",
       "    <tr>\n",
       "      <th>226</th>\n",
       "      <td>JavaScript</td>\n",
       "      <td>0.243351</td>\n",
       "    </tr>\n",
       "    <tr>\n",
       "      <th>584</th>\n",
       "      <td>TypeScript</td>\n",
       "      <td>0.243351</td>\n",
       "    </tr>\n",
       "  </tbody>\n",
       "</table>\n",
       "</div>"
      ],
      "text/plain": [
       "            actual  baseline\n",
       "582  Not Specified  0.243351\n",
       "225     TypeScript  0.243351\n",
       "33   Not Specified  0.243351\n",
       "226     JavaScript  0.243351\n",
       "584     TypeScript  0.243351"
      ]
     },
     "execution_count": 23,
     "metadata": {},
     "output_type": "execute_result"
    }
   ],
   "source": [
    "predictions.head()"
   ]
  },
  {
   "cell_type": "code",
   "execution_count": null,
   "id": "9f7350ad",
   "metadata": {},
   "outputs": [],
   "source": [
    "from sklearn.feature_extraction.text import TfidfVectorizer\n",
    "\n",
    "tfidf = TfidfVectorizer()\n",
    "tfidfs = tfidf.fit_transform(df['readme_contents'])\n",
    "tfidfs"
   ]
  },
  {
   "cell_type": "code",
   "execution_count": null,
   "id": "fa0889e4",
   "metadata": {},
   "outputs": [],
   "source": [
    "features= pd.DataFrame(tfidfs.todense(), columns=tfidf.get_feature_names())\n",
    "features"
   ]
  },
  {
   "cell_type": "code",
   "execution_count": null,
   "id": "95aa1673",
   "metadata": {},
   "outputs": [],
   "source": [
    "features.info()"
   ]
  },
  {
   "cell_type": "code",
   "execution_count": null,
   "id": "4f429230",
   "metadata": {},
   "outputs": [],
   "source": [
    "df['readme_contents'].head()"
   ]
  },
  {
   "cell_type": "code",
   "execution_count": null,
   "id": "02c0d812",
   "metadata": {},
   "outputs": [],
   "source": [
    " #From the Series we can extract the value_counts, which is our raw count\n",
    "# for term frequency. Once we have the raw counts, we can calculate the\n",
    "# other measures.\n",
    "df2 = (pd.DataFrame({'raw_count': word_counts.value_counts()})\n",
    " .assign(frequency=lambda df: df.raw_count / df.raw_count.sum())\n",
    " .assign(augmented_frequency=lambda df: df.frequency / df.frequency.max()))"
   ]
  },
  {
   "cell_type": "code",
   "execution_count": null,
   "id": "63105293",
   "metadata": {},
   "outputs": [],
   "source": [
    "X_train.head()"
   ]
  },
  {
   "cell_type": "code",
   "execution_count": null,
   "id": "87f8c9ab",
   "metadata": {},
   "outputs": [],
   "source": [
    "X_train.info()"
   ]
  },
  {
   "cell_type": "code",
   "execution_count": 24,
   "id": "eb3e8bc7",
   "metadata": {},
   "outputs": [
    {
     "data": {
      "text/plain": [
       "[Text(0.5, 0.875, 'yarn <= 0.016\\ngini = 0.832\\nsamples = 752\\nvalue = [8, 10, 9, 20, 18, 183, 8, 100, 45, 26, 10, 130\\n176, 9]\\nclass = JavaScript'),\n",
       " Text(0.25, 0.625, 'pip <= 0.004\\ngini = 0.844\\nsamples = 592\\nvalue = [8, 10, 8, 19, 13, 148, 8, 100, 44, 22, 10, 107\\n89, 6]\\nclass = JavaScript'),\n",
       " Text(0.125, 0.375, 'npm <= 0.006\\ngini = 0.837\\nsamples = 566\\nvalue = [8, 10, 8, 19, 13, 148, 8, 99, 22, 22, 10, 104\\n89, 6]\\nclass = JavaScript'),\n",
       " Text(0.0625, 0.125, 'gini = 0.85\\nsamples = 396\\nvalue = [8, 9, 7, 19, 10, 74, 7, 96, 21, 19, 8, 73, 43\\n2]\\nclass = Not Specified'),\n",
       " Text(0.1875, 0.125, 'gini = 0.702\\nsamples = 170\\nvalue = [0, 1, 1, 0, 3, 74, 1, 3, 1, 3, 2, 31, 46, 4]\\nclass = JavaScript'),\n",
       " Text(0.375, 0.375, 'npm <= 0.012\\ngini = 0.269\\nsamples = 26\\nvalue = [0, 0, 0, 0, 0, 0, 0, 1, 22, 0, 0, 3, 0, 0]\\nclass = Python'),\n",
       " Text(0.3125, 0.125, 'gini = 0.0\\nsamples = 22\\nvalue = [0, 0, 0, 0, 0, 0, 0, 0, 22, 0, 0, 0, 0, 0]\\nclass = Python'),\n",
       " Text(0.4375, 0.125, 'gini = 0.375\\nsamples = 4\\nvalue = [0, 0, 0, 0, 0, 0, 0, 1, 0, 0, 0, 3, 0, 0]\\nclass = Solidity'),\n",
       " Text(0.75, 0.625, 'compile <= 0.046\\ngini = 0.634\\nsamples = 160\\nvalue = [0, 0, 1, 1, 5, 35, 0, 0, 1, 4, 0, 23, 87, 3]\\nclass = TypeScript'),\n",
       " Text(0.625, 0.375, 'feature <= 0.07\\ngini = 0.575\\nsamples = 136\\nvalue = [0, 0, 1, 1, 3, 31, 0, 0, 0, 3, 0, 12, 82, 3]\\nclass = TypeScript'),\n",
       " Text(0.5625, 0.125, 'gini = 0.559\\nsamples = 131\\nvalue = [0, 0, 1, 1, 3, 26, 0, 0, 0, 3, 0, 12, 82, 3]\\nclass = TypeScript'),\n",
       " Text(0.6875, 0.125, 'gini = 0.0\\nsamples = 5\\nvalue = [0, 0, 0, 0, 0, 5, 0, 0, 0, 0, 0, 0, 0, 0]\\nclass = JavaScript'),\n",
       " Text(0.875, 0.375, 'compilation <= 0.02\\ngini = 0.708\\nsamples = 24\\nvalue = [0, 0, 0, 0, 2, 4, 0, 0, 1, 1, 0, 11, 5, 0]\\nclass = Solidity'),\n",
       " Text(0.8125, 0.125, 'gini = 0.667\\nsamples = 21\\nvalue = [0, 0, 0, 0, 2, 4, 0, 0, 1, 1, 0, 11, 2, 0]\\nclass = Solidity'),\n",
       " Text(0.9375, 0.125, 'gini = 0.0\\nsamples = 3\\nvalue = [0, 0, 0, 0, 0, 0, 0, 0, 0, 0, 0, 0, 3, 0]\\nclass = TypeScript')]"
      ]
     },
     "execution_count": 24,
     "metadata": {},
     "output_type": "execute_result"
    },
    {
     "data": {
      "image/png": "[encoded data removed]",
      "text/plain": [
       "<Figure size 936x504 with 1 Axes>"
      ]
     },
     "metadata": {
      "needs_background": "light"
     },
     "output_type": "display_data"
    }
   ],
   "source": [
    "clf = DecisionTreeClassifier(max_depth=3, random_state=123)\n",
    "clf = clf.fit(X_train_df, y_train)\n",
    "\n",
    "plt.figure(figsize=(13, 7))\n",
    "plot_tree(clf, feature_names=X_train_df.columns, class_names=clf.classes_, rounded=True)"
   ]
  },
  {
   "cell_type": "code",
   "execution_count": 28,
   "id": "23e0d520",
   "metadata": {},
   "outputs": [
    {
     "data": {
      "text/html": [
       "<div>\n",
       "<style scoped>\n",
       "    .dataframe tbody tr th:only-of-type {\n",
       "        vertical-align: middle;\n",
       "    }\n",
       "\n",
       "    .dataframe tbody tr th {\n",
       "        vertical-align: top;\n",
       "    }\n",
       "\n",
       "    .dataframe thead th {\n",
       "        text-align: right;\n",
       "    }\n",
       "</style>\n",
       "<table border=\"1\" class=\"dataframe\">\n",
       "  <thead>\n",
       "    <tr style=\"text-align: right;\">\n",
       "      <th></th>\n",
       "      <th>00</th>\n",
       "      <th>000</th>\n",
       "      <th>0000</th>\n",
       "      <th>000000</th>\n",
       "      <th>00000000</th>\n",
       "      <th>000000000000000000</th>\n",
       "      <th>0000000000000000000000000000000000000000000000000000000000000001</th>\n",
       "      <th>000000000000000002</th>\n",
       "      <th>000000000000000282</th>\n",
       "      <th>00000000000009764515173366604499968328796917891</th>\n",
       "      <th>...</th>\n",
       "      <th>zzutbyhibihwi3qvkmone1dgl03vtm1w8oddusjedkbpbvaa8</th>\n",
       "      <th>zzuy29j4eoph7crhhnsaoqjid15ui3xwkxcxk5v5zxlqpez8rnuspt08meyoyovvfxpgql</th>\n",
       "      <th>zzvgq2npaunvb63owt33x</th>\n",
       "      <th>zzw</th>\n",
       "      <th>zzwmavvvbp3yapsrmfp4nswdwuaqiecbagqiaagrdivtjzx0zt85z9zf8a8rtn</th>\n",
       "      <th>zzxthngejsu8vr</th>\n",
       "      <th>zzxyl</th>\n",
       "      <th>zzy</th>\n",
       "      <th>zzy55b7axooubbgcvqn297r4p</th>\n",
       "      <th>zzzs</th>\n",
       "    </tr>\n",
       "  </thead>\n",
       "  <tbody>\n",
       "    <tr>\n",
       "      <th>0</th>\n",
       "      <td>0.0</td>\n",
       "      <td>0.0</td>\n",
       "      <td>0.0</td>\n",
       "      <td>0.0</td>\n",
       "      <td>0.0</td>\n",
       "      <td>0.0</td>\n",
       "      <td>0.0</td>\n",
       "      <td>0.0</td>\n",
       "      <td>0.0</td>\n",
       "      <td>0.0</td>\n",
       "      <td>...</td>\n",
       "      <td>0.0</td>\n",
       "      <td>0.0</td>\n",
       "      <td>0.0</td>\n",
       "      <td>0.0</td>\n",
       "      <td>0.0</td>\n",
       "      <td>0.0</td>\n",
       "      <td>0.0</td>\n",
       "      <td>0.0</td>\n",
       "      <td>0.0</td>\n",
       "      <td>0.0</td>\n",
       "    </tr>\n",
       "    <tr>\n",
       "      <th>1</th>\n",
       "      <td>0.0</td>\n",
       "      <td>0.0</td>\n",
       "      <td>0.0</td>\n",
       "      <td>0.0</td>\n",
       "      <td>0.0</td>\n",
       "      <td>0.0</td>\n",
       "      <td>0.0</td>\n",
       "      <td>0.0</td>\n",
       "      <td>0.0</td>\n",
       "      <td>0.0</td>\n",
       "      <td>...</td>\n",
       "      <td>0.0</td>\n",
       "      <td>0.0</td>\n",
       "      <td>0.0</td>\n",
       "      <td>0.0</td>\n",
       "      <td>0.0</td>\n",
       "      <td>0.0</td>\n",
       "      <td>0.0</td>\n",
       "      <td>0.0</td>\n",
       "      <td>0.0</td>\n",
       "      <td>0.0</td>\n",
       "    </tr>\n",
       "    <tr>\n",
       "      <th>2</th>\n",
       "      <td>0.0</td>\n",
       "      <td>0.0</td>\n",
       "      <td>0.0</td>\n",
       "      <td>0.0</td>\n",
       "      <td>0.0</td>\n",
       "      <td>0.0</td>\n",
       "      <td>0.0</td>\n",
       "      <td>0.0</td>\n",
       "      <td>0.0</td>\n",
       "      <td>0.0</td>\n",
       "      <td>...</td>\n",
       "      <td>0.0</td>\n",
       "      <td>0.0</td>\n",
       "      <td>0.0</td>\n",
       "      <td>0.0</td>\n",
       "      <td>0.0</td>\n",
       "      <td>0.0</td>\n",
       "      <td>0.0</td>\n",
       "      <td>0.0</td>\n",
       "      <td>0.0</td>\n",
       "      <td>0.0</td>\n",
       "    </tr>\n",
       "    <tr>\n",
       "      <th>3</th>\n",
       "      <td>0.0</td>\n",
       "      <td>0.0</td>\n",
       "      <td>0.0</td>\n",
       "      <td>0.0</td>\n",
       "      <td>0.0</td>\n",
       "      <td>0.0</td>\n",
       "      <td>0.0</td>\n",
       "      <td>0.0</td>\n",
       "      <td>0.0</td>\n",
       "      <td>0.0</td>\n",
       "      <td>...</td>\n",
       "      <td>0.0</td>\n",
       "      <td>0.0</td>\n",
       "      <td>0.0</td>\n",
       "      <td>0.0</td>\n",
       "      <td>0.0</td>\n",
       "      <td>0.0</td>\n",
       "      <td>0.0</td>\n",
       "      <td>0.0</td>\n",
       "      <td>0.0</td>\n",
       "      <td>0.0</td>\n",
       "    </tr>\n",
       "    <tr>\n",
       "      <th>4</th>\n",
       "      <td>0.0</td>\n",
       "      <td>0.0</td>\n",
       "      <td>0.0</td>\n",
       "      <td>0.0</td>\n",
       "      <td>0.0</td>\n",
       "      <td>0.0</td>\n",
       "      <td>0.0</td>\n",
       "      <td>0.0</td>\n",
       "      <td>0.0</td>\n",
       "      <td>0.0</td>\n",
       "      <td>...</td>\n",
       "      <td>0.0</td>\n",
       "      <td>0.0</td>\n",
       "      <td>0.0</td>\n",
       "      <td>0.0</td>\n",
       "      <td>0.0</td>\n",
       "      <td>0.0</td>\n",
       "      <td>0.0</td>\n",
       "      <td>0.0</td>\n",
       "      <td>0.0</td>\n",
       "      <td>0.0</td>\n",
       "    </tr>\n",
       "    <tr>\n",
       "      <th>...</th>\n",
       "      <td>...</td>\n",
       "      <td>...</td>\n",
       "      <td>...</td>\n",
       "      <td>...</td>\n",
       "      <td>...</td>\n",
       "      <td>...</td>\n",
       "      <td>...</td>\n",
       "      <td>...</td>\n",
       "      <td>...</td>\n",
       "      <td>...</td>\n",
       "      <td>...</td>\n",
       "      <td>...</td>\n",
       "      <td>...</td>\n",
       "      <td>...</td>\n",
       "      <td>...</td>\n",
       "      <td>...</td>\n",
       "      <td>...</td>\n",
       "      <td>...</td>\n",
       "      <td>...</td>\n",
       "      <td>...</td>\n",
       "      <td>...</td>\n",
       "    </tr>\n",
       "    <tr>\n",
       "      <th>747</th>\n",
       "      <td>0.0</td>\n",
       "      <td>0.0</td>\n",
       "      <td>0.0</td>\n",
       "      <td>0.0</td>\n",
       "      <td>0.0</td>\n",
       "      <td>0.0</td>\n",
       "      <td>0.0</td>\n",
       "      <td>0.0</td>\n",
       "      <td>0.0</td>\n",
       "      <td>0.0</td>\n",
       "      <td>...</td>\n",
       "      <td>0.0</td>\n",
       "      <td>0.0</td>\n",
       "      <td>0.0</td>\n",
       "      <td>0.0</td>\n",
       "      <td>0.0</td>\n",
       "      <td>0.0</td>\n",
       "      <td>0.0</td>\n",
       "      <td>0.0</td>\n",
       "      <td>0.0</td>\n",
       "      <td>0.0</td>\n",
       "    </tr>\n",
       "    <tr>\n",
       "      <th>748</th>\n",
       "      <td>0.0</td>\n",
       "      <td>0.0</td>\n",
       "      <td>0.0</td>\n",
       "      <td>0.0</td>\n",
       "      <td>0.0</td>\n",
       "      <td>0.0</td>\n",
       "      <td>0.0</td>\n",
       "      <td>0.0</td>\n",
       "      <td>0.0</td>\n",
       "      <td>0.0</td>\n",
       "      <td>...</td>\n",
       "      <td>0.0</td>\n",
       "      <td>0.0</td>\n",
       "      <td>0.0</td>\n",
       "      <td>0.0</td>\n",
       "      <td>0.0</td>\n",
       "      <td>0.0</td>\n",
       "      <td>0.0</td>\n",
       "      <td>0.0</td>\n",
       "      <td>0.0</td>\n",
       "      <td>0.0</td>\n",
       "    </tr>\n",
       "    <tr>\n",
       "      <th>749</th>\n",
       "      <td>0.0</td>\n",
       "      <td>0.0</td>\n",
       "      <td>0.0</td>\n",
       "      <td>0.0</td>\n",
       "      <td>0.0</td>\n",
       "      <td>0.0</td>\n",
       "      <td>0.0</td>\n",
       "      <td>0.0</td>\n",
       "      <td>0.0</td>\n",
       "      <td>0.0</td>\n",
       "      <td>...</td>\n",
       "      <td>0.0</td>\n",
       "      <td>0.0</td>\n",
       "      <td>0.0</td>\n",
       "      <td>0.0</td>\n",
       "      <td>0.0</td>\n",
       "      <td>0.0</td>\n",
       "      <td>0.0</td>\n",
       "      <td>0.0</td>\n",
       "      <td>0.0</td>\n",
       "      <td>0.0</td>\n",
       "    </tr>\n",
       "    <tr>\n",
       "      <th>750</th>\n",
       "      <td>0.0</td>\n",
       "      <td>0.0</td>\n",
       "      <td>0.0</td>\n",
       "      <td>0.0</td>\n",
       "      <td>0.0</td>\n",
       "      <td>0.0</td>\n",
       "      <td>0.0</td>\n",
       "      <td>0.0</td>\n",
       "      <td>0.0</td>\n",
       "      <td>0.0</td>\n",
       "      <td>...</td>\n",
       "      <td>0.0</td>\n",
       "      <td>0.0</td>\n",
       "      <td>0.0</td>\n",
       "      <td>0.0</td>\n",
       "      <td>0.0</td>\n",
       "      <td>0.0</td>\n",
       "      <td>0.0</td>\n",
       "      <td>0.0</td>\n",
       "      <td>0.0</td>\n",
       "      <td>0.0</td>\n",
       "    </tr>\n",
       "    <tr>\n",
       "      <th>751</th>\n",
       "      <td>0.0</td>\n",
       "      <td>0.0</td>\n",
       "      <td>0.0</td>\n",
       "      <td>0.0</td>\n",
       "      <td>0.0</td>\n",
       "      <td>0.0</td>\n",
       "      <td>0.0</td>\n",
       "      <td>0.0</td>\n",
       "      <td>0.0</td>\n",
       "      <td>0.0</td>\n",
       "      <td>...</td>\n",
       "      <td>0.0</td>\n",
       "      <td>0.0</td>\n",
       "      <td>0.0</td>\n",
       "      <td>0.0</td>\n",
       "      <td>0.0</td>\n",
       "      <td>0.0</td>\n",
       "      <td>0.0</td>\n",
       "      <td>0.0</td>\n",
       "      <td>0.0</td>\n",
       "      <td>0.0</td>\n",
       "    </tr>\n",
       "  </tbody>\n",
       "</table>\n",
       "<p>752 rows × 44231 columns</p>\n",
       "</div>"
      ],
      "text/plain": [
       "      00  000  0000  000000  00000000  000000000000000000  \\\n",
       "0    0.0  0.0   0.0     0.0       0.0                 0.0   \n",
       "1    0.0  0.0   0.0     0.0       0.0                 0.0   \n",
       "2    0.0  0.0   0.0     0.0       0.0                 0.0   \n",
       "3    0.0  0.0   0.0     0.0       0.0                 0.0   \n",
       "4    0.0  0.0   0.0     0.0       0.0                 0.0   \n",
       "..   ...  ...   ...     ...       ...                 ...   \n",
       "747  0.0  0.0   0.0     0.0       0.0                 0.0   \n",
       "748  0.0  0.0   0.0     0.0       0.0                 0.0   \n",
       "749  0.0  0.0   0.0     0.0       0.0                 0.0   \n",
       "750  0.0  0.0   0.0     0.0       0.0                 0.0   \n",
       "751  0.0  0.0   0.0     0.0       0.0                 0.0   \n",
       "\n",
       "     0000000000000000000000000000000000000000000000000000000000000001  \\\n",
       "0                                                  0.0                  \n",
       "1                                                  0.0                  \n",
       "2                                                  0.0                  \n",
       "3                                                  0.0                  \n",
       "4                                                  0.0                  \n",
       "..                                                 ...                  \n",
       "747                                                0.0                  \n",
       "748                                                0.0                  \n",
       "749                                                0.0                  \n",
       "750                                                0.0                  \n",
       "751                                                0.0                  \n",
       "\n",
       "     000000000000000002  000000000000000282  \\\n",
       "0                   0.0                 0.0   \n",
       "1                   0.0                 0.0   \n",
       "2                   0.0                 0.0   \n",
       "3                   0.0                 0.0   \n",
       "4                   0.0                 0.0   \n",
       "..                  ...                 ...   \n",
       "747                 0.0                 0.0   \n",
       "748                 0.0                 0.0   \n",
       "749                 0.0                 0.0   \n",
       "750                 0.0                 0.0   \n",
       "751                 0.0                 0.0   \n",
       "\n",
       "     00000000000009764515173366604499968328796917891  ...  \\\n",
       "0                                                0.0  ...   \n",
       "1                                                0.0  ...   \n",
       "2                                                0.0  ...   \n",
       "3                                                0.0  ...   \n",
       "4                                                0.0  ...   \n",
       "..                                               ...  ...   \n",
       "747                                              0.0  ...   \n",
       "748                                              0.0  ...   \n",
       "749                                              0.0  ...   \n",
       "750                                              0.0  ...   \n",
       "751                                              0.0  ...   \n",
       "\n",
       "     zzutbyhibihwi3qvkmone1dgl03vtm1w8oddusjedkbpbvaa8  \\\n",
       "0                                                  0.0   \n",
       "1                                                  0.0   \n",
       "2                                                  0.0   \n",
       "3                                                  0.0   \n",
       "4                                                  0.0   \n",
       "..                                                 ...   \n",
       "747                                                0.0   \n",
       "748                                                0.0   \n",
       "749                                                0.0   \n",
       "750                                                0.0   \n",
       "751                                                0.0   \n",
       "\n",
       "     zzuy29j4eoph7crhhnsaoqjid15ui3xwkxcxk5v5zxlqpez8rnuspt08meyoyovvfxpgql  \\\n",
       "0                                                  0.0                        \n",
       "1                                                  0.0                        \n",
       "2                                                  0.0                        \n",
       "3                                                  0.0                        \n",
       "4                                                  0.0                        \n",
       "..                                                 ...                        \n",
       "747                                                0.0                        \n",
       "748                                                0.0                        \n",
       "749                                                0.0                        \n",
       "750                                                0.0                        \n",
       "751                                                0.0                        \n",
       "\n",
       "     zzvgq2npaunvb63owt33x  zzw  \\\n",
       "0                      0.0  0.0   \n",
       "1                      0.0  0.0   \n",
       "2                      0.0  0.0   \n",
       "3                      0.0  0.0   \n",
       "4                      0.0  0.0   \n",
       "..                     ...  ...   \n",
       "747                    0.0  0.0   \n",
       "748                    0.0  0.0   \n",
       "749                    0.0  0.0   \n",
       "750                    0.0  0.0   \n",
       "751                    0.0  0.0   \n",
       "\n",
       "     zzwmavvvbp3yapsrmfp4nswdwuaqiecbagqiaagrdivtjzx0zt85z9zf8a8rtn  \\\n",
       "0                                                  0.0                \n",
       "1                                                  0.0                \n",
       "2                                                  0.0                \n",
       "3                                                  0.0                \n",
       "4                                                  0.0                \n",
       "..                                                 ...                \n",
       "747                                                0.0                \n",
       "748                                                0.0                \n",
       "749                                                0.0                \n",
       "750                                                0.0                \n",
       "751                                                0.0                \n",
       "\n",
       "     zzxthngejsu8vr  zzxyl  zzy  zzy55b7axooubbgcvqn297r4p  zzzs  \n",
       "0               0.0    0.0  0.0                        0.0   0.0  \n",
       "1               0.0    0.0  0.0                        0.0   0.0  \n",
       "2               0.0    0.0  0.0                        0.0   0.0  \n",
       "3               0.0    0.0  0.0                        0.0   0.0  \n",
       "4               0.0    0.0  0.0                        0.0   0.0  \n",
       "..              ...    ...  ...                        ...   ...  \n",
       "747             0.0    0.0  0.0                        0.0   0.0  \n",
       "748             0.0    0.0  0.0                        0.0   0.0  \n",
       "749             0.0    0.0  0.0                        0.0   0.0  \n",
       "750             0.0    0.0  0.0                        0.0   0.0  \n",
       "751             0.0    0.0  0.0                        0.0   0.0  \n",
       "\n",
       "[752 rows x 44231 columns]"
      ]
     },
     "execution_count": 28,
     "metadata": {},
     "output_type": "execute_result"
    }
   ],
   "source": [
    "X_train_df"
   ]
  },
  {
   "cell_type": "code",
   "execution_count": null,
   "id": "6ae597e7",
   "metadata": {},
   "outputs": [],
   "source": [
    "from sklearn.metrics import accuracy_score\n",
    "\n",
    "print(\"Accuracy: \", accuracy_score(y_test, y_pred)"
   ]
  },
  {
   "cell_type": "code",
   "execution_count": 31,
   "id": "cf8c5ee9",
   "metadata": {},
   "outputs": [
    {
     "name": "stdout",
     "output_type": "stream",
     "text": [
      "Accuracy of Decision Tree classifier on training set: 0.39\n"
     ]
    }
   ],
   "source": [
    "predictions['DT'] = clf.predict(X_train_df)\n",
    "\n",
    "\n",
    "\n",
    "print('Accuracy of Decision Tree classifier on training set: {:.2f}'\n",
    "      .format(clf.score(X_train_df, y_train)))\n",
    "predictions['DT'] = clf.score(X_train_df, y_train)"
   ]
  },
  {
   "cell_type": "code",
   "execution_count": 32,
   "id": "27ffda54",
   "metadata": {},
   "outputs": [
    {
     "data": {
      "text/html": [
       "<div>\n",
       "<style scoped>\n",
       "    .dataframe tbody tr th:only-of-type {\n",
       "        vertical-align: middle;\n",
       "    }\n",
       "\n",
       "    .dataframe tbody tr th {\n",
       "        vertical-align: top;\n",
       "    }\n",
       "\n",
       "    .dataframe thead th {\n",
       "        text-align: right;\n",
       "    }\n",
       "</style>\n",
       "<table border=\"1\" class=\"dataframe\">\n",
       "  <thead>\n",
       "    <tr style=\"text-align: right;\">\n",
       "      <th></th>\n",
       "      <th>actual</th>\n",
       "      <th>baseline</th>\n",
       "      <th>DT</th>\n",
       "    </tr>\n",
       "  </thead>\n",
       "  <tbody>\n",
       "    <tr>\n",
       "      <th>582</th>\n",
       "      <td>Not Specified</td>\n",
       "      <td>0.243351</td>\n",
       "      <td>0.393617</td>\n",
       "    </tr>\n",
       "    <tr>\n",
       "      <th>225</th>\n",
       "      <td>TypeScript</td>\n",
       "      <td>0.243351</td>\n",
       "      <td>0.393617</td>\n",
       "    </tr>\n",
       "    <tr>\n",
       "      <th>33</th>\n",
       "      <td>Not Specified</td>\n",
       "      <td>0.243351</td>\n",
       "      <td>0.393617</td>\n",
       "    </tr>\n",
       "    <tr>\n",
       "      <th>226</th>\n",
       "      <td>JavaScript</td>\n",
       "      <td>0.243351</td>\n",
       "      <td>0.393617</td>\n",
       "    </tr>\n",
       "    <tr>\n",
       "      <th>584</th>\n",
       "      <td>TypeScript</td>\n",
       "      <td>0.243351</td>\n",
       "      <td>0.393617</td>\n",
       "    </tr>\n",
       "  </tbody>\n",
       "</table>\n",
       "</div>"
      ],
      "text/plain": [
       "            actual  baseline        DT\n",
       "582  Not Specified  0.243351  0.393617\n",
       "225     TypeScript  0.243351  0.393617\n",
       "33   Not Specified  0.243351  0.393617\n",
       "226     JavaScript  0.243351  0.393617\n",
       "584     TypeScript  0.243351  0.393617"
      ]
     },
     "execution_count": 32,
     "metadata": {},
     "output_type": "execute_result"
    }
   ],
   "source": [
    "predictions.head()"
   ]
  },
  {
   "cell_type": "code",
   "execution_count": null,
   "id": "67a1335d",
   "metadata": {},
   "outputs": [],
   "source": []
  }
 ],
 "metadata": {
  "kernelspec": {
   "display_name": "Python 3 (ipykernel)",
   "language": "python",
   "name": "python3"
  },
  "language_info": {
   "codemirror_mode": {
    "name": "ipython",
    "version": 3
   },
   "file_extension": ".py",
   "mimetype": "text/x-python",
   "name": "python",
   "nbconvert_exporter": "python",
   "pygments_lexer": "ipython3",
   "version": "3.9.12"
  }
 },
 "nbformat": 4,
 "nbformat_minor": 5
}
