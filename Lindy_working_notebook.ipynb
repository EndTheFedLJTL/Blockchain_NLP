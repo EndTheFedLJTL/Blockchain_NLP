{
 "cells": [
  {
   "cell_type": "code",
   "execution_count": 1,
   "id": "6b6568f7",
   "metadata": {},
   "outputs": [],
   "source": [
    "import os\n",
    "import json\n",
    "from typing import Dict, List, Optional, Union, cast\n",
    "from env import github_token, github_username\n",
    "import acquire\n",
    "import pandas as pd\n",
    "import seaborn as sns\n",
    "import requests\n",
    "from bs4 import BeautifulSoup\n",
    "import regex as re\n",
    "import time\n",
    "import numpy as np\n",
    "import unicodedata\n",
    "import nltk\n",
    "from nltk.tokenize.toktok import ToktokTokenizer\n",
    "from nltk.corpus import stopwords\n",
    "from wordcloud import WordCloud\n",
    "import prepare_repos\n",
    "import collections\n",
    "import matplotlib.pyplot as plt\n",
    "from sklearn.tree import DecisionTreeClassifier, plot_tree\n",
    "from sklearn.metrics import classification_report\n",
    "from sklearn.metrics import confusion_matrix\n",
    "from sklearn.feature_extraction.text import TfidfVectorizer\n",
    "from sklearn.model_selection import train_test_split\n",
    "from sklearn.metrics import mean_squared_error\n",
    "from sklearn.ensemble import RandomForestClassifier"
   ]
  },
  {
   "cell_type": "code",
   "execution_count": null,
   "id": "d35419dc",
   "metadata": {},
   "outputs": [],
   "source": [
    "def create_urls(num=5000):\n",
    "    ''' this function scrapes the cryptography repositories from github and returns a list of urls\n",
    "    '''\n",
    "    num_of_repos=num\n",
    "\n",
    "    page_numbers = [i for i in range(0,101)]\n",
    "    print(page_numbers)\n",
    "    urls = [f'https://github.com/search?p={i}&q=%23defi&type=Repositories&per_page=100' for i in page_numbers]\n",
    "\n",
    "    print(urls)\n",
    "    return urls"
   ]
  },
  {
   "cell_type": "markdown",
   "id": "4799997b",
   "metadata": {},
   "source": [
    "##### create_urls()"
   ]
  },
  {
   "cell_type": "code",
   "execution_count": null,
   "id": "bc40d8cf",
   "metadata": {},
   "outputs": [],
   "source": [
    "def get_endpoints(url):\n",
    "    ''' This function gets the endpoints from the list of above urls\n",
    "    '''\n",
    "\n",
    "    headers = {\"Authorization\": f\"token {github_token}\", \"User-Agent\": github_username}\n",
    "    \n",
    "    while True:\n",
    "        response = requests.get(url, headers=headers)\n",
    "        if response.ok:\n",
    "            break\n",
    "        else:\n",
    "            print('sleeping')\n",
    "            time.sleep(20)\n",
    "            continue\n",
    "    soup = BeautifulSoup(response.text)\n",
    "    \n",
    "    print(response.ok)\n",
    "\n",
    "    endpoints = []\n",
    "    subgroups = soup.find_all('div', {\"class\":\"f4 text-normal\"})\n",
    "\n",
    "    for group in subgroups:\n",
    "        endpoints.append(re.search('href=\".*\"', str(group))[0][6:-1])\n",
    "\n",
    "    return endpoints"
   ]
  },
  {
   "cell_type": "code",
   "execution_count": null,
   "id": "7cb098f7",
   "metadata": {},
   "outputs": [],
   "source": [
    "get_endpoints('https://github.com/search?p=100&q=%23defi&type=Repositories&per_page=100')"
   ]
  },
  {
   "cell_type": "code",
   "execution_count": null,
   "id": "487942df",
   "metadata": {},
   "outputs": [],
   "source": [
    "def make_all_endpoints():\n",
    "    ''' This function returns all of the endpoints\n",
    "    '''\n",
    "    urls = create_urls()\n",
    "    for url in urls:\n",
    "        print(url)\n",
    "    all_endpoints = []\n",
    "\n",
    "    for i, page in enumerate(urls):\n",
    "        all_endpoints.append(get_endpoints(page))\n",
    "        print(page)\n",
    "\n",
    "    print(len(all_endpoints))\n",
    "\n",
    "    return all_endpoints"
   ]
  },
  {
   "cell_type": "code",
   "execution_count": null,
   "id": "5901e281",
   "metadata": {},
   "outputs": [],
   "source": [
    "make_all_endpoints()"
   ]
  },
  {
   "cell_type": "code",
   "execution_count": null,
   "id": "db917695",
   "metadata": {},
   "outputs": [],
   "source": [
    "def acquire_endpoints():\n",
    "    ''' This function acquires all endpoints and writes them to a csv.\n",
    "    '''\n",
    "    our_endpoints = pd.Series(make_all_endpoints(), name='endpoints')\n",
    "    our_endpoints.to_csv('endpoints.csv', index=False)\n",
    "\n",
    "    return our_endpoints"
   ]
  },
  {
   "cell_type": "code",
   "execution_count": null,
   "id": "c5a2c99d",
   "metadata": {},
   "outputs": [],
   "source": [
    "x=acquire_endpoints()"
   ]
  },
  {
   "cell_type": "code",
   "execution_count": null,
   "id": "5b87cc34",
   "metadata": {},
   "outputs": [],
   "source": [
    "def flatten_endpoints():\n",
    "    ''' This function flattens a 2d array into a 1d array\n",
    "    '''\n",
    "    end_points = pd.read_csv('endpoints.csv')\n",
    "    all_values = []\n",
    "    for value in end_points.values:\n",
    "        for ep in value:\n",
    "            all_values.append(ep)\n",
    "\n",
    "    final_values = []\n",
    "    #print(all_values)\n",
    "    for value in all_values:\n",
    "        for val in value.split(\"'\"):\n",
    "            if len(val) > 3:\n",
    "                final_values.append(val)\n",
    "                print(val)\n",
    "\n",
    "    return pd.Series(final_values, name='endpoints')"
   ]
  },
  {
   "cell_type": "code",
   "execution_count": null,
   "id": "db15a8f6",
   "metadata": {},
   "outputs": [],
   "source": [
    "endpoints = flatten_endpoints()"
   ]
  },
  {
   "cell_type": "code",
   "execution_count": null,
   "id": "6fc384b2",
   "metadata": {},
   "outputs": [],
   "source": [
    "REPOS = list(endpoints)"
   ]
  },
  {
   "cell_type": "code",
   "execution_count": null,
   "id": "9cb7973a",
   "metadata": {},
   "outputs": [],
   "source": [
    "REPOS[5:]"
   ]
  },
  {
   "cell_type": "code",
   "execution_count": null,
   "id": "0ebec37a",
   "metadata": {},
   "outputs": [],
   "source": [
    "\n",
    "headers = {\"Authorization\": f\"token {github_token}\", \"User-Agent\": github_username}\n",
    "\n",
    "if headers[\"Authorization\"] == \"token \" or headers[\"User-Agent\"] == \"\":\n",
    "    raise Exception(\n",
    "        \"You need to follow the instructions marked TODO in this script before trying to use it\"\n",
    "    )\n",
    "\n",
    "\n",
    "def github_api_request(url: str) -> Union[List, Dict]:\n",
    "    ''' This function makes requests from github and raises an error code if a specific error code is received.\n",
    "    '''\n",
    "    response = requests.get(url, headers=headers)\n",
    "    response_data = response.json()\n",
    "    if response.status_code != 200:\n",
    "        raise Exception(\n",
    "            f\"Error response from github api! status code: {response.status_code}, \"\n",
    "            f\"response: {json.dumps(response_data)}\"\n",
    "        )\n",
    "    return response_data\n",
    "\n",
    "\n",
    "def get_repo_language(repo: str) -> str:\n",
    "    ''' This function fetches the language associated with a repository\n",
    "    '''\n",
    "    url = f\"https://api.github.com/repos{repo}\"\n",
    "    repo_info = github_api_request(url)\n",
    "    if type(repo_info) is dict:\n",
    "        repo_info = cast(Dict, repo_info)\n",
    "        if \"language\" not in repo_info:\n",
    "            raise Exception(\n",
    "                \"'language' key not round in response\\n{}\".format(json.dumps(repo_info))\n",
    "            )\n",
    "        return repo_info[\"language\"]\n",
    "    raise Exception(\n",
    "        f\"Expecting a dictionary response from {url}, instead got {json.dumps(repo_info)}\"\n",
    "    )\n",
    "\n",
    "def get_repo_contents(repo: str) -> List[Dict[str, str]]:\n",
    "    ''' This function fetches the contents associated with a repo\n",
    "    '''\n",
    "    url = f\"https://api.github.com/repos{REPOS}/contents/\"\n",
    "    contents = github_api_request(url)\n",
    "    if type(contents) is list:\n",
    "        contents = cast(List, contents)\n",
    "        return contents\n",
    "    raise Exception(\n",
    "        f\"Expecting a list response from {url}, instead got {json.dumps(contents)}\"\n",
    "    )\n",
    "\n",
    "def get_readme_download_url(files: List[Dict[str, str]]) -> str:\n",
    "    \"\"\"\n",
    "    Takes in a response from the github api that lists the files in a repo and\n",
    "    returns the url that can be used to download the repo's README file.\n",
    "    \"\"\"\n",
    "    for file in files:\n",
    "        if file[\"name\"].lower().startswith(\"readme\"):\n",
    "            return file[\"download_url\"]\n",
    "    return \"\"\n",
    "\n",
    "def process_repo(repo: str) -> Dict[str, str]:\n",
    "    \"\"\"\n",
    "    Takes a repo name like \"gocodeup/codeup-setup-script\" and returns a\n",
    "    dictionary with the language of the repo and the readme contents.\n",
    "    \"\"\"\n",
    "    contents = get_repo_contents(repo)\n",
    "    readme_download_url = get_readme_download_url(contents)\n",
    "    if readme_download_url == \"\":\n",
    "        readme_contents = \"\"\n",
    "    else:\n",
    "        response = requests.get(readme_download_url)\n",
    "        print(readme_download_url)\n",
    "        print(response.status_code)\n",
    "        readme_contents = requests.get(readme_download_url).text\n",
    "        \n",
    "    return {\n",
    "        \"repo\": repo,\n",
    "        \"language\": get_repo_language(repo),\n",
    "        \"readme_contents\": readme_contents,\n",
    "    }\n"
   ]
  },
  {
   "cell_type": "code",
   "execution_count": null,
   "id": "13a091f8",
   "metadata": {},
   "outputs": [],
   "source": [
    "def scrape_github_data() -> List[Dict[str, str]]:\n",
    "    \"\"\"\n",
    "    Loop through all of the repos and process them. Returns the processed data.\n",
    "    \"\"\"\n",
    "    \n",
    "    output = []\n",
    "    for repo in REPOS:\n",
    "        \n",
    "        url = f\"https://api.github.com/repos{repo}/contents/\"\n",
    "        print(repo)\n",
    "        response = requests.get(url, headers=headers)\n",
    "        \n",
    "        if response.status_code != 200:\n",
    "            print(f\"Skipping {repo} because its HTTP status code is {response.status_code}\")\n",
    "            continue\n",
    "        \n",
    "        contents = response.json()\n",
    "        readme_download_url = get_readme_download_url(contents)\n",
    "        \n",
    "        if readme_download_url == \"\":\n",
    "            readme_contents = \"\"\n",
    "        else:\n",
    "            response = requests.get(readme_download_url)\n",
    "            if response.status_code != 200:\n",
    "                print(f\"Skipping {repo} because its HTTP status code is {response.status_code}\")\n",
    "                continue\n",
    "            readme_contents = requests.get(readme_download_url).text\n",
    "        print(repo)\n",
    "        result = {\n",
    "            \"repo\": repo,\n",
    "            \"language\": get_repo_language(repo),\n",
    "            \"readme_contents\": readme_contents,\n",
    "        }\n",
    "    \n",
    "        output.append(result)\n",
    "        \n",
    "    return output"
   ]
  },
  {
   "cell_type": "code",
   "execution_count": null,
   "id": "080824a2",
   "metadata": {},
   "outputs": [],
   "source": [
    "data = scrape_github_data()"
   ]
  },
  {
   "cell_type": "code",
   "execution_count": null,
   "id": "4544bceb",
   "metadata": {},
   "outputs": [],
   "source": [
    "data[:5]"
   ]
  },
  {
   "cell_type": "code",
   "execution_count": null,
   "id": "d9036daf",
   "metadata": {},
   "outputs": [],
   "source": [
    "import csv\n",
    "to_csv = data\n",
    "keys = to_csv[0].keys()\n",
    "#save to csv\n",
    "with open('data.csv', 'w', newline='') as output_file:\n",
    "    dict_writer = csv.DictWriter(output_file, keys)\n",
    "    dict_writer.writeheader()\n",
    "    dict_writer.writerows(to_csv)"
   ]
  },
  {
   "cell_type": "code",
   "execution_count": 3,
   "id": "d2368110",
   "metadata": {},
   "outputs": [
    {
     "data": {
      "text/html": [
       "<div>\n",
       "<style scoped>\n",
       "    .dataframe tbody tr th:only-of-type {\n",
       "        vertical-align: middle;\n",
       "    }\n",
       "\n",
       "    .dataframe tbody tr th {\n",
       "        vertical-align: top;\n",
       "    }\n",
       "\n",
       "    .dataframe thead th {\n",
       "        text-align: right;\n",
       "    }\n",
       "</style>\n",
       "<table border=\"1\" class=\"dataframe\">\n",
       "  <thead>\n",
       "    <tr style=\"text-align: right;\">\n",
       "      <th></th>\n",
       "      <th>repo</th>\n",
       "      <th>language</th>\n",
       "      <th>readme_contents</th>\n",
       "    </tr>\n",
       "  </thead>\n",
       "  <tbody>\n",
       "    <tr>\n",
       "      <th>0</th>\n",
       "      <td>/OffcierCia/DeFi-Developer-Road-Map</td>\n",
       "      <td>NaN</td>\n",
       "      <td># DeFi Developer Road Map\\n\\n**Here we collect...</td>\n",
       "    </tr>\n",
       "    <tr>\n",
       "      <th>1</th>\n",
       "      <td>/smartcontractkit/full-blockchain-solidity-cou...</td>\n",
       "      <td>NaN</td>\n",
       "      <td>&lt;!-- [YouTube Video](https://www.youtube.com/w...</td>\n",
       "    </tr>\n",
       "    <tr>\n",
       "      <th>2</th>\n",
       "      <td>/rainbow-me/rainbow</td>\n",
       "      <td>TypeScript</td>\n",
       "      <td>![](https://pbs.twimg.com/profile_banners/1103...</td>\n",
       "    </tr>\n",
       "    <tr>\n",
       "      <th>3</th>\n",
       "      <td>/Bytom/bytom</td>\n",
       "      <td>Go</td>\n",
       "      <td>Bytom\\n======\\n\\n[![Build Status](https://trav...</td>\n",
       "    </tr>\n",
       "    <tr>\n",
       "      <th>4</th>\n",
       "      <td>/DimensionDev/Maskbook</td>\n",
       "      <td>TypeScript</td>\n",
       "      <td>&lt;!-- cspell:disable --&gt;\\n&lt;!-- markdownlint-dis...</td>\n",
       "    </tr>\n",
       "  </tbody>\n",
       "</table>\n",
       "</div>"
      ],
      "text/plain": [
       "                                                repo    language  \\\n",
       "0                /OffcierCia/DeFi-Developer-Road-Map         NaN   \n",
       "1  /smartcontractkit/full-blockchain-solidity-cou...         NaN   \n",
       "2                                /rainbow-me/rainbow  TypeScript   \n",
       "3                                       /Bytom/bytom          Go   \n",
       "4                             /DimensionDev/Maskbook  TypeScript   \n",
       "\n",
       "                                     readme_contents  \n",
       "0  # DeFi Developer Road Map\\n\\n**Here we collect...  \n",
       "1  <!-- [YouTube Video](https://www.youtube.com/w...  \n",
       "2  ![](https://pbs.twimg.com/profile_banners/1103...  \n",
       "3  Bytom\\n======\\n\\n[![Build Status](https://trav...  \n",
       "4  <!-- cspell:disable -->\\n<!-- markdownlint-dis...  "
      ]
     },
     "execution_count": 3,
     "metadata": {},
     "output_type": "execute_result"
    }
   ],
   "source": [
    "# open csv\n",
    "df = pd.read_csv('data.csv') \n",
    "df.head()"
   ]
  },
  {
   "cell_type": "code",
   "execution_count": null,
   "id": "d1955b2b",
   "metadata": {},
   "outputs": [],
   "source": [
    "df.language.value_counts()"
   ]
  },
  {
   "cell_type": "markdown",
   "id": "9d61c119",
   "metadata": {},
   "source": [
    "### Prepare"
   ]
  },
  {
   "cell_type": "code",
   "execution_count": null,
   "id": "827fa2db",
   "metadata": {},
   "outputs": [],
   "source": [
    "df.isnull().sum()"
   ]
  },
  {
   "cell_type": "code",
   "execution_count": 5,
   "id": "797626f0",
   "metadata": {},
   "outputs": [
    {
     "data": {
      "text/plain": [
       "(976, 3)"
      ]
     },
     "execution_count": 5,
     "metadata": {},
     "output_type": "execute_result"
    }
   ],
   "source": [
    "df = df.dropna()\n",
    "df.shape"
   ]
  },
  {
   "cell_type": "code",
   "execution_count": 4,
   "id": "040b51d0",
   "metadata": {},
   "outputs": [
    {
     "data": {
      "text/plain": [
       "(1010, 3)"
      ]
     },
     "execution_count": 4,
     "metadata": {},
     "output_type": "execute_result"
    }
   ],
   "source": [
    "df = prepare_repos.fill_nulls(df)\n",
    "df.shape"
   ]
  },
  {
   "cell_type": "code",
   "execution_count": 6,
   "id": "14004964",
   "metadata": {},
   "outputs": [
    {
     "data": {
      "text/html": [
       "<div>\n",
       "<style scoped>\n",
       "    .dataframe tbody tr th:only-of-type {\n",
       "        vertical-align: middle;\n",
       "    }\n",
       "\n",
       "    .dataframe tbody tr th {\n",
       "        vertical-align: top;\n",
       "    }\n",
       "\n",
       "    .dataframe thead th {\n",
       "        text-align: right;\n",
       "    }\n",
       "</style>\n",
       "<table border=\"1\" class=\"dataframe\">\n",
       "  <thead>\n",
       "    <tr style=\"text-align: right;\">\n",
       "      <th></th>\n",
       "      <th>repo</th>\n",
       "      <th>language</th>\n",
       "      <th>readme_contents</th>\n",
       "    </tr>\n",
       "  </thead>\n",
       "  <tbody>\n",
       "    <tr>\n",
       "      <th>0</th>\n",
       "      <td>/OffcierCia/DeFi-Developer-Road-Map</td>\n",
       "      <td>Not Specified</td>\n",
       "      <td>defi developer road map\\n\\n  here we collect...</td>\n",
       "    </tr>\n",
       "    <tr>\n",
       "      <th>1</th>\n",
       "      <td>/smartcontractkit/full-blockchain-solidity-cou...</td>\n",
       "      <td>Not Specified</td>\n",
       "      <td>youtube video  https   www youtube com w...</td>\n",
       "    </tr>\n",
       "    <tr>\n",
       "      <th>2</th>\n",
       "      <td>/rainbow-me/rainbow</td>\n",
       "      <td>TypeScript</td>\n",
       "      <td>https   pbs twimg com profile banners 1103...</td>\n",
       "    </tr>\n",
       "    <tr>\n",
       "      <th>3</th>\n",
       "      <td>/Bytom/bytom</td>\n",
       "      <td>Go</td>\n",
       "      <td>bytom\\n      \\n\\n   build status  https   trav...</td>\n",
       "    </tr>\n",
       "    <tr>\n",
       "      <th>4</th>\n",
       "      <td>/DimensionDev/Maskbook</td>\n",
       "      <td>TypeScript</td>\n",
       "      <td>cspell disable    \\n     markdownlint dis...</td>\n",
       "    </tr>\n",
       "  </tbody>\n",
       "</table>\n",
       "</div>"
      ],
      "text/plain": [
       "                                                repo       language  \\\n",
       "0                /OffcierCia/DeFi-Developer-Road-Map  Not Specified   \n",
       "1  /smartcontractkit/full-blockchain-solidity-cou...  Not Specified   \n",
       "2                                /rainbow-me/rainbow     TypeScript   \n",
       "3                                       /Bytom/bytom             Go   \n",
       "4                             /DimensionDev/Maskbook     TypeScript   \n",
       "\n",
       "                                     readme_contents  \n",
       "0    defi developer road map\\n\\n  here we collect...  \n",
       "1        youtube video  https   www youtube com w...  \n",
       "2      https   pbs twimg com profile banners 1103...  \n",
       "3  bytom\\n      \\n\\n   build status  https   trav...  \n",
       "4       cspell disable    \\n     markdownlint dis...  "
      ]
     },
     "execution_count": 6,
     "metadata": {},
     "output_type": "execute_result"
    }
   ],
   "source": [
    "df['readme_contents'] = df.readme_contents.apply(prepare_repos.basic_clean)\n",
    "df.head()"
   ]
  },
  {
   "cell_type": "code",
   "execution_count": 7,
   "id": "f99f2c75",
   "metadata": {},
   "outputs": [
    {
     "data": {
      "text/html": [
       "<div>\n",
       "<style scoped>\n",
       "    .dataframe tbody tr th:only-of-type {\n",
       "        vertical-align: middle;\n",
       "    }\n",
       "\n",
       "    .dataframe tbody tr th {\n",
       "        vertical-align: top;\n",
       "    }\n",
       "\n",
       "    .dataframe thead th {\n",
       "        text-align: right;\n",
       "    }\n",
       "</style>\n",
       "<table border=\"1\" class=\"dataframe\">\n",
       "  <thead>\n",
       "    <tr style=\"text-align: right;\">\n",
       "      <th></th>\n",
       "      <th>repo</th>\n",
       "      <th>language</th>\n",
       "      <th>readme_contents</th>\n",
       "    </tr>\n",
       "  </thead>\n",
       "  <tbody>\n",
       "    <tr>\n",
       "      <th>0</th>\n",
       "      <td>/OffcierCia/DeFi-Developer-Road-Map</td>\n",
       "      <td>Not Specified</td>\n",
       "      <td>defi developer road map collect discus best de...</td>\n",
       "    </tr>\n",
       "    <tr>\n",
       "      <th>1</th>\n",
       "      <td>/smartcontractkit/full-blockchain-solidity-cou...</td>\n",
       "      <td>Not Specified</td>\n",
       "      <td>youtube video http www youtube com watch v m57...</td>\n",
       "    </tr>\n",
       "    <tr>\n",
       "      <th>2</th>\n",
       "      <td>/rainbow-me/rainbow</td>\n",
       "      <td>TypeScript</td>\n",
       "      <td>http pb twimg com profile banner 1103191459409...</td>\n",
       "    </tr>\n",
       "    <tr>\n",
       "      <th>3</th>\n",
       "      <td>/Bytom/bytom</td>\n",
       "      <td>Go</td>\n",
       "      <td>bytom build status http travis ci org bytom by...</td>\n",
       "    </tr>\n",
       "    <tr>\n",
       "      <th>4</th>\n",
       "      <td>/DimensionDev/Maskbook</td>\n",
       "      <td>TypeScript</td>\n",
       "      <td>cspell disable markdownlint disable inline htm...</td>\n",
       "    </tr>\n",
       "  </tbody>\n",
       "</table>\n",
       "</div>"
      ],
      "text/plain": [
       "                                                repo       language  \\\n",
       "0                /OffcierCia/DeFi-Developer-Road-Map  Not Specified   \n",
       "1  /smartcontractkit/full-blockchain-solidity-cou...  Not Specified   \n",
       "2                                /rainbow-me/rainbow     TypeScript   \n",
       "3                                       /Bytom/bytom             Go   \n",
       "4                             /DimensionDev/Maskbook     TypeScript   \n",
       "\n",
       "                                     readme_contents  \n",
       "0  defi developer road map collect discus best de...  \n",
       "1  youtube video http www youtube com watch v m57...  \n",
       "2  http pb twimg com profile banner 1103191459409...  \n",
       "3  bytom build status http travis ci org bytom by...  \n",
       "4  cspell disable markdownlint disable inline htm...  "
      ]
     },
     "execution_count": 7,
     "metadata": {},
     "output_type": "execute_result"
    }
   ],
   "source": [
    "df['readme_contents'] = df.readme_contents.apply(prepare_repos.tokenize).apply(prepare_repos.lemmatize).apply(prepare_repos.remove_stopwords)\n",
    "df.head()"
   ]
  },
  {
   "cell_type": "code",
   "execution_count": null,
   "id": "fe654faf",
   "metadata": {},
   "outputs": [],
   "source": [
    "df['word_count'] = df['readme_contents'].apply(lambda x : len(x.split()))"
   ]
  },
  {
   "cell_type": "code",
   "execution_count": null,
   "id": "8043eae7",
   "metadata": {},
   "outputs": [],
   "source": [
    "df['num_unique_words'] = df['readme_contents'].apply(lambda x: len(set(w for w in x.split())))\n",
    "df['num_repeated_words'] = df['readme_contents'].apply(lambda x: len([w for w in collections.Counter(x.split()).values() if w > 1]))\n",
    "df['character_count'] = df['readme_contents'].apply(lambda x : len(x.replace(\" \",\"\")))\n",
    "df.head()"
   ]
  },
  {
   "cell_type": "code",
   "execution_count": null,
   "id": "35edc782",
   "metadata": {},
   "outputs": [],
   "source": [
    "df.isnull().sum()"
   ]
  },
  {
   "cell_type": "code",
   "execution_count": null,
   "id": "5c88832b",
   "metadata": {},
   "outputs": [],
   "source": [
    "df.word_count.plot()"
   ]
  },
  {
   "cell_type": "code",
   "execution_count": null,
   "id": "1985644a",
   "metadata": {},
   "outputs": [],
   "source": [
    "df.to_csv('clean_df.csv', index = False)"
   ]
  },
  {
   "cell_type": "code",
   "execution_count": null,
   "id": "39240fa6",
   "metadata": {},
   "outputs": [],
   "source": [
    "fig = px.bar(df, x='language', y='word_count', title='Counts of words', template='plotly_white', labels={'ngram': 'Bigram', 'count': 'Count'})\n",
    "fig.show()"
   ]
  },
  {
   "cell_type": "code",
   "execution_count": null,
   "id": "a90880aa",
   "metadata": {},
   "outputs": [],
   "source": [
    "fig = px.histogram(df, x='language', template='plotly_white', title='Complain counts by length')\n",
    "fig.update_xaxes(categoryorder='total descending', title='Number of words (clipped at 1000 words)').update_yaxes(title='Number of complaints')\n",
    "fig.show()"
   ]
  },
  {
   "cell_type": "code",
   "execution_count": null,
   "id": "43af2627",
   "metadata": {},
   "outputs": [],
   "source": [
    "df.head()"
   ]
  },
  {
   "cell_type": "code",
   "execution_count": 8,
   "id": "e48b1651",
   "metadata": {},
   "outputs": [],
   "source": [
    "# Limit languagues with less than 4 spots in a repo\n",
    "remaining_languages = df.language.value_counts()[df.language.value_counts() > 4].index\n",
    "\n",
    "# Removing languages not kept\n",
    "df = df[df.language.isin(remaining_languages)]"
   ]
  },
  {
   "cell_type": "code",
   "execution_count": null,
   "id": "6886ee21",
   "metadata": {},
   "outputs": [],
   "source": [
    "df.shape"
   ]
  },
  {
   "cell_type": "code",
   "execution_count": null,
   "id": "3f3bdc7b",
   "metadata": {},
   "outputs": [],
   "source": [
    "labels = pd.concat([df.language.value_counts(),\n",
    "                    df.language.value_counts(normalize=True)], axis=1)\n",
    "labels.columns = ['n', 'percent']\n",
    "labels"
   ]
  },
  {
   "cell_type": "code",
   "execution_count": null,
   "id": "b7cd6446",
   "metadata": {},
   "outputs": [],
   "source": [
    "df.language.value_counts()"
   ]
  },
  {
   "cell_type": "code",
   "execution_count": null,
   "id": "d4be5185",
   "metadata": {},
   "outputs": [],
   "source": [
    "java_words = prepare_repos.clean(' '.join(df[df.language == 'JavaScript'].readme_contents))\n",
    "Tscript_words = prepare_repos.clean(' '.join(df[df.language == 'TypeScript'].readme_contents))\n",
    "all_words = prepare_repos.clean(' '.join(df.readme_contents))\n",
    "idk_words = prepare_repos.clean(' '.join(df[df.language == 'Not Specified'].readme_contents))\n",
    "solidity_words = prepare_repos.clean(' '.join(df[df.language == 'Solidity'].readme_contents))\n",
    "python_words = prepare_repos.clean(' '.join(df[df.language == 'Python'].readme_contents))"
   ]
  },
  {
   "cell_type": "code",
   "execution_count": null,
   "id": "16c64335",
   "metadata": {},
   "outputs": [],
   "source": [
    "java_words"
   ]
  },
  {
   "cell_type": "code",
   "execution_count": null,
   "id": "c61e4fce",
   "metadata": {},
   "outputs": [],
   "source": [
    "java_freq = pd.Series(java_words).value_counts()\n",
    "Tscript_freq = pd.Series(Tscript_words).value_counts()\n",
    "all_freq = pd.Series(all_words).value_counts()\n",
    "idk_freq = pd.Series(idk_words).value_counts()\n",
    "solidity_freq = pd.Series(solidity_words).value_counts()\n",
    "python_freq = pd.Series(python_words).value_counts()\n",
    "java_freq.head()"
   ]
  },
  {
   "cell_type": "code",
   "execution_count": null,
   "id": "c242badd",
   "metadata": {},
   "outputs": [],
   "source": [
    "Tscript_freq.head()"
   ]
  },
  {
   "cell_type": "code",
   "execution_count": null,
   "id": "c8825146",
   "metadata": {},
   "outputs": [],
   "source": [
    "word_counts = (pd.concat([all_freq, java_freq, Tscript_freq, idk_freq, solidity_freq, python_freq], axis=1, sort=True)\n",
    "                .set_axis(['all', 'java', 'TypeScript', 'Not_Specified', 'Solidity', 'Python'], axis=1, inplace=False)\n",
    "                .fillna(0)\n",
    "                .apply(lambda s: s.astype(int)))\n",
    "\n",
    "word_counts.head(15)"
   ]
  },
  {
   "cell_type": "code",
   "execution_count": null,
   "id": "63449818",
   "metadata": {},
   "outputs": [],
   "source": [
    "word_counts.sort_values(by='TypeScript', ascending=False).head(10)"
   ]
  },
  {
   "cell_type": "code",
   "execution_count": null,
   "id": "be8c5fa8",
   "metadata": {},
   "outputs": [],
   "source": [
    "all_cloud = WordCloud(background_color='white', height=1000, width=400).generate(' '.join(all_words))\n",
    "java_cloud = WordCloud(background_color='white', height=600, width=800).generate(' '.join(java_words))\n",
    "Tscript_cloud = WordCloud(background_color='white', height=600, width=800).generate(' '.join(Tscript_words))\n",
    "idk_cloud = WordCloud(background_color='white', height=1000, width=400).generate(' '.join(idk_words))\n",
    "Solidity_cloud = WordCloud(background_color='white', height=600, width=800).generate(' '.join(solidity_words))\n",
    "python_cloud = WordCloud(background_color='white', height=600, width=800).generate(' '.join(python_words))\n",
    "\n",
    "plt.figure(figsize=(10, 8))\n",
    "axs = [plt.axes([0, 0, .5, 1]), plt.axes([.5, .5, .5, .5]), plt.axes([.5, 0, .5, .5]), plt.axes([.5, .5, .5, .5]), plt.axes([.5, .5, .5, .5]), plt.axes([.5, .5, .5, .5])]\n",
    "\n",
    "axs[0].imshow(all_cloud)\n",
    "axs[1].imshow(java_cloud)\n",
    "axs[2].imshow(Tscript_cloud)\n",
    "axs[3].imshow(idk_cloud)\n",
    "axs[4].imshow(Solidity_cloud)\n",
    "axs[5].imshow(python_cloud)\n",
    "\n",
    "axs[0].set_title('All Words')\n",
    "axs[1].set_title('java')\n",
    "axs[2].set_title('Tscript_words')\n",
    "axs[3].set_title('Not Specified')\n",
    "axs[4].set_title('solidity')\n",
    "axs[5].set_title('python')\n",
    "\n",
    "for ax in axs: ax.axis('off')"
   ]
  },
  {
   "cell_type": "code",
   "execution_count": null,
   "id": "bd46b33a",
   "metadata": {},
   "outputs": [],
   "source": [
    "Solidity_cloud = WordCloud(background_color='white', height=600, width=800).generate(' '.join(solidity_words))\n",
    "plt.imshow(Solidity_cloud)\n"
   ]
  },
  {
   "cell_type": "code",
   "execution_count": null,
   "id": "64bdcd96",
   "metadata": {},
   "outputs": [],
   "source": [
    "word_counts.head()"
   ]
  },
  {
   "cell_type": "code",
   "execution_count": null,
   "id": "b42492a3",
   "metadata": {},
   "outputs": [],
   "source": [
    "(word_counts\n",
    " .assign(p_java=word_counts.java / word_counts['all'],\n",
    "         p_TypeScript=word_counts.TypeScript / word_counts['all'],\n",
    "         p_idk=word_counts.Not_Specified / word_counts['all'],\n",
    "         p_Solidity=word_counts.Solidity / word_counts['all'],\n",
    "         p_python=word_counts.Python / word_counts['all'])\n",
    " .sort_values(by='all')\n",
    " [['java', 'TypeScript', 'Solidity', 'Not_Specified', 'Python']]\n",
    " .tail(20)\n",
    " .sort_values('java')\n",
    " .plot.barh(stacked=True))\n",
    "\n",
    "plt.title('Proportion of language for the 20 most common words')"
   ]
  },
  {
   "cell_type": "code",
   "execution_count": null,
   "id": "42b62868",
   "metadata": {},
   "outputs": [],
   "source": [
    "df.head()"
   ]
  },
  {
   "cell_type": "code",
   "execution_count": 9,
   "id": "f70b33ac",
   "metadata": {},
   "outputs": [],
   "source": [
    "tfidf = TfidfVectorizer()\n",
    "X = tfidf.fit_transform(df.readme_contents)\n",
    "y = df.language\n",
    "\n",
    "X_train, X_test_val, y_train, y_test_val = train_test_split(X, y, stratify=y, test_size=.2)\n",
    "X_validate, X_test, y_validate, y_test = train_test_split(X_test_val, y_test_val, stratify=y_test_val, test_size=.5)\n"
   ]
  },
  {
   "cell_type": "code",
   "execution_count": 10,
   "id": "bd7bd47e",
   "metadata": {},
   "outputs": [
    {
     "name": "stderr",
     "output_type": "stream",
     "text": [
      "/usr/local/anaconda3/lib/python3.9/site-packages/sklearn/utils/deprecation.py:87: FutureWarning: Function get_feature_names is deprecated; get_feature_names is deprecated in 1.0 and will be removed in 1.2. Please use get_feature_names_out instead.\n",
      "  warnings.warn(msg, category=FutureWarning)\n",
      "/usr/local/anaconda3/lib/python3.9/site-packages/sklearn/utils/deprecation.py:87: FutureWarning: Function get_feature_names is deprecated; get_feature_names is deprecated in 1.0 and will be removed in 1.2. Please use get_feature_names_out instead.\n",
      "  warnings.warn(msg, category=FutureWarning)\n",
      "/usr/local/anaconda3/lib/python3.9/site-packages/sklearn/utils/deprecation.py:87: FutureWarning: Function get_feature_names is deprecated; get_feature_names is deprecated in 1.0 and will be removed in 1.2. Please use get_feature_names_out instead.\n",
      "  warnings.warn(msg, category=FutureWarning)\n"
     ]
    }
   ],
   "source": [
    "# turn X_ into df with features \n",
    "X_train_df= pd.DataFrame(X_train.todense(), columns=tfidf.get_feature_names())\n",
    "X_validate_df= pd.DataFrame(X_validate.todense(), columns=tfidf.get_feature_names())\n",
    "X_test_df= pd.DataFrame(X_test.todense(), columns=tfidf.get_feature_names())"
   ]
  },
  {
   "cell_type": "code",
   "execution_count": 11,
   "id": "4e0b8667",
   "metadata": {},
   "outputs": [],
   "source": [
    "# turn y_ into df\n",
    "y_train = pd.DataFrame(y_train)\n",
    "y_validate = pd.DataFrame(y_validate)\n",
    "y_test = pd.DataFrame(y_test)"
   ]
  },
  {
   "cell_type": "markdown",
   "id": "a9222777",
   "metadata": {},
   "source": [
    "## baseline "
   ]
  },
  {
   "cell_type": "code",
   "execution_count": null,
   "id": "49aa71e5",
   "metadata": {},
   "outputs": [],
   "source": [
    "df.language.value_counts()"
   ]
  },
  {
   "cell_type": "code",
   "execution_count": 12,
   "id": "cc0f1bb7",
   "metadata": {},
   "outputs": [],
   "source": [
    "# new df for predictions\n",
    "predictions = pd.DataFrame({ \n",
    "    'actual': y_train.language\n",
    "})\n"
   ]
  },
  {
   "cell_type": "code",
   "execution_count": 13,
   "id": "2dfe82ef",
   "metadata": {},
   "outputs": [],
   "source": [
    "predictions['baseline'] = y_train[y_train['language'] == 'JavaScript'].shape[0] /y_train.shape[0]"
   ]
  },
  {
   "cell_type": "code",
   "execution_count": 14,
   "id": "d1906955",
   "metadata": {},
   "outputs": [
    {
     "data": {
      "text/html": [
       "<div>\n",
       "<style scoped>\n",
       "    .dataframe tbody tr th:only-of-type {\n",
       "        vertical-align: middle;\n",
       "    }\n",
       "\n",
       "    .dataframe tbody tr th {\n",
       "        vertical-align: top;\n",
       "    }\n",
       "\n",
       "    .dataframe thead th {\n",
       "        text-align: right;\n",
       "    }\n",
       "</style>\n",
       "<table border=\"1\" class=\"dataframe\">\n",
       "  <thead>\n",
       "    <tr style=\"text-align: right;\">\n",
       "      <th></th>\n",
       "      <th>actual</th>\n",
       "      <th>baseline</th>\n",
       "    </tr>\n",
       "  </thead>\n",
       "  <tbody>\n",
       "    <tr>\n",
       "      <th>31</th>\n",
       "      <td>Python</td>\n",
       "      <td>0.243351</td>\n",
       "    </tr>\n",
       "    <tr>\n",
       "      <th>669</th>\n",
       "      <td>Solidity</td>\n",
       "      <td>0.243351</td>\n",
       "    </tr>\n",
       "    <tr>\n",
       "      <th>17</th>\n",
       "      <td>Not Specified</td>\n",
       "      <td>0.243351</td>\n",
       "    </tr>\n",
       "    <tr>\n",
       "      <th>737</th>\n",
       "      <td>TypeScript</td>\n",
       "      <td>0.243351</td>\n",
       "    </tr>\n",
       "    <tr>\n",
       "      <th>55</th>\n",
       "      <td>Python</td>\n",
       "      <td>0.243351</td>\n",
       "    </tr>\n",
       "  </tbody>\n",
       "</table>\n",
       "</div>"
      ],
      "text/plain": [
       "            actual  baseline\n",
       "31          Python  0.243351\n",
       "669       Solidity  0.243351\n",
       "17   Not Specified  0.243351\n",
       "737     TypeScript  0.243351\n",
       "55          Python  0.243351"
      ]
     },
     "execution_count": 14,
     "metadata": {},
     "output_type": "execute_result"
    }
   ],
   "source": [
    "predictions.head()"
   ]
  },
  {
   "cell_type": "code",
   "execution_count": null,
   "id": "2d1f127c",
   "metadata": {},
   "outputs": [],
   "source": [
    "from sklearn.feature_extraction.text import TfidfVectorizer\n",
    "\n",
    "tfidf = TfidfVectorizer()\n",
    "tfidfs = tfidf.fit_transform(df['readme_contents'])\n",
    "tfidfs"
   ]
  },
  {
   "cell_type": "code",
   "execution_count": null,
   "id": "ea734f8e",
   "metadata": {},
   "outputs": [],
   "source": [
    "features= pd.DataFrame(tfidfs.todense(), columns=tfidf.get_feature_names())\n",
    "features"
   ]
  },
  {
   "cell_type": "code",
   "execution_count": null,
   "id": "dc8aca39",
   "metadata": {},
   "outputs": [],
   "source": [
    "df['readme_contents'].head()"
   ]
  },
  {
   "cell_type": "code",
   "execution_count": null,
   "id": "9542cd9f",
   "metadata": {},
   "outputs": [],
   "source": [
    " #From the Series we can extract the value_counts, which is our raw count\n",
    "# for term frequency. Once we have the raw counts, we can calculate the\n",
    "# other measures.\n",
    "df2 = (pd.DataFrame({'raw_count': word_counts.value_counts()})\n",
    " .assign(frequency=lambda df: df.raw_count / df.raw_count.sum())\n",
    " .assign(augmented_frequency=lambda df: df.frequency / df.frequency.max()))"
   ]
  },
  {
   "cell_type": "markdown",
   "id": "edc83b7f",
   "metadata": {},
   "source": [
    "## Decision Tree"
   ]
  },
  {
   "cell_type": "code",
   "execution_count": 15,
   "id": "969fa0dd",
   "metadata": {},
   "outputs": [
    {
     "data": {
      "text/plain": [
       "[Text(0.5769230769230769, 0.875, 'yarn <= 0.015\\ngini = 0.832\\nsamples = 752\\nvalue = [8, 10, 9, 20, 18, 183, 8, 100, 45, 26, 10, 130\\n176, 9]\\nclass = JavaScript'),\n",
       " Text(0.3076923076923077, 0.625, 'python <= 0.022\\ngini = 0.845\\nsamples = 583\\nvalue = [8, 10, 6, 19, 12, 141, 8, 100, 44, 22, 10, 109\\n87, 7]\\nclass = JavaScript'),\n",
       " Text(0.15384615384615385, 0.375, 'npm <= 0.011\\ngini = 0.835\\nsamples = 548\\nvalue = [8, 10, 6, 19, 12, 141, 5, 99, 20, 21, 10, 106\\n84, 7]\\nclass = JavaScript'),\n",
       " Text(0.07692307692307693, 0.125, 'gini = 0.849\\nsamples = 393\\nvalue = [8, 9, 5, 19, 11, 75, 5, 96, 20, 19, 9, 71, 44\\n2]\\nclass = Not Specified'),\n",
       " Text(0.23076923076923078, 0.125, 'gini = 0.699\\nsamples = 155\\nvalue = [0, 1, 1, 0, 1, 66, 0, 3, 0, 2, 1, 35, 40, 5]\\nclass = JavaScript'),\n",
       " Text(0.46153846153846156, 0.375, 'install <= 0.002\\ngini = 0.506\\nsamples = 35\\nvalue = [0, 0, 0, 0, 0, 0, 3, 1, 24, 1, 0, 3, 3, 0]\\nclass = Python'),\n",
       " Text(0.38461538461538464, 0.125, 'gini = 0.611\\nsamples = 6\\nvalue = [0, 0, 0, 0, 0, 0, 3, 0, 0, 0, 0, 1, 2, 0]\\nclass = Jupyter Notebook'),\n",
       " Text(0.5384615384615384, 0.125, 'gini = 0.307\\nsamples = 29\\nvalue = [0, 0, 0, 0, 0, 0, 0, 1, 24, 1, 0, 2, 1, 0]\\nclass = Python'),\n",
       " Text(0.8461538461538461, 0.625, 'substrate <= 0.036\\ngini = 0.643\\nsamples = 169\\nvalue = [0, 0, 3, 1, 6, 42, 0, 0, 1, 4, 0, 21, 89, 2]\\nclass = TypeScript'),\n",
       " Text(0.7692307692307693, 0.375, 'requirement <= 0.027\\ngini = 0.626\\nsamples = 165\\nvalue = [0, 0, 3, 1, 6, 42, 0, 0, 1, 0, 0, 21, 89, 2]\\nclass = TypeScript'),\n",
       " Text(0.6923076923076923, 0.125, 'gini = 0.601\\nsamples = 157\\nvalue = [0, 0, 2, 1, 6, 40, 0, 0, 1, 0, 0, 16, 89, 2]\\nclass = TypeScript'),\n",
       " Text(0.8461538461538461, 0.125, 'gini = 0.531\\nsamples = 8\\nvalue = [0, 0, 1, 0, 0, 2, 0, 0, 0, 0, 0, 5, 0, 0]\\nclass = Solidity'),\n",
       " Text(0.9230769230769231, 0.375, 'gini = 0.0\\nsamples = 4\\nvalue = [0, 0, 0, 0, 0, 0, 0, 0, 0, 4, 0, 0, 0, 0]\\nclass = Rust')]"
      ]
     },
     "execution_count": 15,
     "metadata": {},
     "output_type": "execute_result"
    },
    {
     "data": {
      "image/png": "[encoded data removed]",
      "text/plain": [
       "<Figure size 936x504 with 1 Axes>"
      ]
     },
     "metadata": {
      "needs_background": "light"
     },
     "output_type": "display_data"
    }
   ],
   "source": [
    "clf = DecisionTreeClassifier(max_depth=3, random_state=123)\n",
    "clf = clf.fit(X_train_df, y_train)\n",
    "\n",
    "plt.figure(figsize=(13, 7))\n",
    "plot_tree(clf, feature_names=X_train_df.columns, class_names=clf.classes_, rounded=True)"
   ]
  },
  {
   "cell_type": "code",
   "execution_count": 16,
   "id": "f7e55ecb",
   "metadata": {},
   "outputs": [
    {
     "name": "stdout",
     "output_type": "stream",
     "text": [
      "Accuracy of Decision Tree classifier on training set: 0.38\n"
     ]
    }
   ],
   "source": [
    "predictions['DT'] = clf.predict(X_train_df)\n",
    "\n",
    "\n",
    "print('Accuracy of Decision Tree classifier on training set: {:.2f}'\n",
    "      .format(clf.score(X_train_df, y_train)))\n",
    "predictions['DT'] = clf.score(X_train_df, y_train)"
   ]
  },
  {
   "cell_type": "code",
   "execution_count": 17,
   "id": "da4b08a8",
   "metadata": {},
   "outputs": [
    {
     "data": {
      "text/html": [
       "<div>\n",
       "<style scoped>\n",
       "    .dataframe tbody tr th:only-of-type {\n",
       "        vertical-align: middle;\n",
       "    }\n",
       "\n",
       "    .dataframe tbody tr th {\n",
       "        vertical-align: top;\n",
       "    }\n",
       "\n",
       "    .dataframe thead th {\n",
       "        text-align: right;\n",
       "    }\n",
       "</style>\n",
       "<table border=\"1\" class=\"dataframe\">\n",
       "  <thead>\n",
       "    <tr style=\"text-align: right;\">\n",
       "      <th></th>\n",
       "      <th>actual</th>\n",
       "      <th>baseline</th>\n",
       "      <th>DT</th>\n",
       "    </tr>\n",
       "  </thead>\n",
       "  <tbody>\n",
       "    <tr>\n",
       "      <th>31</th>\n",
       "      <td>Python</td>\n",
       "      <td>0.243351</td>\n",
       "      <td>0.381649</td>\n",
       "    </tr>\n",
       "    <tr>\n",
       "      <th>669</th>\n",
       "      <td>Solidity</td>\n",
       "      <td>0.243351</td>\n",
       "      <td>0.381649</td>\n",
       "    </tr>\n",
       "    <tr>\n",
       "      <th>17</th>\n",
       "      <td>Not Specified</td>\n",
       "      <td>0.243351</td>\n",
       "      <td>0.381649</td>\n",
       "    </tr>\n",
       "    <tr>\n",
       "      <th>737</th>\n",
       "      <td>TypeScript</td>\n",
       "      <td>0.243351</td>\n",
       "      <td>0.381649</td>\n",
       "    </tr>\n",
       "    <tr>\n",
       "      <th>55</th>\n",
       "      <td>Python</td>\n",
       "      <td>0.243351</td>\n",
       "      <td>0.381649</td>\n",
       "    </tr>\n",
       "  </tbody>\n",
       "</table>\n",
       "</div>"
      ],
      "text/plain": [
       "            actual  baseline        DT\n",
       "31          Python  0.243351  0.381649\n",
       "669       Solidity  0.243351  0.381649\n",
       "17   Not Specified  0.243351  0.381649\n",
       "737     TypeScript  0.243351  0.381649\n",
       "55          Python  0.243351  0.381649"
      ]
     },
     "execution_count": 17,
     "metadata": {},
     "output_type": "execute_result"
    }
   ],
   "source": [
    "predictions.head()"
   ]
  },
  {
   "cell_type": "markdown",
   "id": "a576f3b5",
   "metadata": {},
   "source": [
    "## Random Forest"
   ]
  },
  {
   "cell_type": "code",
   "execution_count": 18,
   "id": "7e9b3c50",
   "metadata": {},
   "outputs": [
    {
     "name": "stderr",
     "output_type": "stream",
     "text": [
      "/var/folders/nr/4dgzb75x0x5b5kl5610rvf340000gn/T/ipykernel_56333/3404696958.py:2: DataConversionWarning: A column-vector y was passed when a 1d array was expected. Please change the shape of y to (n_samples,), for example using ravel().\n",
      "  rf.fit(X_train_df, y_train)\n"
     ]
    },
    {
     "data": {
      "text/plain": [
       "RandomForestClassifier(max_depth=3, min_samples_leaf=3, random_state=123)"
      ]
     },
     "execution_count": 18,
     "metadata": {},
     "output_type": "execute_result"
    }
   ],
   "source": [
    "rf = RandomForestClassifier(max_depth=3, min_samples_leaf=3, random_state=123)\n",
    "rf.fit(X_train_df, y_train)"
   ]
  },
  {
   "cell_type": "code",
   "execution_count": 19,
   "id": "93ae46b1",
   "metadata": {},
   "outputs": [
    {
     "name": "stdout",
     "output_type": "stream",
     "text": [
      "Accuracy of random forest classifier on training set: 0.41\n"
     ]
    }
   ],
   "source": [
    "y_pred = rf.predict(X_train_df)\n",
    "y_pred_proba = rf.predict_proba(X_train_df)\n",
    "print('Accuracy of random forest classifier on training set: {:.2f}'\n",
    "     .format(rf.score(X_train_df, y_train)))\n",
    "\n",
    "predictions['RF'] = rf.score(X_train_df, y_train)"
   ]
  },
  {
   "cell_type": "code",
   "execution_count": 20,
   "id": "49b0c296",
   "metadata": {},
   "outputs": [
    {
     "data": {
      "text/html": [
       "<div>\n",
       "<style scoped>\n",
       "    .dataframe tbody tr th:only-of-type {\n",
       "        vertical-align: middle;\n",
       "    }\n",
       "\n",
       "    .dataframe tbody tr th {\n",
       "        vertical-align: top;\n",
       "    }\n",
       "\n",
       "    .dataframe thead th {\n",
       "        text-align: right;\n",
       "    }\n",
       "</style>\n",
       "<table border=\"1\" class=\"dataframe\">\n",
       "  <thead>\n",
       "    <tr style=\"text-align: right;\">\n",
       "      <th></th>\n",
       "      <th>actual</th>\n",
       "      <th>baseline</th>\n",
       "      <th>DT</th>\n",
       "      <th>RF</th>\n",
       "    </tr>\n",
       "  </thead>\n",
       "  <tbody>\n",
       "    <tr>\n",
       "      <th>31</th>\n",
       "      <td>Python</td>\n",
       "      <td>0.243351</td>\n",
       "      <td>0.381649</td>\n",
       "      <td>0.412234</td>\n",
       "    </tr>\n",
       "    <tr>\n",
       "      <th>669</th>\n",
       "      <td>Solidity</td>\n",
       "      <td>0.243351</td>\n",
       "      <td>0.381649</td>\n",
       "      <td>0.412234</td>\n",
       "    </tr>\n",
       "    <tr>\n",
       "      <th>17</th>\n",
       "      <td>Not Specified</td>\n",
       "      <td>0.243351</td>\n",
       "      <td>0.381649</td>\n",
       "      <td>0.412234</td>\n",
       "    </tr>\n",
       "    <tr>\n",
       "      <th>737</th>\n",
       "      <td>TypeScript</td>\n",
       "      <td>0.243351</td>\n",
       "      <td>0.381649</td>\n",
       "      <td>0.412234</td>\n",
       "    </tr>\n",
       "    <tr>\n",
       "      <th>55</th>\n",
       "      <td>Python</td>\n",
       "      <td>0.243351</td>\n",
       "      <td>0.381649</td>\n",
       "      <td>0.412234</td>\n",
       "    </tr>\n",
       "  </tbody>\n",
       "</table>\n",
       "</div>"
      ],
      "text/plain": [
       "            actual  baseline        DT        RF\n",
       "31          Python  0.243351  0.381649  0.412234\n",
       "669       Solidity  0.243351  0.381649  0.412234\n",
       "17   Not Specified  0.243351  0.381649  0.412234\n",
       "737     TypeScript  0.243351  0.381649  0.412234\n",
       "55          Python  0.243351  0.381649  0.412234"
      ]
     },
     "execution_count": 20,
     "metadata": {},
     "output_type": "execute_result"
    }
   ],
   "source": [
    "predictions.head()"
   ]
  },
  {
   "cell_type": "markdown",
   "id": "b28f177a",
   "metadata": {},
   "source": [
    "## 2nd Random forest"
   ]
  },
  {
   "cell_type": "code",
   "execution_count": 21,
   "id": "98385d2d",
   "metadata": {},
   "outputs": [
    {
     "name": "stderr",
     "output_type": "stream",
     "text": [
      "/var/folders/nr/4dgzb75x0x5b5kl5610rvf340000gn/T/ipykernel_56333/2673404818.py:2: DataConversionWarning: A column-vector y was passed when a 1d array was expected. Please change the shape of y to (n_samples,), for example using ravel().\n",
      "  rf2.fit(X_train_df, y_train)\n"
     ]
    },
    {
     "name": "stdout",
     "output_type": "stream",
     "text": [
      "Accuracy of random forest classifier on training set: 0.49\n"
     ]
    }
   ],
   "source": [
    "rf2 = RandomForestClassifier(max_depth=6, min_samples_leaf=3, random_state=123)\n",
    "rf2.fit(X_train_df, y_train)\n",
    "\n",
    "y_pred = rf2.predict(X_train_df)\n",
    "y_pred_proba = rf2.predict_proba(X_train_df)\n",
    "print('Accuracy of random forest classifier on training set: {:.2f}'\n",
    "     .format(rf2.score(X_train_df, y_train)))\n",
    "\n",
    "predictions['RF2'] = rf2.score(X_train_df, y_train)"
   ]
  },
  {
   "cell_type": "markdown",
   "id": "4bfa344c",
   "metadata": {},
   "source": [
    "## Testing on validate"
   ]
  },
  {
   "cell_type": "code",
   "execution_count": 22,
   "id": "81fcb79b",
   "metadata": {},
   "outputs": [],
   "source": [
    "# new df for validate predictions\n",
    "predictions_val = pd.DataFrame({ \n",
    "    'actual': y_validate.language\n",
    "})\n"
   ]
  },
  {
   "cell_type": "code",
   "execution_count": 23,
   "id": "44b28ee2",
   "metadata": {},
   "outputs": [],
   "source": [
    "# add baseline to predictions tables \n",
    "predictions_val['baseline'] = y_train[y_train['language'] == 'JavaScript'].shape[0] /y_train.shape[0]"
   ]
  },
  {
   "cell_type": "code",
   "execution_count": 24,
   "id": "958705f4",
   "metadata": {},
   "outputs": [
    {
     "name": "stdout",
     "output_type": "stream",
     "text": [
      "Accuracy of Decision Tree classifier on training set: 0.35\n"
     ]
    }
   ],
   "source": [
    "# decsion tree on validate\n",
    "\n",
    "predictions_val['DT_val'] = clf.predict(X_validate_df)\n",
    "\n",
    "\n",
    "print('Accuracy of Decision Tree classifier on training set: {:.2f}'\n",
    "      .format(clf.score(X_validate_df, y_validate)))\n",
    "predictions_val['DT_val'] = clf.score(X_validate_df, y_validate)"
   ]
  },
  {
   "cell_type": "code",
   "execution_count": 25,
   "id": "265535eb",
   "metadata": {},
   "outputs": [
    {
     "name": "stderr",
     "output_type": "stream",
     "text": [
      "/var/folders/nr/4dgzb75x0x5b5kl5610rvf340000gn/T/ipykernel_56333/3090225078.py:4: DataConversionWarning: A column-vector y was passed when a 1d array was expected. Please change the shape of y to (n_samples,), for example using ravel().\n",
      "  rf2.fit(X_validate_df, y_validate)\n"
     ]
    },
    {
     "name": "stdout",
     "output_type": "stream",
     "text": [
      "Accuracy of random forest classifier on training set: 0.73\n"
     ]
    }
   ],
   "source": [
    "# random forest on validate\n",
    "\n",
    "rf2 = RandomForestClassifier(max_depth=6, min_samples_leaf=3, random_state=123)\n",
    "rf2.fit(X_validate_df, y_validate)\n",
    "\n",
    "y_pred = rf2.predict(X_validate_df)\n",
    "y_pred_proba = rf2.predict_proba(X_validate_df)\n",
    "print('Accuracy of random forest classifier on training set: {:.2f}'\n",
    "     .format(rf2.score(X_validate_df, y_validate)))\n",
    "\n",
    "predictions_val['RF2_val'] = rf2.score(X_validate_df, y_validate)"
   ]
  },
  {
   "cell_type": "code",
   "execution_count": 26,
   "id": "fa827785",
   "metadata": {},
   "outputs": [
    {
     "data": {
      "text/html": [
       "<div>\n",
       "<style scoped>\n",
       "    .dataframe tbody tr th:only-of-type {\n",
       "        vertical-align: middle;\n",
       "    }\n",
       "\n",
       "    .dataframe tbody tr th {\n",
       "        vertical-align: top;\n",
       "    }\n",
       "\n",
       "    .dataframe thead th {\n",
       "        text-align: right;\n",
       "    }\n",
       "</style>\n",
       "<table border=\"1\" class=\"dataframe\">\n",
       "  <thead>\n",
       "    <tr style=\"text-align: right;\">\n",
       "      <th></th>\n",
       "      <th>actual</th>\n",
       "      <th>baseline</th>\n",
       "      <th>DT_val</th>\n",
       "      <th>RF2_val</th>\n",
       "    </tr>\n",
       "  </thead>\n",
       "  <tbody>\n",
       "    <tr>\n",
       "      <th>518</th>\n",
       "      <td>Solidity</td>\n",
       "      <td>0.243351</td>\n",
       "      <td>0.351064</td>\n",
       "      <td>0.734043</td>\n",
       "    </tr>\n",
       "    <tr>\n",
       "      <th>564</th>\n",
       "      <td>Not Specified</td>\n",
       "      <td>0.243351</td>\n",
       "      <td>0.351064</td>\n",
       "      <td>0.734043</td>\n",
       "    </tr>\n",
       "    <tr>\n",
       "      <th>8</th>\n",
       "      <td>TypeScript</td>\n",
       "      <td>0.243351</td>\n",
       "      <td>0.351064</td>\n",
       "      <td>0.734043</td>\n",
       "    </tr>\n",
       "    <tr>\n",
       "      <th>655</th>\n",
       "      <td>Python</td>\n",
       "      <td>0.243351</td>\n",
       "      <td>0.351064</td>\n",
       "      <td>0.734043</td>\n",
       "    </tr>\n",
       "    <tr>\n",
       "      <th>313</th>\n",
       "      <td>Vue</td>\n",
       "      <td>0.243351</td>\n",
       "      <td>0.351064</td>\n",
       "      <td>0.734043</td>\n",
       "    </tr>\n",
       "  </tbody>\n",
       "</table>\n",
       "</div>"
      ],
      "text/plain": [
       "            actual  baseline    DT_val   RF2_val\n",
       "518       Solidity  0.243351  0.351064  0.734043\n",
       "564  Not Specified  0.243351  0.351064  0.734043\n",
       "8       TypeScript  0.243351  0.351064  0.734043\n",
       "655         Python  0.243351  0.351064  0.734043\n",
       "313            Vue  0.243351  0.351064  0.734043"
      ]
     },
     "execution_count": 26,
     "metadata": {},
     "output_type": "execute_result"
    }
   ],
   "source": [
    "predictions_val.head()"
   ]
  },
  {
   "cell_type": "markdown",
   "id": "086e7708",
   "metadata": {},
   "source": [
    "Random forest with a max depth of 6 is the best preforming on validate so we will use it on test"
   ]
  },
  {
   "cell_type": "code",
   "execution_count": 27,
   "id": "06be78d2",
   "metadata": {},
   "outputs": [],
   "source": [
    "# new df for test predictions\n",
    "predictions_test = pd.DataFrame({ \n",
    "    'actual': y_test.language\n",
    "})\n"
   ]
  },
  {
   "cell_type": "code",
   "execution_count": 28,
   "id": "4675cfca",
   "metadata": {},
   "outputs": [
    {
     "name": "stderr",
     "output_type": "stream",
     "text": [
      "/var/folders/nr/4dgzb75x0x5b5kl5610rvf340000gn/T/ipykernel_56333/1791555903.py:4: DataConversionWarning: A column-vector y was passed when a 1d array was expected. Please change the shape of y to (n_samples,), for example using ravel().\n",
      "  rf2.fit(X_test_df, y_test)\n"
     ]
    },
    {
     "name": "stdout",
     "output_type": "stream",
     "text": [
      "Accuracy of random forest classifier on training set: 0.68\n"
     ]
    }
   ],
   "source": [
    "# random forest on test\n",
    "\n",
    "rf2 = RandomForestClassifier(max_depth=6, min_samples_leaf=3, random_state=123)\n",
    "rf2.fit(X_test_df, y_test)\n",
    "\n",
    "y_pred = rf2.predict(X_test_df)\n",
    "y_pred_proba = rf2.predict_proba(X_test_df)\n",
    "print('Accuracy of random forest classifier on training set: {:.2f}'\n",
    "     .format(rf2.score(X_test_df, y_test)))\n",
    "\n",
    "predictions_test['RF2_test'] = rf2.score(X_test_df, y_test)"
   ]
  },
  {
   "cell_type": "code",
   "execution_count": 31,
   "id": "b5055a5b",
   "metadata": {},
   "outputs": [
    {
     "data": {
      "text/html": [
       "<div>\n",
       "<style scoped>\n",
       "    .dataframe tbody tr th:only-of-type {\n",
       "        vertical-align: middle;\n",
       "    }\n",
       "\n",
       "    .dataframe tbody tr th {\n",
       "        vertical-align: top;\n",
       "    }\n",
       "\n",
       "    .dataframe thead th {\n",
       "        text-align: right;\n",
       "    }\n",
       "</style>\n",
       "<table border=\"1\" class=\"dataframe\">\n",
       "  <thead>\n",
       "    <tr style=\"text-align: right;\">\n",
       "      <th></th>\n",
       "      <th>actual</th>\n",
       "      <th>RF2_test</th>\n",
       "      <th>baseline</th>\n",
       "    </tr>\n",
       "  </thead>\n",
       "  <tbody>\n",
       "    <tr>\n",
       "      <th>1007</th>\n",
       "      <td>Python</td>\n",
       "      <td>0.684211</td>\n",
       "      <td>0.243351</td>\n",
       "    </tr>\n",
       "    <tr>\n",
       "      <th>774</th>\n",
       "      <td>Solidity</td>\n",
       "      <td>0.684211</td>\n",
       "      <td>0.243351</td>\n",
       "    </tr>\n",
       "    <tr>\n",
       "      <th>138</th>\n",
       "      <td>Solidity</td>\n",
       "      <td>0.684211</td>\n",
       "      <td>0.243351</td>\n",
       "    </tr>\n",
       "    <tr>\n",
       "      <th>812</th>\n",
       "      <td>HTML</td>\n",
       "      <td>0.684211</td>\n",
       "      <td>0.243351</td>\n",
       "    </tr>\n",
       "    <tr>\n",
       "      <th>533</th>\n",
       "      <td>Python</td>\n",
       "      <td>0.684211</td>\n",
       "      <td>0.243351</td>\n",
       "    </tr>\n",
       "  </tbody>\n",
       "</table>\n",
       "</div>"
      ],
      "text/plain": [
       "        actual  RF2_test  baseline\n",
       "1007    Python  0.684211  0.243351\n",
       "774   Solidity  0.684211  0.243351\n",
       "138   Solidity  0.684211  0.243351\n",
       "812       HTML  0.684211  0.243351\n",
       "533     Python  0.684211  0.243351"
      ]
     },
     "execution_count": 31,
     "metadata": {},
     "output_type": "execute_result"
    }
   ],
   "source": [
    "predictions_test.head()"
   ]
  },
  {
   "cell_type": "code",
   "execution_count": 30,
   "id": "d2e632d3",
   "metadata": {},
   "outputs": [],
   "source": [
    "predictions_test['baseline'] = y_train[y_train['language'] == 'JavaScript'].shape[0] /y_train.shape[0]"
   ]
  },
  {
   "cell_type": "code",
   "execution_count": null,
   "id": "6305c388",
   "metadata": {},
   "outputs": [],
   "source": []
  }
 ],
 "metadata": {
  "kernelspec": {
   "display_name": "Python 3 (ipykernel)",
   "language": "python",
   "name": "python3"
  },
  "language_info": {
   "codemirror_mode": {
    "name": "ipython",
    "version": 3
   },
   "file_extension": ".py",
   "mimetype": "text/x-python",
   "name": "python",
   "nbconvert_exporter": "python",
   "pygments_lexer": "ipython3",
   "version": "3.9.12"
  }
 },
 "nbformat": 4,
 "nbformat_minor": 5
}
