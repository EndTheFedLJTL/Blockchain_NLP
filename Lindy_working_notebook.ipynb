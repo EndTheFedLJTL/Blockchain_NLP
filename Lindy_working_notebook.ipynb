{
 "cells": [
  {
   "cell_type": "code",
   "execution_count": 1,
   "id": "6b6568f7",
   "metadata": {},
   "outputs": [],
   "source": [
    "import os\n",
    "import json\n",
    "from typing import Dict, List, Optional, Union, cast\n",
    "from env import github_token, github_username\n",
    "import acquire\n",
    "import pandas as pd\n",
    "import seaborn as sns\n",
    "import requests\n",
    "from bs4 import BeautifulSoup\n",
    "import regex as re\n",
    "import time\n",
    "import numpy as np\n",
    "import unicodedata\n",
    "import nltk\n",
    "from nltk.tokenize.toktok import ToktokTokenizer\n",
    "from nltk.corpus import stopwords\n",
    "from wordcloud import WordCloud\n"
   ]
  },
  {
   "cell_type": "code",
   "execution_count": null,
   "id": "d35419dc",
   "metadata": {},
   "outputs": [],
   "source": [
    "def create_urls(num=5000):\n",
    "    ''' this function scrapes the cryptography repositories from github and returns a list of urls\n",
    "    '''\n",
    "    num_of_repos=num\n",
    "\n",
    "    page_numbers = [i for i in range(0,101)]\n",
    "    print(page_numbers)\n",
    "    urls = [f'https://github.com/search?p={i}&q=%23defi&type=Repositories&per_page=100' for i in page_numbers]\n",
    "\n",
    "    print(urls)\n",
    "    return urls"
   ]
  },
  {
   "cell_type": "markdown",
   "id": "dc0320af",
   "metadata": {},
   "source": [
    "##### create_urls()"
   ]
  },
  {
   "cell_type": "code",
   "execution_count": null,
   "id": "ca41ae05",
   "metadata": {},
   "outputs": [],
   "source": [
    "def get_endpoints(url):\n",
    "    ''' This function gets the endpoints from the list of above urls\n",
    "    '''\n",
    "\n",
    "    headers = {\"Authorization\": f\"token {github_token}\", \"User-Agent\": github_username}\n",
    "    \n",
    "    while True:\n",
    "        response = requests.get(url, headers=headers)\n",
    "        if response.ok:\n",
    "            break\n",
    "        else:\n",
    "            print('sleeping')\n",
    "            time.sleep(20)\n",
    "            continue\n",
    "    soup = BeautifulSoup(response.text)\n",
    "    \n",
    "    print(response.ok)\n",
    "\n",
    "    endpoints = []\n",
    "    subgroups = soup.find_all('div', {\"class\":\"f4 text-normal\"})\n",
    "\n",
    "    for group in subgroups:\n",
    "        endpoints.append(re.search('href=\".*\"', str(group))[0][6:-1])\n",
    "\n",
    "    return endpoints"
   ]
  },
  {
   "cell_type": "code",
   "execution_count": null,
   "id": "b716252e",
   "metadata": {},
   "outputs": [],
   "source": [
    "get_endpoints('https://github.com/search?p=100&q=%23defi&type=Repositories&per_page=100')"
   ]
  },
  {
   "cell_type": "code",
   "execution_count": null,
   "id": "332a77e0",
   "metadata": {},
   "outputs": [],
   "source": [
    "def make_all_endpoints():\n",
    "    ''' This function returns all of the endpoints\n",
    "    '''\n",
    "    urls = create_urls()\n",
    "    for url in urls:\n",
    "        print(url)\n",
    "    all_endpoints = []\n",
    "\n",
    "    for i, page in enumerate(urls):\n",
    "        all_endpoints.append(get_endpoints(page))\n",
    "        print(page)\n",
    "\n",
    "    print(len(all_endpoints))\n",
    "\n",
    "    return all_endpoints"
   ]
  },
  {
   "cell_type": "code",
   "execution_count": null,
   "id": "f27af268",
   "metadata": {},
   "outputs": [],
   "source": [
    "make_all_endpoints()"
   ]
  },
  {
   "cell_type": "code",
   "execution_count": null,
   "id": "198dfe3f",
   "metadata": {},
   "outputs": [],
   "source": [
    "def acquire_endpoints():\n",
    "    ''' This function acquires all endpoints and writes them to a csv.\n",
    "    '''\n",
    "    our_endpoints = pd.Series(make_all_endpoints(), name='endpoints')\n",
    "    our_endpoints.to_csv('endpoints.csv', index=False)\n",
    "\n",
    "    return our_endpoints"
   ]
  },
  {
   "cell_type": "code",
   "execution_count": null,
   "id": "a8e43744",
   "metadata": {},
   "outputs": [],
   "source": [
    "x=acquire_endpoints()"
   ]
  },
  {
   "cell_type": "code",
   "execution_count": null,
   "id": "0216e4ff",
   "metadata": {},
   "outputs": [],
   "source": [
    "def flatten_endpoints():\n",
    "    ''' This function flattens a 2d array into a 1d array\n",
    "    '''\n",
    "    end_points = pd.read_csv('endpoints.csv')\n",
    "    all_values = []\n",
    "    for value in end_points.values:\n",
    "        for ep in value:\n",
    "            all_values.append(ep)\n",
    "\n",
    "    final_values = []\n",
    "    #print(all_values)\n",
    "    for value in all_values:\n",
    "        for val in value.split(\"'\"):\n",
    "            if len(val) > 3:\n",
    "                final_values.append(val)\n",
    "                print(val)\n",
    "\n",
    "    return pd.Series(final_values, name='endpoints')"
   ]
  },
  {
   "cell_type": "code",
   "execution_count": null,
   "id": "9c15be2f",
   "metadata": {},
   "outputs": [],
   "source": [
    "endpoints = flatten_endpoints()"
   ]
  },
  {
   "cell_type": "code",
   "execution_count": null,
   "id": "9976f54e",
   "metadata": {},
   "outputs": [],
   "source": [
    "REPOS = list(endpoints)"
   ]
  },
  {
   "cell_type": "code",
   "execution_count": null,
   "id": "3877f55c",
   "metadata": {},
   "outputs": [],
   "source": [
    "REPOS[5:]"
   ]
  },
  {
   "cell_type": "code",
   "execution_count": null,
   "id": "1762b7f2",
   "metadata": {},
   "outputs": [],
   "source": [
    "\n",
    "headers = {\"Authorization\": f\"token {github_token}\", \"User-Agent\": github_username}\n",
    "\n",
    "if headers[\"Authorization\"] == \"token \" or headers[\"User-Agent\"] == \"\":\n",
    "    raise Exception(\n",
    "        \"You need to follow the instructions marked TODO in this script before trying to use it\"\n",
    "    )\n",
    "\n",
    "\n",
    "def github_api_request(url: str) -> Union[List, Dict]:\n",
    "    ''' This function makes requests from github and raises an error code if a specific error code is received.\n",
    "    '''\n",
    "    response = requests.get(url, headers=headers)\n",
    "    response_data = response.json()\n",
    "    if response.status_code != 200:\n",
    "        raise Exception(\n",
    "            f\"Error response from github api! status code: {response.status_code}, \"\n",
    "            f\"response: {json.dumps(response_data)}\"\n",
    "        )\n",
    "    return response_data\n",
    "\n",
    "\n",
    "def get_repo_language(repo: str) -> str:\n",
    "    ''' This function fetches the language associated with a repository\n",
    "    '''\n",
    "    url = f\"https://api.github.com/repos{repo}\"\n",
    "    repo_info = github_api_request(url)\n",
    "    if type(repo_info) is dict:\n",
    "        repo_info = cast(Dict, repo_info)\n",
    "        if \"language\" not in repo_info:\n",
    "            raise Exception(\n",
    "                \"'language' key not round in response\\n{}\".format(json.dumps(repo_info))\n",
    "            )\n",
    "        return repo_info[\"language\"]\n",
    "    raise Exception(\n",
    "        f\"Expecting a dictionary response from {url}, instead got {json.dumps(repo_info)}\"\n",
    "    )\n",
    "\n",
    "def get_repo_contents(repo: str) -> List[Dict[str, str]]:\n",
    "    ''' This function fetches the contents associated with a repo\n",
    "    '''\n",
    "    url = f\"https://api.github.com/repos{REPOS}/contents/\"\n",
    "    contents = github_api_request(url)\n",
    "    if type(contents) is list:\n",
    "        contents = cast(List, contents)\n",
    "        return contents\n",
    "    raise Exception(\n",
    "        f\"Expecting a list response from {url}, instead got {json.dumps(contents)}\"\n",
    "    )\n",
    "\n",
    "def get_readme_download_url(files: List[Dict[str, str]]) -> str:\n",
    "    \"\"\"\n",
    "    Takes in a response from the github api that lists the files in a repo and\n",
    "    returns the url that can be used to download the repo's README file.\n",
    "    \"\"\"\n",
    "    for file in files:\n",
    "        if file[\"name\"].lower().startswith(\"readme\"):\n",
    "            return file[\"download_url\"]\n",
    "    return \"\"\n",
    "\n",
    "def process_repo(repo: str) -> Dict[str, str]:\n",
    "    \"\"\"\n",
    "    Takes a repo name like \"gocodeup/codeup-setup-script\" and returns a\n",
    "    dictionary with the language of the repo and the readme contents.\n",
    "    \"\"\"\n",
    "    contents = get_repo_contents(repo)\n",
    "    readme_download_url = get_readme_download_url(contents)\n",
    "    if readme_download_url == \"\":\n",
    "        readme_contents = \"\"\n",
    "    else:\n",
    "        response = requests.get(readme_download_url)\n",
    "        print(readme_download_url)\n",
    "        print(response.status_code)\n",
    "        readme_contents = requests.get(readme_download_url).text\n",
    "        \n",
    "    return {\n",
    "        \"repo\": repo,\n",
    "        \"language\": get_repo_language(repo),\n",
    "        \"readme_contents\": readme_contents,\n",
    "    }\n"
   ]
  },
  {
   "cell_type": "code",
   "execution_count": null,
   "id": "ceb85261",
   "metadata": {},
   "outputs": [],
   "source": [
    "def scrape_github_data() -> List[Dict[str, str]]:\n",
    "    \"\"\"\n",
    "    Loop through all of the repos and process them. Returns the processed data.\n",
    "    \"\"\"\n",
    "    \n",
    "    output = []\n",
    "    for repo in REPOS:\n",
    "        \n",
    "        url = f\"https://api.github.com/repos{repo}/contents/\"\n",
    "        print(repo)\n",
    "        response = requests.get(url, headers=headers)\n",
    "        \n",
    "        if response.status_code != 200:\n",
    "            print(f\"Skipping {repo} because its HTTP status code is {response.status_code}\")\n",
    "            continue\n",
    "        \n",
    "        contents = response.json()\n",
    "        readme_download_url = get_readme_download_url(contents)\n",
    "        \n",
    "        if readme_download_url == \"\":\n",
    "            readme_contents = \"\"\n",
    "        else:\n",
    "            response = requests.get(readme_download_url)\n",
    "            if response.status_code != 200:\n",
    "                print(f\"Skipping {repo} because its HTTP status code is {response.status_code}\")\n",
    "                continue\n",
    "            readme_contents = requests.get(readme_download_url).text\n",
    "        print(repo)\n",
    "        result = {\n",
    "            \"repo\": repo,\n",
    "            \"language\": get_repo_language(repo),\n",
    "            \"readme_contents\": readme_contents,\n",
    "        }\n",
    "    \n",
    "        output.append(result)\n",
    "        \n",
    "    return output"
   ]
  },
  {
   "cell_type": "code",
   "execution_count": null,
   "id": "8f3efaf9",
   "metadata": {},
   "outputs": [],
   "source": [
    "data = scrape_github_data()"
   ]
  },
  {
   "cell_type": "code",
   "execution_count": null,
   "id": "4c89cf25",
   "metadata": {},
   "outputs": [],
   "source": [
    "data[:5]"
   ]
  },
  {
   "cell_type": "code",
   "execution_count": null,
   "id": "57d64350",
   "metadata": {},
   "outputs": [],
   "source": [
    "import csv\n",
    "to_csv = data\n",
    "keys = to_csv[0].keys()\n",
    "\n",
    "with open('data.csv', 'w', newline='') as output_file:\n",
    "    dict_writer = csv.DictWriter(output_file, keys)\n",
    "    dict_writer.writeheader()\n",
    "    dict_writer.writerows(to_csv)"
   ]
  },
  {
   "cell_type": "code",
   "execution_count": 2,
   "id": "a4b0bae8",
   "metadata": {},
   "outputs": [
    {
     "data": {
      "text/html": [
       "<div>\n",
       "<style scoped>\n",
       "    .dataframe tbody tr th:only-of-type {\n",
       "        vertical-align: middle;\n",
       "    }\n",
       "\n",
       "    .dataframe tbody tr th {\n",
       "        vertical-align: top;\n",
       "    }\n",
       "\n",
       "    .dataframe thead th {\n",
       "        text-align: right;\n",
       "    }\n",
       "</style>\n",
       "<table border=\"1\" class=\"dataframe\">\n",
       "  <thead>\n",
       "    <tr style=\"text-align: right;\">\n",
       "      <th></th>\n",
       "      <th>repo</th>\n",
       "      <th>language</th>\n",
       "      <th>readme_contents</th>\n",
       "    </tr>\n",
       "  </thead>\n",
       "  <tbody>\n",
       "    <tr>\n",
       "      <th>0</th>\n",
       "      <td>/OffcierCia/DeFi-Developer-Road-Map</td>\n",
       "      <td>NaN</td>\n",
       "      <td># DeFi Developer Road Map\\n\\n**Here we collect...</td>\n",
       "    </tr>\n",
       "    <tr>\n",
       "      <th>1</th>\n",
       "      <td>/smartcontractkit/full-blockchain-solidity-cou...</td>\n",
       "      <td>NaN</td>\n",
       "      <td>&lt;!-- [YouTube Video](https://www.youtube.com/w...</td>\n",
       "    </tr>\n",
       "    <tr>\n",
       "      <th>2</th>\n",
       "      <td>/rainbow-me/rainbow</td>\n",
       "      <td>TypeScript</td>\n",
       "      <td>![](https://pbs.twimg.com/profile_banners/1103...</td>\n",
       "    </tr>\n",
       "    <tr>\n",
       "      <th>3</th>\n",
       "      <td>/Bytom/bytom</td>\n",
       "      <td>Go</td>\n",
       "      <td>Bytom\\n======\\n\\n[![Build Status](https://trav...</td>\n",
       "    </tr>\n",
       "    <tr>\n",
       "      <th>4</th>\n",
       "      <td>/DimensionDev/Maskbook</td>\n",
       "      <td>TypeScript</td>\n",
       "      <td>&lt;!-- cspell:disable --&gt;\\n&lt;!-- markdownlint-dis...</td>\n",
       "    </tr>\n",
       "  </tbody>\n",
       "</table>\n",
       "</div>"
      ],
      "text/plain": [
       "                                                repo    language  \\\n",
       "0                /OffcierCia/DeFi-Developer-Road-Map         NaN   \n",
       "1  /smartcontractkit/full-blockchain-solidity-cou...         NaN   \n",
       "2                                /rainbow-me/rainbow  TypeScript   \n",
       "3                                       /Bytom/bytom          Go   \n",
       "4                             /DimensionDev/Maskbook  TypeScript   \n",
       "\n",
       "                                     readme_contents  \n",
       "0  # DeFi Developer Road Map\\n\\n**Here we collect...  \n",
       "1  <!-- [YouTube Video](https://www.youtube.com/w...  \n",
       "2  ![](https://pbs.twimg.com/profile_banners/1103...  \n",
       "3  Bytom\\n======\\n\\n[![Build Status](https://trav...  \n",
       "4  <!-- cspell:disable -->\\n<!-- markdownlint-dis...  "
      ]
     },
     "execution_count": 2,
     "metadata": {},
     "output_type": "execute_result"
    }
   ],
   "source": [
    "df = pd.read_csv('data.csv') \n",
    "df.head()"
   ]
  },
  {
   "cell_type": "code",
   "execution_count": 3,
   "id": "ea633d18",
   "metadata": {},
   "outputs": [
    {
     "data": {
      "text/plain": [
       "JavaScript          239\n",
       "TypeScript          224\n",
       "Solidity            168\n",
       "Python               58\n",
       "Rust                 32\n",
       "HTML                 26\n",
       "Go                   25\n",
       "C++                  13\n",
       "CSS                  13\n",
       "Vue                  12\n",
       "Shell                12\n",
       "Jupyter Notebook     10\n",
       "C#                   10\n",
       "SCSS                  5\n",
       "Java                  4\n",
       "Kotlin                4\n",
       "Swift                 3\n",
       "Racket                2\n",
       "Elixir                2\n",
       "Clojure               2\n",
       "Scala                 1\n",
       "Dockerfile            1\n",
       "TeX                   1\n",
       "Haskell               1\n",
       "Ruby                  1\n",
       "Nim                   1\n",
       "Motoko                1\n",
       "Vyper                 1\n",
       "Cairo                 1\n",
       "Elm                   1\n",
       "PHP                   1\n",
       "Clarity               1\n",
       "Tcl                   1\n",
       "q                     1\n",
       "PLpgSQL               1\n",
       "Svelte                1\n",
       "Name: language, dtype: int64"
      ]
     },
     "execution_count": 3,
     "metadata": {},
     "output_type": "execute_result"
    }
   ],
   "source": [
    "df.language.value_counts()"
   ]
  },
  {
   "cell_type": "markdown",
   "id": "1f586179",
   "metadata": {},
   "source": [
    "### Prepare"
   ]
  },
  {
   "cell_type": "code",
   "execution_count": 4,
   "id": "7d731741",
   "metadata": {},
   "outputs": [
    {
     "data": {
      "text/plain": [
       "repo                 0\n",
       "language           130\n",
       "readme_contents     34\n",
       "dtype: int64"
      ]
     },
     "execution_count": 4,
     "metadata": {},
     "output_type": "execute_result"
    }
   ],
   "source": [
    "df.isnull().sum()"
   ]
  },
  {
   "cell_type": "code",
   "execution_count": 5,
   "id": "032ff80e",
   "metadata": {},
   "outputs": [
    {
     "data": {
      "text/plain": [
       "(1010, 3)"
      ]
     },
     "execution_count": 5,
     "metadata": {},
     "output_type": "execute_result"
    }
   ],
   "source": [
    "df.shape"
   ]
  },
  {
   "cell_type": "code",
   "execution_count": 6,
   "id": "9c7d792e",
   "metadata": {},
   "outputs": [
    {
     "data": {
      "text/plain": [
       "(851, 3)"
      ]
     },
     "execution_count": 6,
     "metadata": {},
     "output_type": "execute_result"
    }
   ],
   "source": [
    "df = df.dropna()\n",
    "df.shape"
   ]
  },
  {
   "cell_type": "code",
   "execution_count": 7,
   "id": "f5f4e3c1",
   "metadata": {},
   "outputs": [],
   "source": [
    "def basic_clean(string):\n",
    "    ''' Receives a string of text, processes it & then returns its normalized version.\n",
    "    Normalization via standard NKFD unicode, fed into an ASII encoder & decoded back into UTF-8.\n",
    "    '''\n",
    "    string = string.lower()\n",
    "    string = unicodedata.normalize('NFKD', string)\\\n",
    "    .encode('ascii', 'ignore')\\\n",
    "    .decode('utf-8', 'ignore')\n",
    "    string = re.sub(r\"[^a-z0-9'\\s]\", ' ', string)\n",
    "    return string"
   ]
  },
  {
   "cell_type": "code",
   "execution_count": 8,
   "id": "83302960",
   "metadata": {},
   "outputs": [
    {
     "data": {
      "text/html": [
       "<div>\n",
       "<style scoped>\n",
       "    .dataframe tbody tr th:only-of-type {\n",
       "        vertical-align: middle;\n",
       "    }\n",
       "\n",
       "    .dataframe tbody tr th {\n",
       "        vertical-align: top;\n",
       "    }\n",
       "\n",
       "    .dataframe thead th {\n",
       "        text-align: right;\n",
       "    }\n",
       "</style>\n",
       "<table border=\"1\" class=\"dataframe\">\n",
       "  <thead>\n",
       "    <tr style=\"text-align: right;\">\n",
       "      <th></th>\n",
       "      <th>repo</th>\n",
       "      <th>language</th>\n",
       "      <th>readme_contents</th>\n",
       "    </tr>\n",
       "  </thead>\n",
       "  <tbody>\n",
       "    <tr>\n",
       "      <th>2</th>\n",
       "      <td>/rainbow-me/rainbow</td>\n",
       "      <td>TypeScript</td>\n",
       "      <td>https   pbs twimg com profile banners 1103...</td>\n",
       "    </tr>\n",
       "    <tr>\n",
       "      <th>3</th>\n",
       "      <td>/Bytom/bytom</td>\n",
       "      <td>Go</td>\n",
       "      <td>bytom\\n      \\n\\n   build status  https   trav...</td>\n",
       "    </tr>\n",
       "    <tr>\n",
       "      <th>4</th>\n",
       "      <td>/DimensionDev/Maskbook</td>\n",
       "      <td>TypeScript</td>\n",
       "      <td>cspell disable    \\n     markdownlint dis...</td>\n",
       "    </tr>\n",
       "    <tr>\n",
       "      <th>5</th>\n",
       "      <td>/ccyanxyz/uniswap-arbitrage-analysis</td>\n",
       "      <td>Python</td>\n",
       "      <td>uniswap arbitrage analysis\\n\\n   see readme ...</td>\n",
       "    </tr>\n",
       "    <tr>\n",
       "      <th>6</th>\n",
       "      <td>/chainsulting/Smart-Contract-Security-Audits</td>\n",
       "      <td>HTML</td>\n",
       "      <td>smart contracts audits by chainsulting\\nsmar...</td>\n",
       "    </tr>\n",
       "  </tbody>\n",
       "</table>\n",
       "</div>"
      ],
      "text/plain": [
       "                                           repo    language  \\\n",
       "2                           /rainbow-me/rainbow  TypeScript   \n",
       "3                                  /Bytom/bytom          Go   \n",
       "4                        /DimensionDev/Maskbook  TypeScript   \n",
       "5          /ccyanxyz/uniswap-arbitrage-analysis      Python   \n",
       "6  /chainsulting/Smart-Contract-Security-Audits        HTML   \n",
       "\n",
       "                                     readme_contents  \n",
       "2      https   pbs twimg com profile banners 1103...  \n",
       "3  bytom\\n      \\n\\n   build status  https   trav...  \n",
       "4       cspell disable    \\n     markdownlint dis...  \n",
       "5    uniswap arbitrage analysis\\n\\n   see readme ...  \n",
       "6    smart contracts audits by chainsulting\\nsmar...  "
      ]
     },
     "execution_count": 8,
     "metadata": {},
     "output_type": "execute_result"
    }
   ],
   "source": [
    "df['readme_contents'] = df.readme_contents.apply(basic_clean)\n",
    "df.head()"
   ]
  },
  {
   "cell_type": "code",
   "execution_count": 9,
   "id": "6be7b1ce",
   "metadata": {},
   "outputs": [],
   "source": [
    "def tokenize(string):\n",
    "    tokenizer = nltk.tokenize.ToktokTokenizer()\n",
    "    string = tokenizer.tokenize(string, return_str=True)\n",
    "    return string"
   ]
  },
  {
   "cell_type": "code",
   "execution_count": 10,
   "id": "731ac7fb",
   "metadata": {},
   "outputs": [],
   "source": [
    "def lemmatize(string):\n",
    "    wnl = nltk.stem.WordNetLemmatizer()\n",
    "    lemmas = [wnl.lemmatize(word) for word in string.split()]\n",
    "    article_lemmatized = ' '.join(lemmas)\n",
    "\n",
    "    return article_lemmatized"
   ]
  },
  {
   "cell_type": "code",
   "execution_count": 11,
   "id": "20c44b55",
   "metadata": {},
   "outputs": [],
   "source": [
    "def remove_stopwords(string, extra_words=None, exclude_words=None):\n",
    "    \n",
    "    stopword_list = stopwords.words('english')\n",
    "    \n",
    "    if exclude_words:\n",
    "        \n",
    "        stopword_list = stopword_list + exclude_words\n",
    "        \n",
    "    if extra_words:\n",
    "        \n",
    "        for word in extra_words:\n",
    "            \n",
    "            stopword_list.remove(word)\n",
    "            \n",
    "    words = string.split()\n",
    "    \n",
    "    filtered_words = [word for word in words if word not in stopword_list]\n",
    "    \n",
    "    filtered_string = ' '.join(filtered_words)\n",
    "    \n",
    "    return filtered_string\n"
   ]
  },
  {
   "cell_type": "code",
   "execution_count": 12,
   "id": "64d3006d",
   "metadata": {},
   "outputs": [],
   "source": [
    "df['readme_contents'] = df.readme_contents.apply(tokenize).apply(lemmatize).apply(remove_stopwords)"
   ]
  },
  {
   "cell_type": "code",
   "execution_count": 13,
   "id": "e2a836c6",
   "metadata": {},
   "outputs": [],
   "source": [
    "df['word_count'] = df['readme_contents'].apply(lambda x : len(x.split()))"
   ]
  },
  {
   "cell_type": "code",
   "execution_count": 14,
   "id": "5c551e21",
   "metadata": {},
   "outputs": [
    {
     "data": {
      "text/html": [
       "<div>\n",
       "<style scoped>\n",
       "    .dataframe tbody tr th:only-of-type {\n",
       "        vertical-align: middle;\n",
       "    }\n",
       "\n",
       "    .dataframe tbody tr th {\n",
       "        vertical-align: top;\n",
       "    }\n",
       "\n",
       "    .dataframe thead th {\n",
       "        text-align: right;\n",
       "    }\n",
       "</style>\n",
       "<table border=\"1\" class=\"dataframe\">\n",
       "  <thead>\n",
       "    <tr style=\"text-align: right;\">\n",
       "      <th></th>\n",
       "      <th>repo</th>\n",
       "      <th>language</th>\n",
       "      <th>readme_contents</th>\n",
       "      <th>word_count</th>\n",
       "      <th>character_count</th>\n",
       "    </tr>\n",
       "  </thead>\n",
       "  <tbody>\n",
       "    <tr>\n",
       "      <th>2</th>\n",
       "      <td>/rainbow-me/rainbow</td>\n",
       "      <td>TypeScript</td>\n",
       "      <td>http pb twimg com profile banner 1103191459409...</td>\n",
       "      <td>326</td>\n",
       "      <td>1825</td>\n",
       "    </tr>\n",
       "    <tr>\n",
       "      <th>3</th>\n",
       "      <td>/Bytom/bytom</td>\n",
       "      <td>Go</td>\n",
       "      <td>bytom build status http travis ci org bytom by...</td>\n",
       "      <td>742</td>\n",
       "      <td>3859</td>\n",
       "    </tr>\n",
       "    <tr>\n",
       "      <th>4</th>\n",
       "      <td>/DimensionDev/Maskbook</td>\n",
       "      <td>TypeScript</td>\n",
       "      <td>cspell disable markdownlint disable inline htm...</td>\n",
       "      <td>471</td>\n",
       "      <td>2572</td>\n",
       "    </tr>\n",
       "    <tr>\n",
       "      <th>5</th>\n",
       "      <td>/ccyanxyz/uniswap-arbitrage-analysis</td>\n",
       "      <td>Python</td>\n",
       "      <td>uniswap arbitrage analysis see readme en pdf 0...</td>\n",
       "      <td>994</td>\n",
       "      <td>4263</td>\n",
       "    </tr>\n",
       "    <tr>\n",
       "      <th>6</th>\n",
       "      <td>/chainsulting/Smart-Contract-Security-Audits</td>\n",
       "      <td>HTML</td>\n",
       "      <td>smart contract audit chainsulting smart contra...</td>\n",
       "      <td>193</td>\n",
       "      <td>1154</td>\n",
       "    </tr>\n",
       "  </tbody>\n",
       "</table>\n",
       "</div>"
      ],
      "text/plain": [
       "                                           repo    language  \\\n",
       "2                           /rainbow-me/rainbow  TypeScript   \n",
       "3                                  /Bytom/bytom          Go   \n",
       "4                        /DimensionDev/Maskbook  TypeScript   \n",
       "5          /ccyanxyz/uniswap-arbitrage-analysis      Python   \n",
       "6  /chainsulting/Smart-Contract-Security-Audits        HTML   \n",
       "\n",
       "                                     readme_contents  word_count  \\\n",
       "2  http pb twimg com profile banner 1103191459409...         326   \n",
       "3  bytom build status http travis ci org bytom by...         742   \n",
       "4  cspell disable markdownlint disable inline htm...         471   \n",
       "5  uniswap arbitrage analysis see readme en pdf 0...         994   \n",
       "6  smart contract audit chainsulting smart contra...         193   \n",
       "\n",
       "   character_count  \n",
       "2             1825  \n",
       "3             3859  \n",
       "4             2572  \n",
       "5             4263  \n",
       "6             1154  "
      ]
     },
     "execution_count": 14,
     "metadata": {},
     "output_type": "execute_result"
    }
   ],
   "source": [
    "df['character_count'] = df['readme_contents'].apply(lambda x : len(x.replace(\" \",\"\")))\n",
    "df.head()"
   ]
  },
  {
   "cell_type": "code",
   "execution_count": 15,
   "id": "929135d6",
   "metadata": {},
   "outputs": [
    {
     "data": {
      "text/plain": [
       "repo               0\n",
       "language           0\n",
       "readme_contents    0\n",
       "word_count         0\n",
       "character_count    0\n",
       "dtype: int64"
      ]
     },
     "execution_count": 15,
     "metadata": {},
     "output_type": "execute_result"
    }
   ],
   "source": [
    "df.isnull().sum()"
   ]
  },
  {
   "cell_type": "code",
   "execution_count": null,
   "id": "b2966004",
   "metadata": {},
   "outputs": [],
   "source": []
  }
 ],
 "metadata": {
  "kernelspec": {
   "display_name": "Python 3 (ipykernel)",
   "language": "python",
   "name": "python3"
  },
  "language_info": {
   "codemirror_mode": {
    "name": "ipython",
    "version": 3
   },
   "file_extension": ".py",
   "mimetype": "text/x-python",
   "name": "python",
   "nbconvert_exporter": "python",
   "pygments_lexer": "ipython3",
   "version": "3.9.12"
  }
 },
 "nbformat": 4,
 "nbformat_minor": 5
}
